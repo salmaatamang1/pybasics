{
 "cells": [
  {
   "cell_type": "markdown",
   "id": "b0b4c004",
   "metadata": {},
   "source": [
    "## operator overloading\n",
    "\n",
    "\n"
   ]
  },
  {
   "cell_type": "code",
   "execution_count": 1,
   "id": "60969a34",
   "metadata": {},
   "outputs": [
    {
     "ename": "IndentationError",
     "evalue": "expected an indented block (824691611.py, line 2)",
     "output_type": "error",
     "traceback": [
      "\u001b[1;36m  File \u001b[1;32m\"C:\\Users\\LENOVO\\AppData\\Local\\Temp\\ipykernel_6224\\824691611.py\"\u001b[1;36m, line \u001b[1;32m2\u001b[0m\n\u001b[1;33m    def __init__(self,x=0,y=0):\u001b[0m\n\u001b[1;37m                               ^\u001b[0m\n\u001b[1;31mIndentationError\u001b[0m\u001b[1;31m:\u001b[0m expected an indented block\n"
     ]
    }
   ],
   "source": [
    "class Point:\n",
    "    def __init__(self,x=0,y=0):# when the class is invoked then init method is called it self\n",
    "        self.x=x\n",
    "        self.y=y\n",
    "        \n",
    "p1=Point(2,3)\n",
    "p2=Point(-1,2)\n",
    "#when we use different object there will be no overriding of value\n",
    "print(p1.x,p1.y)\n",
    "print(p2.x,p2.y)\n",
    "#when we try to add two object or any different data type then operator overloading case occurs\n",
    "#addition of two object create the resultant in form of an object\n",
    "#double underscore function will be called automatically\n",
    "#in operator overloading function there will be two reference so in __add__(self,other)\n",
    "#self takes the 1st passed parameter and othr reference take 2nd passed parameter value\n",
    "# note we will be using only two reference although there will be 3 or more than 3 objects initalization\n",
    "\n",
    "#when we call the object then __str() method will be called itself\n",
    "\n",
    "#when we want to have result in object format we have to use operator overloading concept"
   ]
  },
  {
   "cell_type": "code",
   "execution_count": 6,
   "id": "eda686f0",
   "metadata": {},
   "outputs": [
    {
     "name": "stdout",
     "output_type": "stream",
     "text": [
      "this is init method 2 3\n",
      "this is init method -1 2\n",
      "this is add method= 1 5\n",
      "this is init method 1 5\n",
      "this is str method 1 5\n",
      "(1,5)\n"
     ]
    }
   ],
   "source": [
    "class Point:\n",
    "    def __init__(self,x=0,y=0):\n",
    "        self.x=x\n",
    "        self.y=y\n",
    "        print(\"this is init method\",self.x,self.y)\n",
    "        \n",
    "    def __str__(self):\n",
    "        \n",
    "        print(\"this is str method\",self.x,self.y)\n",
    "        return(f\"({self.x},{self.y})\")\n",
    "        \n",
    "    \n",
    "    \n",
    "    def __add__(self,other):\n",
    "        x=self.x+other.x\n",
    "        y=self.y+other.y\n",
    "        print(\"this is add method=\",x,y)\n",
    "        \n",
    "        return Point(x,y)\n",
    "p1=Point(2,3)\n",
    "p2=Point(-1,2)\n",
    "print(p1+p2)\n",
    "        "
   ]
  },
  {
   "cell_type": "code",
   "execution_count": 7,
   "id": "41a28bc4",
   "metadata": {},
   "outputs": [
    {
     "name": "stdout",
     "output_type": "stream",
     "text": [
      "this is init method 2\n",
      "this is init method -1\n",
      "this is init method 5\n",
      "this is add method= 1\n",
      "this is init method 1\n",
      "this is add method= 6\n",
      "this is init method 6\n",
      "this is str method 6\n",
      "(6)\n"
     ]
    }
   ],
   "source": [
    "class Point:\n",
    "    def __init__(self,x=0):\n",
    "        self.x=x\n",
    "        print(\"this is init method\",self.x)\n",
    "        \n",
    "    def __str__(self):\n",
    "        \n",
    "        print(\"this is str method\",self.x)\n",
    "        return(f\"({self.x})\")\n",
    "        \n",
    "    \n",
    "    \n",
    "    def __add__(self,other):\n",
    "        x=self.x+other.x\n",
    "        print(\"this is add method=\",x)\n",
    "        \n",
    "        return Point(x)\n",
    "p1=Point(2)\n",
    "p2=Point(-1)\n",
    "p3=Point(5)\n",
    "print(p1+p2+p3)\n",
    "        "
   ]
  },
  {
   "cell_type": "code",
   "execution_count": 9,
   "id": "87532c5b",
   "metadata": {},
   "outputs": [
    {
     "name": "stdout",
     "output_type": "stream",
     "text": [
      "this is init method 2 3\n",
      "this is init method Ram Sita\n",
      "this is add method= 2Ram 3Sita\n",
      "this is init method 2Ram 3Sita\n",
      "this is str method 2Ram 3Sita\n",
      "(2Ram,3Sita)\n"
     ]
    }
   ],
   "source": [
    "class Point:\n",
    "    def __init__(self,x=0,y=0):\n",
    "        self.x=x\n",
    "        self.y=y\n",
    "        print(\"this is init method\",self.x,self.y)\n",
    "        \n",
    "    def __str__(self):\n",
    "        \n",
    "        print(\"this is str method\",self.x,self.y)\n",
    "        return(f\"({self.x},{self.y})\")\n",
    "        \n",
    "    \n",
    "    \n",
    "    def __add__(self,other):\n",
    "        \n",
    "        x=f\"{self.x}\"+other.x\n",
    "        y=f\"{self.y}\"+other.y\n",
    "        print(\"this is add method=\",x,y)\n",
    "        \n",
    "        return Point(x,y)\n",
    "p1=Point(2,3)\n",
    "p2=Point(\"Ram\",\"Sita\")\n",
    "print(p1+p2)\n",
    "        "
   ]
  },
  {
   "cell_type": "markdown",
   "id": "eca95d4d",
   "metadata": {},
   "source": [
    "## Polymerphism\n",
    "it is similar to pass by reference\n",
    "Here object as an argument is passed\n",
    "A concept of using common operation in different ways for different data type\n",
    "--> function=behaviour=method\n",
    "In orderto be polymerphism the name of fxn and its no of argument may or maynot be same\n",
    "Here common interference is made for pass by reference\n",
    "\n",
    "\n",
    "# python  3 oop build robust and design pattern in python 3.8\n",
    "blog median.com"
   ]
  },
  {
   "cell_type": "code",
   "execution_count": 12,
   "id": "d2f68d8e",
   "metadata": {},
   "outputs": [
    {
     "name": "stdout",
     "output_type": "stream",
     "text": [
      "Parrot can fly\n",
      "Parrot cannot swim\n",
      "(None, None)\n"
     ]
    }
   ],
   "source": [
    "class Parrot:\n",
    "    def fly(self):\n",
    "        print(\"Parrot can fly\")\n",
    "    def swim(self):\n",
    "        print(\"Parrot cannot swim\")\n",
    "        \n",
    "class Penguin:\n",
    "    def fly(self):\n",
    "        print(\"Penguin cannot fly\")\n",
    "    def swim(self):\n",
    "        print(\"Penguin can swim\")\n",
    "        \n",
    "#common interference \n",
    "def flying(bird):\n",
    "    return (bird.fly(),bird.swim())\n",
    "    \n",
    "blue=Parrot()\n",
    "peggy=Penguin()\n",
    "c=flying(blue)\n",
    "print(c)\n",
    "\n",
    "    "
   ]
  },
  {
   "cell_type": "markdown",
   "id": "f378ad20",
   "metadata": {},
   "source": [
    "## covid data scraping"
   ]
  }
 ],
 "metadata": {
  "kernelspec": {
   "display_name": "Python 3 (ipykernel)",
   "language": "python",
   "name": "python3"
  },
  "language_info": {
   "codemirror_mode": {
    "name": "ipython",
    "version": 3
   },
   "file_extension": ".py",
   "mimetype": "text/x-python",
   "name": "python",
   "nbconvert_exporter": "python",
   "pygments_lexer": "ipython3",
   "version": "3.9.13"
  }
 },
 "nbformat": 4,
 "nbformat_minor": 5
}
