{
 "cells": [
  {
   "cell_type": "code",
   "execution_count": null,
   "id": "159cad2c",
   "metadata": {},
   "outputs": [],
   "source": [
    "#file=open('<file-name>','<mode>')\n",
    "#file.close()\n",
    "#with open('<file-name>','<mode>')as file:\n",
    "# <operation>"
   ]
  },
  {
   "cell_type": "code",
   "execution_count": null,
   "id": "c09d93a3",
   "metadata": {},
   "outputs": [],
   "source": [
    "#mode\n",
    "#read->'r'\n",
    "# write->'w'\n",
    "# create->'x'\n",
    "# append->'a'"
   ]
  },
  {
   "cell_type": "code",
   "execution_count": 1,
   "id": "ad02a097",
   "metadata": {},
   "outputs": [],
   "source": [
    "file=open('file.txt','x')\n",
    "file.close()"
   ]
  },
  {
   "cell_type": "code",
   "execution_count": 2,
   "id": "a70b63c5",
   "metadata": {},
   "outputs": [
    {
     "name": "stdout",
     "output_type": "stream",
     "text": [
      "The file is already there\n"
     ]
    }
   ],
   "source": [
    "try:\n",
    "    file=open('file.txt','x')\n",
    "    file.close()\n",
    "except:# try bolck ko error catch garxa\n",
    "    print(\"The file is already there\")\n",
    "    "
   ]
  },
  {
   "cell_type": "code",
   "execution_count": 11,
   "id": "d5ac42d4",
   "metadata": {},
   "outputs": [
    {
     "name": "stdout",
     "output_type": "stream",
     "text": [
      "1.hello world\n",
      "2.Iam planet\n",
      "3.hello world\n",
      "4.Iam planet\n",
      "5.hello world\n",
      "6.Iam planet\n",
      "7.hello world\n",
      "8.Iam planet\n"
     ]
    }
   ],
   "source": [
    "file=open('file.txt','r')\n",
    "x=file.read()#syntax to read file\n",
    "print(x)\n",
    "file.close()"
   ]
  },
  {
   "cell_type": "code",
   "execution_count": 5,
   "id": "2c044cfe",
   "metadata": {},
   "outputs": [
    {
     "data": {
      "text/plain": [
       "str"
      ]
     },
     "execution_count": 5,
     "metadata": {},
     "output_type": "execute_result"
    }
   ],
   "source": [
    " type(x)"
   ]
  },
  {
   "cell_type": "code",
   "execution_count": 7,
   "id": "93be9243",
   "metadata": {},
   "outputs": [
    {
     "data": {
      "text/plain": [
       "'hello world\\nIam planet'"
      ]
     },
     "execution_count": 7,
     "metadata": {},
     "output_type": "execute_result"
    }
   ],
   "source": [
    "x\n"
   ]
  },
  {
   "cell_type": "code",
   "execution_count": 12,
   "id": "bfec12d4",
   "metadata": {},
   "outputs": [
    {
     "name": "stdout",
     "output_type": "stream",
     "text": [
      "['1.hello world', '2.Iam planet', '3.hello world', '4.Iam planet', '5.hello world', '6.Iam planet', '7.hello world', '8.Iam planet']\n"
     ]
    }
   ],
   "source": [
    "y=x.split('\\n')\n",
    "print(y)"
   ]
  },
  {
   "cell_type": "code",
   "execution_count": null,
   "id": "02065f4a",
   "metadata": {},
   "outputs": [],
   "source": [
    "#inorder to read txt file line by line we will use split function "
   ]
  },
  {
   "cell_type": "code",
   "execution_count": 13,
   "id": "0b94b3c4",
   "metadata": {},
   "outputs": [
    {
     "name": "stdout",
     "output_type": "stream",
     "text": [
      "Enter the line number=2\n"
     ]
    },
    {
     "data": {
      "text/plain": [
       "'2.Iam planet'"
      ]
     },
     "execution_count": 13,
     "metadata": {},
     "output_type": "execute_result"
    }
   ],
   "source": [
    "n=int(input('Enter the line number='))\n",
    "y[n-1]"
   ]
  },
  {
   "cell_type": "code",
   "execution_count": 14,
   "id": "f299ba68",
   "metadata": {},
   "outputs": [],
   "source": [
    "#to write in a file \n",
    "#in case of write and append mode the file will  be created itself\n",
    "#if file already exits then overwrite will take place for example if hello.txt already exist and there is content hello .Hello will be replace by hi\n",
    "file=open('hello.txt','w')\n",
    "file.write('hi ')\n",
    "file.close()"
   ]
  },
  {
   "cell_type": "code",
   "execution_count": 15,
   "id": "285fff0c",
   "metadata": {},
   "outputs": [
    {
     "name": "stdout",
     "output_type": "stream",
     "text": [
      "Enter the  no of item 2\n",
      "Enter product name=apple\n",
      "Enter the quantity of product=2\n",
      "Enter the price=200\n",
      "Enter product name=banana\n",
      "Enter the quantity of product=3\n",
      "Enter the price=230\n",
      "product name apple quantity 2 price 200 total is 400\n",
      "product name banana quantity 3 price 230 total is 690\n",
      "\n"
     ]
    }
   ],
   "source": [
    "bill=str()\n",
    "n=int(input(\"Enter the  no of item \"))\n",
    "for i in range(n):\n",
    "    product=input(\"Enter product name=\")\n",
    "    qty=int(input(\"Enter the quantity of product=\"))\n",
    "    price=int(input(\"Enter the price=\"))\n",
    "    total=price*qty\n",
    "    bill=bill+f\"product name {product} quantity {qty} price {price} total is {total}\\n\"\n",
    "print(bill)\n",
    "\n",
    "file=open('bill.txt','w')\n",
    "file.write(bill)\n",
    "file.close()"
   ]
  },
  {
   "cell_type": "code",
   "execution_count": 16,
   "id": "78e5b5f6",
   "metadata": {},
   "outputs": [
    {
     "name": "stdout",
     "output_type": "stream",
     "text": [
      "product name apple quantity 2 price 200 total is 400\n",
      "product name banana quantity 3 price 230 total is 690\n",
      "\n"
     ]
    }
   ],
   "source": [
    "file=open('bill.txt','r')\n",
    "x=file.read()\n",
    "print(x)\n",
    "file.close()#string form ma xa and "
   ]
  },
  {
   "cell_type": "code",
   "execution_count": 17,
   "id": "3fea6fab",
   "metadata": {},
   "outputs": [
    {
     "name": "stdout",
     "output_type": "stream",
     "text": [
      "[['product', 'name', 'apple', 'quantity', '2', 'price', '200', 'total', 'is', '400'], ['product', 'name', 'banana', 'quantity', '3', 'price', '230', 'total', 'is', '690']]\n"
     ]
    }
   ],
   "source": [
    "l=[]#use llist in side list to change string into int value\n",
    "a=x.split('\\n')[:-1]\n",
    "for i in a:\n",
    "    l.append(i.split())\n",
    "print(l)"
   ]
  },
  {
   "cell_type": "code",
   "execution_count": null,
   "id": "314f5b8e",
   "metadata": {},
   "outputs": [],
   "source": [
    "#limitation of files:\n",
    "a=x.split('\\n')[:-1]\n",
    "result[]\n",
    "for i in a:\n",
    "    y=i.split()\n",
    "    y[1]=int(y[1])#not complete\n"
   ]
  },
  {
   "cell_type": "code",
   "execution_count": 20,
   "id": "2adfe852",
   "metadata": {},
   "outputs": [
    {
     "name": "stdout",
     "output_type": "stream",
     "text": [
      "Enter the  no of item 3\n",
      "Enter product name=apple\n",
      "Enter the quantity of product=3\n",
      "Enter the price=200\n",
      "Enter product name=mango\n",
      "Enter the quantity of product=7\n",
      "Enter the price=200\n",
      "Enter product name=grapes\n",
      "Enter the quantity of product=3\n",
      "Enter the price=250\n",
      "apple, 3,200,600\n",
      "mango, 7,200,1400\n",
      "grapes, 3,250,750\n",
      "\n"
     ]
    }
   ],
   "source": [
    "bill=str()\n",
    "n=int(input(\"Enter the  no of item \"))\n",
    "for i in range(n):\n",
    "    product=input(\"Enter product name=\")\n",
    "    qty=int(input(\"Enter the quantity of product=\"))\n",
    "    price=int(input(\"Enter the price=\"))\n",
    "    total=price*qty\n",
    "    bill=bill+f\"{product}, {qty},{price},{total}\\n\"\n",
    "print(bill)\n",
    "\n",
    "file=open('bill.csv','w')#comma seperated values excel format\n",
    "\n",
    "file.write('product name,Quantity,Price,total\\n')#header of excel defined\n",
    "file.write(bill)\n",
    "file.close()"
   ]
  },
  {
   "cell_type": "code",
   "execution_count": null,
   "id": "276747c1",
   "metadata": {},
   "outputs": [],
   "source": []
  },
  {
   "cell_type": "code",
   "execution_count": 19,
   "id": "8d08d386",
   "metadata": {},
   "outputs": [
    {
     "data": {
      "text/plain": [
       "'C:\\\\Users\\\\LENOVO\\\\python530'"
      ]
     },
     "execution_count": 19,
     "metadata": {},
     "output_type": "execute_result"
    }
   ],
   "source": [
    "pwd\n"
   ]
  },
  {
   "cell_type": "code",
   "execution_count": null,
   "id": "a197c7c4",
   "metadata": {},
   "outputs": [],
   "source": [
    "#result printing in excel"
   ]
  },
  {
   "cell_type": "code",
   "execution_count": 23,
   "id": "858de775",
   "metadata": {},
   "outputs": [
    {
     "name": "stdout",
     "output_type": "stream",
     "text": [
      "  product name  Quantity  Price  total\n",
      "0        apple         3    200    600\n",
      "1        mango         7    200   1400\n",
      "2       grapes         3    250    750\n"
     ]
    }
   ],
   "source": [
    "import pandas as pd\n",
    "df=pd.read_csv('bill.csv')\n",
    "print(df)"
   ]
  },
  {
   "cell_type": "code",
   "execution_count": null,
   "id": "f7631c32",
   "metadata": {},
   "outputs": [],
   "source": [
    "#use of append line by line data entry\n",
    "#write overwrite where as append add the text "
   ]
  },
  {
   "cell_type": "code",
   "execution_count": 24,
   "id": "da411d3d",
   "metadata": {},
   "outputs": [
    {
     "data": {
      "text/plain": [
       "34"
      ]
     },
     "execution_count": 24,
     "metadata": {},
     "output_type": "execute_result"
    }
   ],
   "source": [
    "#shell 1\n",
    "\n",
    "file=open('new_bill.csv','a')#comma seperated values excel format\n",
    "file.write('product name,Quantity,Price,total\\n')#header of excel defined\n",
    "#only one time write garna ko lagi seperate cell use garako ho"
   ]
  },
  {
   "cell_type": "code",
   "execution_count": 26,
   "id": "ccb55db7",
   "metadata": {},
   "outputs": [
    {
     "name": "stdout",
     "output_type": "stream",
     "text": [
      "Enter the  no of item 3\n",
      "Enter product name=coke\n",
      "Enter the quantity of product=2\n",
      "Enter the price=70\n",
      "Enter product name=oats\n",
      "Enter the quantity of product=2\n",
      "Enter the price=550\n",
      "Enter product name=chia seed\n",
      "Enter the quantity of product=2\n",
      "Enter the price=250\n",
      "coke, 2,70,140\n",
      "oats, 2,550,1100\n",
      "chia seed, 2,250,500\n",
      "\n"
     ]
    },
    {
     "data": {
      "text/plain": [
       "53"
      ]
     },
     "execution_count": 26,
     "metadata": {},
     "output_type": "execute_result"
    }
   ],
   "source": [
    "#shell2 \n",
    "\n",
    "bill=str()\n",
    "n=int(input(\"Enter the  no of item \"))\n",
    "for i in range(n):\n",
    "    product=input(\"Enter product name=\")\n",
    "    qty=int(input(\"Enter the quantity of product=\"))\n",
    "    price=int(input(\"Enter the price=\"))\n",
    "    total=price*qty\n",
    "    bill=bill+f\"{product}, {qty},{price},{total}\\n\"\n",
    "print(bill)\n",
    "\n",
    "file.write(bill)\n"
   ]
  },
  {
   "cell_type": "code",
   "execution_count": 27,
   "id": "ced162f1",
   "metadata": {},
   "outputs": [],
   "source": [
    "#shell 3\n",
    "\n",
    "file.close()#close file at last"
   ]
  },
  {
   "cell_type": "code",
   "execution_count": 31,
   "id": "a2f02747",
   "metadata": {},
   "outputs": [
    {
     "name": "stdout",
     "output_type": "stream",
     "text": [
      "  product name  Quantity  Price  total\n",
      "0        apple         2    200    400\n",
      "1       banana         3    300    900\n",
      "2         coke         2     70    140\n",
      "3         oats         2    550   1100\n",
      "4    chia seed         2    250    500\n"
     ]
    }
   ],
   "source": [
    "import pandas as pd\n",
    "x=pd.read_csv('new_bill.csv')\n",
    "print(x)"
   ]
  },
  {
   "cell_type": "code",
   "execution_count": 4,
   "id": "13ce3c9c",
   "metadata": {},
   "outputs": [
    {
     "data": {
      "text/plain": [
       "49"
      ]
     },
     "execution_count": 4,
     "metadata": {},
     "output_type": "execute_result"
    }
   ],
   "source": [
    "#make data entry application at home\n",
    "file=open(\"marksheet.csv\",'a')\n",
    "file.write('Name of student,roll no,mark obtained,percentage\\n')"
   ]
  },
  {
   "cell_type": "code",
   "execution_count": 5,
   "id": "b0b45583",
   "metadata": {},
   "outputs": [
    {
     "name": "stdout",
     "output_type": "stream",
     "text": [
      "Enter the no of student2\n",
      "Enter student name=ram\n",
      "Enter student rollno=12\n",
      "Enter the marks obtained in WT=87\n",
      "Enter the marks obtained in c=89\n",
      "enter the marks obtained in dbms=90\n",
      "Enter student name=sita\n",
      "Enter student rollno=11\n",
      "Enter the marks obtained in WT=78\n",
      "Enter the marks obtained in c=89\n",
      "enter the marks obtained in dbms=87\n",
      "ram,12,266,88.66666666666666\n",
      "sita,11,254,84.66666666666666\n",
      "\n"
     ]
    },
    {
     "data": {
      "text/plain": [
       "59"
      ]
     },
     "execution_count": 5,
     "metadata": {},
     "output_type": "execute_result"
    }
   ],
   "source": [
    "n=int(input(\"Enter the no of student\"))\n",
    "result=str()\n",
    "for i in range(n):\n",
    "    name=input(\"Enter student name=\")\n",
    "    rollno=int(input(\"Enter student rollno=\"))\n",
    "    wt=int(input(\"Enter the marks obtained in WT=\"))\n",
    "    c=int(input(\"Enter the marks obtained in c=\"))\n",
    "    dbms=int(input(\"enter the marks obtained in dbms=\"))\n",
    "    total=wt+c+dbms\n",
    "    per=total*(1/3)\n",
    "    result+=f\"{name},{rollno},{total},{per}\\n\"\n",
    "print(result)    \n",
    "\n",
    "file.write(result)\n",
    "    \n",
    "    \n",
    "    "
   ]
  },
  {
   "cell_type": "code",
   "execution_count": 6,
   "id": "628fe4e8",
   "metadata": {},
   "outputs": [],
   "source": [
    "file.close()"
   ]
  },
  {
   "cell_type": "code",
   "execution_count": null,
   "id": "b2404a54",
   "metadata": {},
   "outputs": [],
   "source": []
  }
 ],
 "metadata": {
  "kernelspec": {
   "display_name": "Python 3 (ipykernel)",
   "language": "python",
   "name": "python3"
  },
  "language_info": {
   "codemirror_mode": {
    "name": "ipython",
    "version": 3
   },
   "file_extension": ".py",
   "mimetype": "text/x-python",
   "name": "python",
   "nbconvert_exporter": "python",
   "pygments_lexer": "ipython3",
   "version": "3.9.13"
  }
 },
 "nbformat": 4,
 "nbformat_minor": 5
}
