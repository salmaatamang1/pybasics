{
 "cells": [
  {
   "cell_type": "markdown",
   "id": "0786b1de",
   "metadata": {},
   "source": [
    "Access modifier:\n",
    "1.public-->public data can be used inside and outside the class\n",
    "2.protected-->data can be used by parent and child also but with in a class only not outside the class\n",
    "3.private---> can be used with in a decleared class only\n"
   ]
  },
  {
   "cell_type": "code",
   "execution_count": 1,
   "id": "13022fa5",
   "metadata": {},
   "outputs": [
    {
     "name": "stdout",
     "output_type": "stream",
     "text": [
      "Ram\n",
      "21\n",
      "patan\n"
     ]
    }
   ],
   "source": [
    "#public access modifier\n",
    "class Info:\n",
    "    def __init__(self,name,age,addr):\n",
    "        self.name=name\n",
    "        self.age=age\n",
    "        self.addr=addr\n",
    "        \n",
    "obj=Info(\"Ram\",21,\"patan\")\n",
    "print(obj.name)\n",
    "print(obj.age)\n",
    "print(obj.addr)"
   ]
  },
  {
   "cell_type": "code",
   "execution_count": 2,
   "id": "67e6338d",
   "metadata": {},
   "outputs": [
    {
     "ename": "AttributeError",
     "evalue": "'Info' object has no attribute 'name'",
     "output_type": "error",
     "traceback": [
      "\u001b[1;31m---------------------------------------------------------------------------\u001b[0m",
      "\u001b[1;31mAttributeError\u001b[0m                            Traceback (most recent call last)",
      "\u001b[1;32m~\\AppData\\Local\\Temp\\ipykernel_3952\\3498697005.py\u001b[0m in \u001b[0;36m<module>\u001b[1;34m\u001b[0m\n\u001b[0;32m      9\u001b[0m \u001b[1;33m\u001b[0m\u001b[0m\n\u001b[0;32m     10\u001b[0m \u001b[0mobj\u001b[0m\u001b[1;33m=\u001b[0m\u001b[0mInfo\u001b[0m\u001b[1;33m(\u001b[0m\u001b[1;34m\"Ram\"\u001b[0m\u001b[1;33m,\u001b[0m\u001b[1;36m21\u001b[0m\u001b[1;33m,\u001b[0m\u001b[1;34m\"patan\"\u001b[0m\u001b[1;33m)\u001b[0m\u001b[1;33m\u001b[0m\u001b[1;33m\u001b[0m\u001b[0m\n\u001b[1;32m---> 11\u001b[1;33m \u001b[0mprint\u001b[0m\u001b[1;33m(\u001b[0m\u001b[0mobj\u001b[0m\u001b[1;33m.\u001b[0m\u001b[0mname\u001b[0m\u001b[1;33m)\u001b[0m\u001b[1;33m\u001b[0m\u001b[1;33m\u001b[0m\u001b[0m\n\u001b[0m\u001b[0;32m     12\u001b[0m \u001b[0mprint\u001b[0m\u001b[1;33m(\u001b[0m\u001b[0mobj\u001b[0m\u001b[1;33m.\u001b[0m\u001b[0mage\u001b[0m\u001b[1;33m)\u001b[0m\u001b[1;33m\u001b[0m\u001b[1;33m\u001b[0m\u001b[0m\n\u001b[0;32m     13\u001b[0m \u001b[0mprint\u001b[0m\u001b[1;33m(\u001b[0m\u001b[0mobj\u001b[0m\u001b[1;33m.\u001b[0m\u001b[0maddr\u001b[0m\u001b[1;33m)\u001b[0m\u001b[1;33m\u001b[0m\u001b[1;33m\u001b[0m\u001b[0m\n",
      "\u001b[1;31mAttributeError\u001b[0m: 'Info' object has no attribute 'name'"
     ]
    }
   ],
   "source": [
    "#protected access modifier\n",
    "#we will use _name to make it protected access modifier\n",
    "\n",
    "class Info:\n",
    "    def __init__(self,name,age,addr):\n",
    "        self._name=name\n",
    "        self._age=age\n",
    "        self._addr=addr\n",
    "        \n",
    "obj=Info(\"Ram\",21,\"patan\")\n",
    "print(obj.name)\n",
    "print(obj.age)\n",
    "print(obj.addr)\n",
    "\n"
   ]
  },
  {
   "cell_type": "code",
   "execution_count": 3,
   "id": "57281ff5",
   "metadata": {},
   "outputs": [
    {
     "name": "stdout",
     "output_type": "stream",
     "text": [
      "Ram\n",
      "21\n",
      "patan\n"
     ]
    }
   ],
   "source": [
    "class Info:\n",
    "    def __init__(self,name,age,addr):\n",
    "        self._name=name\n",
    "        self._age=age\n",
    "        self._addr=addr\n",
    "        \n",
    "obj=Info(\"Ram\",21,\"patan\")\n",
    "print(obj._name)\n",
    "print(obj._age)\n",
    "print(obj._addr)\n",
    "#this is drawback of python in protected mode"
   ]
  },
  {
   "cell_type": "code",
   "execution_count": 5,
   "id": "d0a2dfdd",
   "metadata": {},
   "outputs": [
    {
     "ename": "AttributeError",
     "evalue": "'Info' object has no attribute '__name'",
     "output_type": "error",
     "traceback": [
      "\u001b[1;31m---------------------------------------------------------------------------\u001b[0m",
      "\u001b[1;31mAttributeError\u001b[0m                            Traceback (most recent call last)",
      "\u001b[1;32m~\\AppData\\Local\\Temp\\ipykernel_3952\\3062868375.py\u001b[0m in \u001b[0;36m<module>\u001b[1;34m\u001b[0m\n\u001b[0;32m      8\u001b[0m \u001b[1;33m\u001b[0m\u001b[0m\n\u001b[0;32m      9\u001b[0m \u001b[0mobj\u001b[0m\u001b[1;33m=\u001b[0m\u001b[0mInfo\u001b[0m\u001b[1;33m(\u001b[0m\u001b[1;34m\"Ram\"\u001b[0m\u001b[1;33m,\u001b[0m\u001b[1;36m21\u001b[0m\u001b[1;33m,\u001b[0m\u001b[1;34m\"patan\"\u001b[0m\u001b[1;33m)\u001b[0m\u001b[1;33m\u001b[0m\u001b[1;33m\u001b[0m\u001b[0m\n\u001b[1;32m---> 10\u001b[1;33m \u001b[0mprint\u001b[0m\u001b[1;33m(\u001b[0m\u001b[0mobj\u001b[0m\u001b[1;33m.\u001b[0m\u001b[0m__name\u001b[0m\u001b[1;33m)\u001b[0m\u001b[1;33m\u001b[0m\u001b[1;33m\u001b[0m\u001b[0m\n\u001b[0m\u001b[0;32m     11\u001b[0m \u001b[0mprint\u001b[0m\u001b[1;33m(\u001b[0m\u001b[0mobj\u001b[0m\u001b[1;33m.\u001b[0m\u001b[0m__age\u001b[0m\u001b[1;33m)\u001b[0m\u001b[1;33m\u001b[0m\u001b[1;33m\u001b[0m\u001b[0m\n\u001b[0;32m     12\u001b[0m \u001b[0mprint\u001b[0m\u001b[1;33m(\u001b[0m\u001b[0mobj\u001b[0m\u001b[1;33m.\u001b[0m\u001b[0m__addr\u001b[0m\u001b[1;33m)\u001b[0m\u001b[1;33m\u001b[0m\u001b[1;33m\u001b[0m\u001b[0m\n",
      "\u001b[1;31mAttributeError\u001b[0m: 'Info' object has no attribute '__name'"
     ]
    }
   ],
   "source": [
    "#private mode\n",
    "#to make any data private weuse __ double underscore\n",
    "class Info:\n",
    "    def __init__(self,name,age,addr):\n",
    "        self.__name=name\n",
    "        self.__age=age\n",
    "        self.__addr=addr\n",
    "        \n",
    "obj=Info(\"Ram\",21,\"patan\")\n",
    "print(obj.__name)\n",
    "print(obj.__age)\n",
    "print(obj.__addr)\n"
   ]
  },
  {
   "cell_type": "markdown",
   "id": "c411dc3d",
   "metadata": {},
   "source": [
    "## name membgling\n",
    "## return type fxn\n",
    "## super fxn\n",
    "\n",
    "privated data are converted into public mode"
   ]
  },
  {
   "cell_type": "code",
   "execution_count": 7,
   "id": "35b765ec",
   "metadata": {},
   "outputs": [
    {
     "name": "stdout",
     "output_type": "stream",
     "text": [
      "Ram\n",
      "21\n",
      "patan\n"
     ]
    }
   ],
   "source": [
    "#converting the private mode data into public mode\n",
    "class Info:\n",
    "    def __init__(self,name,age,addr):\n",
    "        self.__name=name\n",
    "        self.__age=age\n",
    "        self.__addr=addr\n",
    "        \n",
    "obj=Info(\"Ram\",21,\"patan\")\n",
    "print(obj._Info__name)\n",
    "print(obj._Info__age)\n",
    "print(obj._Info__addr)"
   ]
  },
  {
   "cell_type": "code",
   "execution_count": 2,
   "id": "0d6ee4bb",
   "metadata": {},
   "outputs": [
    {
     "name": "stdout",
     "output_type": "stream",
     "text": [
      "Enter the name=Ram\n",
      "Enter the age=21\n",
      "Enter the address=ktm\n"
     ]
    },
    {
     "ename": "AttributeError",
     "evalue": "'C' object has no attribute 'age'",
     "output_type": "error",
     "traceback": [
      "\u001b[1;31m---------------------------------------------------------------------------\u001b[0m",
      "\u001b[1;31mAttributeError\u001b[0m                            Traceback (most recent call last)",
      "\u001b[1;32m~\\AppData\\Local\\Temp\\ipykernel_6876\\825140463.py\u001b[0m in \u001b[0;36m<module>\u001b[1;34m\u001b[0m\n\u001b[0;32m     30\u001b[0m \u001b[1;33m\u001b[0m\u001b[0m\n\u001b[0;32m     31\u001b[0m \u001b[0mobj\u001b[0m\u001b[1;33m=\u001b[0m\u001b[0mC\u001b[0m\u001b[1;33m(\u001b[0m\u001b[0mname\u001b[0m\u001b[1;33m,\u001b[0m\u001b[0mage\u001b[0m\u001b[1;33m,\u001b[0m\u001b[0maddr\u001b[0m\u001b[1;33m)\u001b[0m\u001b[1;33m\u001b[0m\u001b[1;33m\u001b[0m\u001b[0m\n\u001b[1;32m---> 32\u001b[1;33m \u001b[0mobj\u001b[0m\u001b[1;33m.\u001b[0m\u001b[0mdisplay1\u001b[0m\u001b[1;33m(\u001b[0m\u001b[1;33m)\u001b[0m\u001b[1;33m\u001b[0m\u001b[1;33m\u001b[0m\u001b[0m\n\u001b[0m\u001b[0;32m     33\u001b[0m \u001b[0mobj\u001b[0m\u001b[1;33m.\u001b[0m\u001b[0minfo\u001b[0m\u001b[1;33m(\u001b[0m\u001b[1;33m)\u001b[0m\u001b[1;33m\u001b[0m\u001b[1;33m\u001b[0m\u001b[0m\n\u001b[0;32m     34\u001b[0m \u001b[0mobj\u001b[0m\u001b[1;33m.\u001b[0m\u001b[0minfo1\u001b[0m\u001b[1;33m(\u001b[0m\u001b[1;33m)\u001b[0m\u001b[1;33m\u001b[0m\u001b[1;33m\u001b[0m\u001b[0m\n",
      "\u001b[1;32m~\\AppData\\Local\\Temp\\ipykernel_6876\\825140463.py\u001b[0m in \u001b[0;36mdisplay1\u001b[1;34m(self)\u001b[0m\n\u001b[0;32m      4\u001b[0m \u001b[1;33m\u001b[0m\u001b[0m\n\u001b[0;32m      5\u001b[0m     \u001b[1;32mdef\u001b[0m \u001b[0mdisplay1\u001b[0m\u001b[1;33m(\u001b[0m\u001b[0mself\u001b[0m\u001b[1;33m)\u001b[0m\u001b[1;33m:\u001b[0m\u001b[1;33m\u001b[0m\u001b[1;33m\u001b[0m\u001b[0m\n\u001b[1;32m----> 6\u001b[1;33m         \u001b[0mprint\u001b[0m\u001b[1;33m(\u001b[0m\u001b[0mself\u001b[0m\u001b[1;33m.\u001b[0m\u001b[0mage\u001b[0m\u001b[1;33m)\u001b[0m\u001b[1;33m\u001b[0m\u001b[1;33m\u001b[0m\u001b[0m\n\u001b[0m\u001b[0;32m      7\u001b[0m         \u001b[0mprint\u001b[0m\u001b[1;33m(\u001b[0m\u001b[1;33m(\u001b[0m\u001b[0mself\u001b[0m\u001b[1;33m.\u001b[0m\u001b[0maddr\u001b[0m\u001b[1;33m)\u001b[0m\u001b[1;33m)\u001b[0m\u001b[1;31m# limitation of python in inheritance\u001b[0m\u001b[1;33m\u001b[0m\u001b[1;33m\u001b[0m\u001b[0m\n\u001b[0;32m      8\u001b[0m \u001b[1;33m\u001b[0m\u001b[0m\n",
      "\u001b[1;31mAttributeError\u001b[0m: 'C' object has no attribute 'age'"
     ]
    }
   ],
   "source": [
    "class A:\n",
    "    def __init__(self,age):\n",
    "        self.__age=age\n",
    "        \n",
    "    def display1(self):\n",
    "        print(self.age)#wrong \n",
    "        print(self.__age)#right \n",
    "        print((self.addr))# limitation of python in inheritance\n",
    "        \n",
    "class B:  \n",
    "    def __init__(self,addr):\n",
    "        self.addr=addr\n",
    "  \n",
    "    def info(self):\n",
    "        print(f\"Address={self.addr}\")  \n",
    "        print(f\"Age={self.age}\")\n",
    "        \n",
    "class C(A,B):\n",
    "    \n",
    "    def __init__(self,name,age,addr):\n",
    "        self.name=name\n",
    "        B.__init__(self,addr)\n",
    "        A.__init__(self,age)\n",
    "        \n",
    "    def info1(self):\n",
    "        print(f\"Name={self.name}.Age={self._A__age},Address={self.addr}\")\n",
    "    \n",
    "name=input(\"Enter the name=\")\n",
    "age=int(input(\"Enter the age=\"))\n",
    "addr=input(\"Enter the address=\")\n",
    "\n",
    "obj=C(name,age,addr)\n",
    "obj.display1()\n",
    "obj.info()\n",
    "obj.info1()"
   ]
  },
  {
   "cell_type": "code",
   "execution_count": 1,
   "id": "f86e81a5",
   "metadata": {},
   "outputs": [
    {
     "name": "stdout",
     "output_type": "stream",
     "text": [
      "Enter the name=ram\n",
      "Enter the age=21\n",
      "Hello world i am ('ram', 21) and I am ('ram', 21)\n",
      "('ram', 21)\n",
      "('ram', 21)\n"
     ]
    }
   ],
   "source": [
    "class A:\n",
    "    def __init__(self,name,age):\n",
    "        self.__name=name\n",
    "        self.__age=age\n",
    "        \n",
    "    def a(self):\n",
    "        return(self.__name,self.__age)\n",
    "               \n",
    "class B(A):  \n",
    "    def info(self):\n",
    "        print(f\"Hello world i am {super().a()} and I am {super().a()}\")\n",
    "        print(super().a())\n",
    "        print(A.a(self))\n",
    "        \n",
    "name=input('Enter the name=')\n",
    "age=int(input(\"Enter the age=\"))\n",
    "obj=B(name,age)\n",
    "obj.info()\n",
    "        "
   ]
  },
  {
   "cell_type": "code",
   "execution_count": null,
   "id": "a0b94b73",
   "metadata": {},
   "outputs": [],
   "source": []
  },
  {
   "cell_type": "code",
   "execution_count": null,
   "id": "d1b8e1e7",
   "metadata": {},
   "outputs": [],
   "source": []
  }
 ],
 "metadata": {
  "kernelspec": {
   "display_name": "Python 3 (ipykernel)",
   "language": "python",
   "name": "python3"
  },
  "language_info": {
   "codemirror_mode": {
    "name": "ipython",
    "version": 3
   },
   "file_extension": ".py",
   "mimetype": "text/x-python",
   "name": "python",
   "nbconvert_exporter": "python",
   "pygments_lexer": "ipython3",
   "version": "3.9.13"
  }
 },
 "nbformat": 4,
 "nbformat_minor": 5
}
