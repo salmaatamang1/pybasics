{
 "cells": [
  {
   "cell_type": "markdown",
   "id": "42e28e1a",
   "metadata": {},
   "source": [
    "try:\n",
    "in this block all the code are included where error might be occured\n",
    "except:\n",
    "it catches the all the error\n",
    "\n",
    "we cannot write any code between try and except block\n"
   ]
  },
  {
   "cell_type": "code",
   "execution_count": 2,
   "id": "5a9a5ba2",
   "metadata": {},
   "outputs": [
    {
     "name": "stdout",
     "output_type": "stream",
     "text": [
      "Enter the value of aa\n",
      "Value of a is not integer type\n"
     ]
    }
   ],
   "source": [
    "try:\n",
    "    a=int(input(\"Enter the value of a\"))\n",
    "except:\n",
    "    print(\"Value of a is not integer type\")\n",
    "    "
   ]
  },
  {
   "cell_type": "code",
   "execution_count": 4,
   "id": "d177302b",
   "metadata": {},
   "outputs": [
    {
     "name": "stdout",
     "output_type": "stream",
     "text": [
      "Enter the value of a=1\n",
      "Enter the value of b=2\n",
      "0.5\n"
     ]
    }
   ],
   "source": [
    "try:\n",
    "    a=int(input('Enter the value of a='))\n",
    "    b=int(input(\"Enter the value of b=\"))\n",
    "    c=a/b\n",
    "    print(c)\n",
    "except ValueError:\n",
    "    print(\"value should be interger\")\n",
    "except ZeroDivisionError:\n",
    "    print(\"the value of b shouldnot be 0\")"
   ]
  },
  {
   "cell_type": "code",
   "execution_count": 11,
   "id": "bcc3413a",
   "metadata": {},
   "outputs": [
    {
     "name": "stdout",
     "output_type": "stream",
     "text": [
      "Enter the value of a=2\n",
      "Enter the value of b=d\n",
      "value should be integer\n",
      "Enter the value of a=2\n",
      "Enter the value of b=3\n",
      "0.6666666666666666\n"
     ]
    }
   ],
   "source": [
    "def cal():\n",
    "    try:\n",
    "        a=int(input(\"Enter the value of a=\"))\n",
    "        b=int(input(\"Enter the value of b=\"))\n",
    "        c=a/b\n",
    "        print(c)\n",
    "    except ValueError:\n",
    "        print(\"value should be integer\")\n",
    "        cal()\n",
    "    except ZeroDivisionError:\n",
    "        print(\"b cannot be zero\")\n",
    "        cal()\n",
    "cal()        \n",
    "        \n",
    "\n",
    "       "
   ]
  },
  {
   "cell_type": "markdown",
   "id": "a9a1b1fb",
   "metadata": {},
   "source": [
    "Raising Exception\n",
    "Such type of exception occurs by programmer with intensionaly\n",
    "syntax:\n",
    "       raise Exception_name()"
   ]
  },
  {
   "cell_type": "code",
   "execution_count": 16,
   "id": "768283da",
   "metadata": {},
   "outputs": [
    {
     "name": "stdout",
     "output_type": "stream",
     "text": [
      "Enter the value of a=2\n",
      "Enter the value of b=0\n",
      "the value of b cannot be zero\n"
     ]
    }
   ],
   "source": [
    "a=int(input(\"Enter the value of a=\"))\n",
    "b=int(input(\"Enter the value of b=\"))\n",
    "try:\n",
    "    if b!=0:\n",
    "        c=a/b\n",
    "        print(c)\n",
    "    else:\n",
    "        raise ZeroDisionError\n",
    "except:\n",
    "    print(\"the value of b cannot be zero\")\n"
   ]
  },
  {
   "cell_type": "markdown",
   "id": "98c0f84d",
   "metadata": {},
   "source": [
    "bonous topic is remaining\n"
   ]
  },
  {
   "cell_type": "code",
   "execution_count": 17,
   "id": "8c50e788",
   "metadata": {},
   "outputs": [
    {
     "name": "stdout",
     "output_type": "stream",
     "text": [
      "Enter the value of a=1\n",
      "Enter the value of b=c\n",
      "a and b should be integer\n"
     ]
    }
   ],
   "source": [
    "try:\n",
    "    a=int(input(\"Enter the value of a=\"))\n",
    "    b=int(input(\"Enter the value of b=\"))\n",
    "    if b!=0:\n",
    "        c=a/b\n",
    "        print(c)\n",
    "    elif type(a)=='str' or type(b)=='str':\n",
    "        raise ValueError\n",
    "    else:\n",
    "        raise ZeroDivisionError\n",
    "except ValueError:\n",
    "    print(\"a and b should be integer\")\n",
    "except ZeroDivisionError:\n",
    "    print(\"b cannot be zero\")\n",
    "    \n",
    "    "
   ]
  },
  {
   "cell_type": "code",
   "execution_count": null,
   "id": "bd80ae6e",
   "metadata": {},
   "outputs": [],
   "source": []
  },
  {
   "cell_type": "markdown",
   "id": "bbeb2126",
   "metadata": {},
   "source": [
    "Assertion error-> syntax assert condition\n",
    "condition is true no error occur\n",
    "if condition is fallse error occurs"
   ]
  },
  {
   "cell_type": "code",
   "execution_count": 22,
   "id": "54556a9c",
   "metadata": {},
   "outputs": [
    {
     "name": "stdout",
     "output_type": "stream",
     "text": [
      "Enter the age=21\n",
      "Your age is 20+ you are accepted\n"
     ]
    }
   ],
   "source": [
    "age=int(input(\"Enter the age=\"))\n",
    "assert age>20\n",
    "print(\"Your age is 20+ you are accepted\")"
   ]
  },
  {
   "cell_type": "code",
   "execution_count": 23,
   "id": "6a4af731",
   "metadata": {},
   "outputs": [
    {
     "name": "stdout",
     "output_type": "stream",
     "text": [
      "Enter the age=12\n",
      "you are under age \n"
     ]
    }
   ],
   "source": [
    "try:\n",
    "    age=int(input(\"Enter the age=\"))\n",
    "    assert age>20\n",
    "    print(\"Your age is 20+ you are accepted\")\n",
    "except AssertionError:\n",
    "    print(\"you are under age \")"
   ]
  },
  {
   "cell_type": "code",
   "execution_count": null,
   "id": "075ef3fe",
   "metadata": {},
   "outputs": [],
   "source": []
  }
 ],
 "metadata": {
  "kernelspec": {
   "display_name": "Python 3 (ipykernel)",
   "language": "python",
   "name": "python3"
  },
  "language_info": {
   "codemirror_mode": {
    "name": "ipython",
    "version": 3
   },
   "file_extension": ".py",
   "mimetype": "text/x-python",
   "name": "python",
   "nbconvert_exporter": "python",
   "pygments_lexer": "ipython3",
   "version": "3.9.13"
  }
 },
 "nbformat": 4,
 "nbformat_minor": 5
}
