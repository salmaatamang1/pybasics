{
 "cells": [
  {
   "cell_type": "code",
   "execution_count": 1,
   "id": "b2ac8a79",
   "metadata": {},
   "outputs": [
    {
     "name": "stdout",
     "output_type": "stream",
     "text": [
      "hello world\n",
      "hello world\n",
      "hello world\n",
      "\n"
     ]
    }
   ],
   "source": [
    "#string\n",
    "a=\"hello world\\n\"\n",
    "print(a*3)"
   ]
  },
  {
   "cell_type": "code",
   "execution_count": 2,
   "id": "94cd2864",
   "metadata": {},
   "outputs": [
    {
     "name": "stdout",
     "output_type": "stream",
     "text": [
      "h\n"
     ]
    }
   ],
   "source": [
    "a=\"hello world\"\n",
    "print(a[0])"
   ]
  },
  {
   "cell_type": "code",
   "execution_count": 3,
   "id": "ed214f58",
   "metadata": {},
   "outputs": [
    {
     "name": "stdout",
     "output_type": "stream",
     "text": [
      "el ol a\n"
     ]
    }
   ],
   "source": [
    "a=\"hello world Iam python\"\n",
    "print(a[1:15:2])"
   ]
  },
  {
   "cell_type": "code",
   "execution_count": 5,
   "id": "fabe25bc",
   "metadata": {},
   "outputs": [
    {
     "name": "stdout",
     "output_type": "stream",
     "text": [
      "nhy \n"
     ]
    }
   ],
   "source": [
    "a=\"hello world I am python\"\n",
    "print(a[-1:-8:-2])"
   ]
  },
  {
   "cell_type": "code",
   "execution_count": 7,
   "id": "37654f23",
   "metadata": {},
   "outputs": [
    {
     "name": "stdout",
     "output_type": "stream",
     "text": [
      "hello world\n"
     ]
    }
   ],
   "source": [
    "a=\"hello world\"\n",
    "print(a[0:])"
   ]
  },
  {
   "cell_type": "code",
   "execution_count": 12,
   "id": "57da8036",
   "metadata": {},
   "outputs": [
    {
     "name": "stdout",
     "output_type": "stream",
     "text": [
      "hello world\n"
     ]
    }
   ],
   "source": [
    "a=\"hello world\"\n",
    "print(a[::])"
   ]
  },
  {
   "cell_type": "code",
   "execution_count": 8,
   "id": "d00d2776",
   "metadata": {},
   "outputs": [
    {
     "name": "stdout",
     "output_type": "stream",
     "text": [
      "11\n",
      "dlrow olleh\n"
     ]
    }
   ],
   "source": [
    "a=\"hello world\"\n",
    "l=len(a)\n",
    "print(l)\n",
    "print(a[-1:-l-1:-1])"
   ]
  },
  {
   "cell_type": "code",
   "execution_count": 9,
   "id": "f47c589f",
   "metadata": {},
   "outputs": [
    {
     "name": "stdout",
     "output_type": "stream",
     "text": [
      "hello world32\n"
     ]
    }
   ],
   "source": [
    "a=\"hello world\"\n",
    "b=32\n",
    "print(a+str(b))"
   ]
  },
  {
   "cell_type": "code",
   "execution_count": 10,
   "id": "159d61ce",
   "metadata": {},
   "outputs": [
    {
     "data": {
      "text/plain": [
       "'helloram Iam 23 and  I am from kathmandu'"
      ]
     },
     "execution_count": 10,
     "metadata": {},
     "output_type": "execute_result"
    }
   ],
   "source": [
    "#string formatting\n",
    "a=\"ram\"\n",
    "b=23\n",
    "c=\"kathmandu\"\n",
    "info=f\"hello{a} Iam {b} and  I am from {c}\"\n",
    "info"
   ]
  },
  {
   "cell_type": "code",
   "execution_count": 2,
   "id": "9fcacbda",
   "metadata": {},
   "outputs": [
    {
     "name": "stdout",
     "output_type": "stream",
     "text": [
      "Enter the  no of item 2\n",
      "Enter product name=apple\n",
      "Enter the quantity of product=2\n",
      "Enter the price=30\n",
      "Enter product name=oats\n",
      "Enter the quantity of product=2\n",
      "Enter the price=550\n",
      "product name apple quantity 2 price 30 total is 60\n",
      "product name oats quantity 2 price 550 total is 1100\n",
      "\n"
     ]
    }
   ],
   "source": [
    "#bill system\n",
    "bill=str()\n",
    "n=int(input(\"Enter the  no of item \"))\n",
    "for i in range(n):\n",
    "    product=input(\"Enter product name=\")\n",
    "    qty=int(input(\"Enter the quantity of product=\"))\n",
    "    price=int(input(\"Enter the price=\"))\n",
    "    total=price*qty\n",
    "    bill=bill+f\"product name {product} quantity {qty} price {price} total is {total}\\n\"\n",
    "print(bill)"
   ]
  },
  {
   "cell_type": "code",
   "execution_count": 2,
   "id": "bd6bd30a",
   "metadata": {},
   "outputs": [
    {
     "name": "stdout",
     "output_type": "stream",
     "text": [
      "Enter the range2\n",
      "Enter the nameram\n",
      "Enter the phone number98432567\n",
      "Enter the namesita\n",
      "Enter the phone number984100000\n",
      "name= ram\n",
      " phone number=98432567\n",
      "name= sita\n",
      " phone number=984100000\n",
      "\n"
     ]
    }
   ],
   "source": [
    "a=str()\n",
    "n=int(input(\"Enter the range\"))\n",
    "for i in range(n):\n",
    "    name=input(\"Enter the name\")\n",
    "    number=int(input(\"Enter the phone number\"))\n",
    "    a+=f\"name= {name}\\n phone number={number}\\n\"\n",
    "print(a)    "
   ]
  },
  {
   "cell_type": "code",
   "execution_count": 3,
   "id": "d9be2cb8",
   "metadata": {},
   "outputs": [
    {
     "name": "stdout",
     "output_type": "stream",
     "text": [
      "yes\n"
     ]
    }
   ],
   "source": [
    "a=\"hello world\n",
    "print(a[-1:0:-1])\n",
    "    \n",
    "a=\"ram sita hari rita\"\n",
    "if \"sita\" in a:\n",
    "    print(\"yes\")\n",
    "else:\n",
    "    print(\"no\")"
   ]
  },
  {
   "cell_type": "code",
   "execution_count": 4,
   "id": "59548e38",
   "metadata": {},
   "outputs": [
    {
     "name": "stdout",
     "output_type": "stream",
     "text": [
      "3\n"
     ]
    }
   ],
   "source": [
    "a=\"ram hari sita ram  ram\"\n",
    "print(a.count('ram'))"
   ]
  },
  {
   "cell_type": "code",
   "execution_count": 9,
   "id": "abe644c7",
   "metadata": {},
   "outputs": [
    {
     "name": "stdout",
     "output_type": "stream",
     "text": [
      "ram is bad girl \n"
     ]
    }
   ],
   "source": [
    "a=\"ram is bad boy \"\n",
    "print(a.replace('boy','girl'))"
   ]
  },
  {
   "cell_type": "code",
   "execution_count": 10,
   "id": "efb30252",
   "metadata": {},
   "outputs": [
    {
     "name": "stdout",
     "output_type": "stream",
     "text": [
      "RAM SITA\n",
      "ram sita\n"
     ]
    }
   ],
   "source": [
    "a='ram Sita'\n",
    "print(a.upper())\n",
    "print(a.lower())"
   ]
  },
  {
   "cell_type": "code",
   "execution_count": 1,
   "id": "23218de0",
   "metadata": {},
   "outputs": [
    {
     "name": "stdout",
     "output_type": "stream",
     "text": [
      "enter the nameRaM\n",
      "yes\n"
     ]
    }
   ],
   "source": [
    "name=input(\"enter the name\").lower()\n",
    "a=\"ram Sita hari Gita\".lower()\n",
    "if name in a:\n",
    "    print(\"yes\")\n",
    "else:\n",
    "    print(\"no\")"
   ]
  },
  {
   "cell_type": "code",
   "execution_count": 2,
   "id": "4d87b9f0",
   "metadata": {},
   "outputs": [
    {
     "name": "stdout",
     "output_type": "stream",
     "text": [
      "RAM ,HARI,SITA\n",
      "ram ,hari,sita\n"
     ]
    }
   ],
   "source": [
    "a='ram ,hari,sita'#string is immutable datatype\n",
    "print(a.upper())\n",
    "print(a)"
   ]
  },
  {
   "cell_type": "code",
   "execution_count": 3,
   "id": "b939df57",
   "metadata": {},
   "outputs": [
    {
     "name": "stdout",
     "output_type": "stream",
     "text": [
      "ram sita ram\n"
     ]
    }
   ],
   "source": [
    "a=\"hari sita hari\"\n",
    "print(a.replace('hari','ram'))"
   ]
  },
  {
   "cell_type": "code",
   "execution_count": 6,
   "id": "64505297",
   "metadata": {},
   "outputs": [
    {
     "name": "stdout",
     "output_type": "stream",
     "text": [
      "ram sita hari ram\n",
      "rama sita hari rama\n",
      "  sita hari  \n"
     ]
    }
   ],
   "source": [
    "#immutable\\\n",
    "a='ram sita hari ram'\n",
    "b=a.replace('ram',\"rama\")\n",
    "c=b.replace('rama',\" \")\n",
    "print(a)\n",
    "print(b)\n",
    "print(c)"
   ]
  },
  {
   "cell_type": "code",
   "execution_count": 7,
   "id": "07e3fbdd",
   "metadata": {},
   "outputs": [
    {
     "data": {
      "text/plain": [
       "['rama', 'hari', 'sita', 'krishna']"
      ]
     },
     "execution_count": 7,
     "metadata": {},
     "output_type": "execute_result"
    }
   ],
   "source": [
    "a=\"rama hari sita krishna\"\n",
    "a.split()"
   ]
  },
  {
   "cell_type": "code",
   "execution_count": 8,
   "id": "bd1cec0c",
   "metadata": {},
   "outputs": [
    {
     "data": {
      "text/plain": [
       "['r', 'm h', 'r-i sit', ' git', ' mit', '']"
      ]
     },
     "execution_count": 8,
     "metadata": {},
     "output_type": "execute_result"
    }
   ],
   "source": [
    "a='ram har-i sita gita mita'\n",
    "a.split('a')"
   ]
  },
  {
   "cell_type": "code",
   "execution_count": 11,
   "id": "7d040c25",
   "metadata": {},
   "outputs": [
    {
     "name": "stdout",
     "output_type": "stream",
     "text": [
      "23\n"
     ]
    }
   ],
   "source": [
    "a=['ram', 23 ,'ktm']\n",
    "print(a[1])"
   ]
  },
  {
   "cell_type": "code",
   "execution_count": 3,
   "id": "28b2cfb5",
   "metadata": {},
   "outputs": [
    {
     "name": "stdout",
     "output_type": "stream",
     "text": [
      "Enter the no of student2\n",
      "Enter Studebt name=Ram\n",
      "Enter the marks obtained in DSA=45\n",
      "Enter the marks obtained in CT=67\n",
      "Enter the marks obtained in WT=80\n",
      "Enter the marks obtained in C=56\n",
      "Enter Studebt name=Sita\n",
      "Enter the marks obtained in DSA=60\n",
      "Enter the marks obtained in CT=78\n",
      "Enter the marks obtained in WT=56\n",
      "Enter the marks obtained in C=78\n",
      "Student name=Ram\n",
      "marks obtained in DSA=45\n",
      "marks obtained in CT=67\n",
      "marks obtained in WT=80\n",
      "marks obtained in C=56\n",
      "Percentage=62.0\n",
      "Student name=Sita\n",
      "marks obtained in DSA=60\n",
      "marks obtained in CT=78\n",
      "marks obtained in WT=56\n",
      "marks obtained in C=78\n",
      "Percentage=68.0\n",
      "\n"
     ]
    }
   ],
   "source": [
    "#homework marksheet\n",
    "marksheet=str()\n",
    "n=int(input(\"Enter the no of student\"))\n",
    "for i in range(n):\n",
    "    name=input(\"Enter Studebt name=\")\n",
    "    DSA=int(input(\"Enter the marks obtained in DSA=\"))\n",
    "    CT=int(input(\"Enter the marks obtained in CT=\"))\n",
    "    WT=int(input(\"Enter the marks obtained in WT=\"))\n",
    "    C=int(input(\"Enter the marks obtained in C=\"))\n",
    "    sum=DSA+CT+WT+C\n",
    "    p=sum/4\n",
    "    marksheet+=f\"Student name={name}\\nmarks obtained in DSA={DSA}\\nmarks obtained in CT={CT}\\nmarks obtained in WT={WT}\\nmarks obtained in C={C}\\nPercentage={p}\\n\"\n",
    "print(marksheet)    \n",
    "    "
   ]
  },
  {
   "cell_type": "code",
   "execution_count": null,
   "id": "0db5d1b0",
   "metadata": {},
   "outputs": [],
   "source": []
  }
 ],
 "metadata": {
  "kernelspec": {
   "display_name": "Python 3 (ipykernel)",
   "language": "python",
   "name": "python3"
  },
  "language_info": {
   "codemirror_mode": {
    "name": "ipython",
    "version": 3
   },
   "file_extension": ".py",
   "mimetype": "text/x-python",
   "name": "python",
   "nbconvert_exporter": "python",
   "pygments_lexer": "ipython3",
   "version": "3.9.13"
  }
 },
 "nbformat": 4,
 "nbformat_minor": 5
}
