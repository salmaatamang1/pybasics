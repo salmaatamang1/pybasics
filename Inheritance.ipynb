{
 "cells": [
  {
   "cell_type": "markdown",
   "id": "ad1e39b5",
   "metadata": {},
   "source": [
    "# Inheritance\n",
    "-->It is the process of deriving the child class through parent class\n",
    "-->It promotes the reusability of a code\n",
    "Types of inheritance are:\n",
    "1.multi-level inheritance\n",
    "            class A-->class B--->class C  \n",
    "            syntax:\n",
    "            class A:\n",
    "                  -->initalization of value take place in both parent and child class\n",
    "            class B(A):\n",
    "            \n",
    "            class C(B):\n",
    "2.multiple inheritance\n",
    "           class A  class B\n",
    "                    \n",
    "                  class c\n",
    "        \n"
   ]
  },
  {
   "cell_type": "markdown",
   "id": "1b0ceaf6",
   "metadata": {},
   "source": [
    "Syntax of multilevel inheritance\n",
    "class A:\n",
    "    <operation>\n",
    "    \n",
    "class B(A):\n",
    "    <operation>\n",
    "\n",
    "    obj=B()# the object of a child class can be used to call all parent methods and arguments."
   ]
  },
  {
   "cell_type": "code",
   "execution_count": 7,
   "id": "ffad336b",
   "metadata": {},
   "outputs": [
    {
     "name": "stdout",
     "output_type": "stream",
     "text": [
      "Hello world i am Ram.I am 21 years\n",
      "Ram\n",
      "21\n"
     ]
    }
   ],
   "source": [
    "class A:\n",
    "    def __init__(self):\n",
    "        self.name=\"Ram\"\n",
    "        self.age=21\n",
    "    \n",
    "    def a(self):\n",
    "        print(self.name)\n",
    "        print(self.age)\n",
    "        \n",
    "class B(A):        \n",
    "        def display(self):\n",
    "            print(f\"Hello world i am {self.name}.I am {self.age} years\")\n",
    "            \n",
    "obj=B() #when the class is initalized the __init__() method will run\n",
    "obj.display()                 \n",
    "obj.a()"
   ]
  },
  {
   "cell_type": "code",
   "execution_count": 3,
   "id": "1764d521",
   "metadata": {},
   "outputs": [
    {
     "name": "stdout",
     "output_type": "stream",
     "text": [
      "Enter the name=Ram\n",
      "Enter the age=21\n",
      "Hello world i am Ram and I am 21\n"
     ]
    }
   ],
   "source": [
    "class A:\n",
    "    def __init__(self,name,age):\n",
    "        self.name=name\n",
    "        self.age=age\n",
    "        \n",
    "    def a(self):\n",
    "        print(self.name,self.age)\n",
    "               \n",
    "class B(A):  \n",
    "    def info(self):\n",
    "        print(f\"Hello world i am {self.name} and I am {self.age}\")\n",
    "        \n",
    "name=input('Enter the name=')\n",
    "age=int(input(\"Enter the age=\"))\n",
    "obj=B(name,age)\n",
    "obj.info()\n",
    "        \n",
    "        "
   ]
  },
  {
   "cell_type": "code",
   "execution_count": 5,
   "id": "8dd9b512",
   "metadata": {},
   "outputs": [
    {
     "name": "stdout",
     "output_type": "stream",
     "text": [
      "Enter the name=Sita\n",
      "Enter the age=22\n",
      "Hello world I am Sita and I am 22\n"
     ]
    }
   ],
   "source": [
    "class A:\n",
    "    def __init__(self,age):\n",
    "        self.age=age\n",
    "        \n",
    "    def a(self):\n",
    "        print(self.age)\n",
    "               \n",
    "class B(A):  \n",
    "    \n",
    "    def __init__(self,name,age):# constructor should be inheritated in child class also though its parameter are use or not.\n",
    "        self.name=name\n",
    "        A.__init__(self,age) #this indicate that the age should be initalized by parent class \n",
    "        #calling of init() function of parent class\n",
    "    \n",
    "    def info(self):\n",
    "        print(f\"Hello world I am {self.name} and I am {self.age}\")\n",
    "        \n",
    "name=input('Enter the name=')\n",
    "age=int(input(\"Enter the age=\"))\n",
    "\n",
    "obj=B(name,age)\n",
    "obj.info()"
   ]
  },
  {
   "cell_type": "markdown",
   "id": "08e72a47",
   "metadata": {},
   "source": [
    "### Types of Inheritance:\n",
    "there are two types of inheritance they are :\n",
    "1.multilevel Inheritance\n",
    "2.multiple inheritance\n",
    "\n",
    "1.multilevel Inheritance\n",
    "\n",
    "syntax:\n",
    "\n",
    " class A:\n",
    "       <operation>\n",
    " class B(A):\n",
    "       <operation>\n",
    " class C(B):\n",
    "        <operation>\n",
    " \n",
    "  obj=C()\n",
    "            \n",
    "\n",
    " 2.Multiple Inheritance\n",
    "syntax:\n",
    "class A:\n",
    "     <operation>\n",
    "class B:\n",
    "     <operation>\n",
    "class C(A,B):         \n"
   ]
  },
  {
   "cell_type": "code",
   "execution_count": null,
   "id": "eadb1c91",
   "metadata": {},
   "outputs": [],
   "source": [
    "#example of multilevel inheritance\n",
    "class A:\n",
    "    def __init__(self,age):\n",
    "        self.age=age\n",
    "    def display1(self):\n",
    "        print(self.age)\n",
    "        print(self.addr)\n",
    "        \n",
    "class B(A):  \n",
    "    def __init__(self,age,addr):\n",
    "        self.addr=addr\n",
    "        A.__init__(self,age)\n",
    "        \n",
    "    def info(self):\n",
    "        print(f\"Address={self.addr}.Age={self.age} \")  \n",
    "        \n",
    "class C(B):\n",
    "    def __init__(self,name,age,addr):\n",
    "        self.name=name\n",
    "        B.__init__(self,age,addr)\n",
    "    \n",
    "name=input(\"Enter the name=\")\n",
    "age=int(input(\"Enter the age=\"))\n",
    "addr=input(\"Enter the address=\")\n",
    "\n",
    "obj=C(name,age,addr)\n",
    "obj.display1()\n",
    "obj.info()\n",
    "    \n",
    "    "
   ]
  },
  {
   "cell_type": "code",
   "execution_count": 2,
   "id": "e7480aad",
   "metadata": {},
   "outputs": [
    {
     "name": "stdout",
     "output_type": "stream",
     "text": [
      "Enter the name=Ram\n",
      "Enter the age=21\n",
      "Enter the address=ktm\n",
      "21\n",
      "ktm\n",
      "Address=ktm\n",
      "Name=Ram.Age=21,Address=ktm\n"
     ]
    }
   ],
   "source": [
    "class A:\n",
    "    def __init__(self,age):\n",
    "        self.age=age\n",
    "        \n",
    "    def display1(self):\n",
    "        print(self.age)\n",
    "        print((self.addr))# limitation of python in inheritance\n",
    "        \n",
    "class B:  \n",
    "    def __init__(self,addr):\n",
    "        self.addr=addr\n",
    "  \n",
    "    def info(self):\n",
    "        print(f\"Address={self.addr}\")  \n",
    "        \n",
    "class C(A,B):\n",
    "    \n",
    "    def __init__(self,name,age,addr):\n",
    "        self.name=name\n",
    "        B.__init__(self,addr)\n",
    "        A.__init__(self,age)\n",
    "        \n",
    "    def info1(self):\n",
    "        print(f\"Name={self.name}.Age={self.age},Address={self.addr}\")\n",
    "    \n",
    "name=input(\"Enter the name=\")\n",
    "age=int(input(\"Enter the age=\"))\n",
    "addr=input(\"Enter the address=\")\n",
    "\n",
    "obj=C(name,age,addr)\n",
    "obj.display1()\n",
    "obj.info()\n",
    "obj.info1()\n",
    "    "
   ]
  },
  {
   "cell_type": "code",
   "execution_count": null,
   "id": "480ce823",
   "metadata": {},
   "outputs": [],
   "source": []
  }
 ],
 "metadata": {
  "kernelspec": {
   "display_name": "Python 3 (ipykernel)",
   "language": "python",
   "name": "python3"
  },
  "language_info": {
   "codemirror_mode": {
    "name": "ipython",
    "version": 3
   },
   "file_extension": ".py",
   "mimetype": "text/x-python",
   "name": "python",
   "nbconvert_exporter": "python",
   "pygments_lexer": "ipython3",
   "version": "3.9.13"
  }
 },
 "nbformat": 4,
 "nbformat_minor": 5
}
