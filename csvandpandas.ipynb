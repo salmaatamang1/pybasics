{
 "cells": [
  {
   "cell_type": "code",
   "execution_count": 1,
   "id": "c9246411",
   "metadata": {},
   "outputs": [],
   "source": [
    "try:\n",
    "    file=open('data.csv','x')\n",
    "    file.close()\n",
    "except:\n",
    "    print(\"Already exist file\")"
   ]
  },
  {
   "cell_type": "code",
   "execution_count": 2,
   "id": "2ddfc2ab",
   "metadata": {},
   "outputs": [
    {
     "name": "stdout",
     "output_type": "stream",
     "text": [
      "sn,name,age,address,phone\n",
      "1,Ram,20,ktm,9841000000\n",
      "2,Sita,19,patan,9842315678\n",
      "3,Shyam,21,bkth,8942312345\n",
      "4,Gita,18,chitwan,9841111123\n",
      "5,Sagar,22,lalitpur,98411234509\n",
      "6,Sabita,23,boudha,9865023145\n",
      "7,Renu,22,biratnagar,9843137580\n"
     ]
    }
   ],
   "source": [
    "file=open('data.csv','r')\n",
    "x=file.read()\n",
    "print(x)\n",
    "file.close()"
   ]
  },
  {
   "cell_type": "markdown",
   "id": "180ded1d",
   "metadata": {},
   "source": [
    "1st represent the cloumn name and other as rows\n"
   ]
  },
  {
   "cell_type": "code",
   "execution_count": 11,
   "id": "e4fe0885",
   "metadata": {},
   "outputs": [
    {
     "name": "stdout",
     "output_type": "stream",
     "text": [
      "   sn    name  age     address        phone\n",
      "0   1     Ram   20         ktm   9841000000\n",
      "1   2    Sita   19       patan   9842315678\n",
      "2   3   Shyam   21        bkth   8942312345\n",
      "3   4    Gita   18     chitwan   9841111123\n",
      "4   5   Sagar   22    lalitpur  98411234509\n",
      "5   6  Sabita   23      boudha   9865023145\n",
      "6   7    Renu   22  biratnagar   9843137580\n"
     ]
    }
   ],
   "source": [
    "import pandas as pd\n",
    "df = pd.read_csv('data.csv')\n",
    "print(df)"
   ]
  },
  {
   "cell_type": "code",
   "execution_count": 5,
   "id": "78704cc0",
   "metadata": {},
   "outputs": [
    {
     "data": {
      "text/html": [
       "<div>\n",
       "<style scoped>\n",
       "    .dataframe tbody tr th:only-of-type {\n",
       "        vertical-align: middle;\n",
       "    }\n",
       "\n",
       "    .dataframe tbody tr th {\n",
       "        vertical-align: top;\n",
       "    }\n",
       "\n",
       "    .dataframe thead th {\n",
       "        text-align: right;\n",
       "    }\n",
       "</style>\n",
       "<table border=\"1\" class=\"dataframe\">\n",
       "  <thead>\n",
       "    <tr style=\"text-align: right;\">\n",
       "      <th></th>\n",
       "      <th>sn</th>\n",
       "      <th>name</th>\n",
       "      <th>age</th>\n",
       "      <th>address</th>\n",
       "      <th>phone</th>\n",
       "    </tr>\n",
       "  </thead>\n",
       "  <tbody>\n",
       "    <tr>\n",
       "      <th>0</th>\n",
       "      <td>1</td>\n",
       "      <td>Ram</td>\n",
       "      <td>20</td>\n",
       "      <td>ktm</td>\n",
       "      <td>9841000000</td>\n",
       "    </tr>\n",
       "    <tr>\n",
       "      <th>1</th>\n",
       "      <td>2</td>\n",
       "      <td>Sita</td>\n",
       "      <td>19</td>\n",
       "      <td>patan</td>\n",
       "      <td>9842315678</td>\n",
       "    </tr>\n",
       "    <tr>\n",
       "      <th>2</th>\n",
       "      <td>3</td>\n",
       "      <td>Shyam</td>\n",
       "      <td>21</td>\n",
       "      <td>bkth</td>\n",
       "      <td>8942312345</td>\n",
       "    </tr>\n",
       "    <tr>\n",
       "      <th>3</th>\n",
       "      <td>4</td>\n",
       "      <td>Gita</td>\n",
       "      <td>18</td>\n",
       "      <td>chitwan</td>\n",
       "      <td>9841111123</td>\n",
       "    </tr>\n",
       "    <tr>\n",
       "      <th>4</th>\n",
       "      <td>5</td>\n",
       "      <td>Sagar</td>\n",
       "      <td>22</td>\n",
       "      <td>lalitpur</td>\n",
       "      <td>98411234509</td>\n",
       "    </tr>\n",
       "  </tbody>\n",
       "</table>\n",
       "</div>"
      ],
      "text/plain": [
       "   sn   name  age   address        phone\n",
       "0   1    Ram   20       ktm   9841000000\n",
       "1   2   Sita   19     patan   9842315678\n",
       "2   3  Shyam   21      bkth   8942312345\n",
       "3   4   Gita   18   chitwan   9841111123\n",
       "4   5  Sagar   22  lalitpur  98411234509"
      ]
     },
     "execution_count": 5,
     "metadata": {},
     "output_type": "execute_result"
    }
   ],
   "source": [
    "df=pd.read_csv(file_path->'data.csv',argument->nrows=5)\n",
    "df"
   ]
  },
  {
   "cell_type": "markdown",
   "id": "04cb6fb6",
   "metadata": {},
   "source": [
    "df.head()->to display topmost value upto 5 default value ie 5\n",
    "if we write\n",
    "df.write(2)-> displays top 2 value \n",
    "df.tail()-> to display lastmost 5 value\n",
    "nrows=some_value ->argument passed tov display no of rows the name of argument is fixed"
   ]
  },
  {
   "cell_type": "code",
   "execution_count": 6,
   "id": "9e497c0b",
   "metadata": {},
   "outputs": [
    {
     "data": {
      "text/html": [
       "<div>\n",
       "<style scoped>\n",
       "    .dataframe tbody tr th:only-of-type {\n",
       "        vertical-align: middle;\n",
       "    }\n",
       "\n",
       "    .dataframe tbody tr th {\n",
       "        vertical-align: top;\n",
       "    }\n",
       "\n",
       "    .dataframe thead th {\n",
       "        text-align: right;\n",
       "    }\n",
       "</style>\n",
       "<table border=\"1\" class=\"dataframe\">\n",
       "  <thead>\n",
       "    <tr style=\"text-align: right;\">\n",
       "      <th></th>\n",
       "      <th>sn</th>\n",
       "      <th>name</th>\n",
       "      <th>age</th>\n",
       "      <th>address</th>\n",
       "      <th>phone</th>\n",
       "    </tr>\n",
       "  </thead>\n",
       "  <tbody>\n",
       "    <tr>\n",
       "      <th>0</th>\n",
       "      <td>1</td>\n",
       "      <td>Ram</td>\n",
       "      <td>20</td>\n",
       "      <td>ktm</td>\n",
       "      <td>9841000000</td>\n",
       "    </tr>\n",
       "    <tr>\n",
       "      <th>1</th>\n",
       "      <td>2</td>\n",
       "      <td>Sita</td>\n",
       "      <td>19</td>\n",
       "      <td>patan</td>\n",
       "      <td>9842315678</td>\n",
       "    </tr>\n",
       "    <tr>\n",
       "      <th>2</th>\n",
       "      <td>3</td>\n",
       "      <td>Shyam</td>\n",
       "      <td>21</td>\n",
       "      <td>bkth</td>\n",
       "      <td>8942312345</td>\n",
       "    </tr>\n",
       "    <tr>\n",
       "      <th>3</th>\n",
       "      <td>4</td>\n",
       "      <td>Gita</td>\n",
       "      <td>18</td>\n",
       "      <td>chitwan</td>\n",
       "      <td>9841111123</td>\n",
       "    </tr>\n",
       "    <tr>\n",
       "      <th>4</th>\n",
       "      <td>5</td>\n",
       "      <td>Sagar</td>\n",
       "      <td>22</td>\n",
       "      <td>lalitpur</td>\n",
       "      <td>98411234509</td>\n",
       "    </tr>\n",
       "  </tbody>\n",
       "</table>\n",
       "</div>"
      ],
      "text/plain": [
       "   sn   name  age   address        phone\n",
       "0   1    Ram   20       ktm   9841000000\n",
       "1   2   Sita   19     patan   9842315678\n",
       "2   3  Shyam   21      bkth   8942312345\n",
       "3   4   Gita   18   chitwan   9841111123\n",
       "4   5  Sagar   22  lalitpur  98411234509"
      ]
     },
     "execution_count": 6,
     "metadata": {},
     "output_type": "execute_result"
    }
   ],
   "source": [
    "df=pd.read_csv('data.csv')\n",
    "df.head()\n"
   ]
  },
  {
   "cell_type": "code",
   "execution_count": 10,
   "id": "0f38741d",
   "metadata": {},
   "outputs": [
    {
     "data": {
      "text/html": [
       "<div>\n",
       "<style scoped>\n",
       "    .dataframe tbody tr th:only-of-type {\n",
       "        vertical-align: middle;\n",
       "    }\n",
       "\n",
       "    .dataframe tbody tr th {\n",
       "        vertical-align: top;\n",
       "    }\n",
       "\n",
       "    .dataframe thead th {\n",
       "        text-align: right;\n",
       "    }\n",
       "</style>\n",
       "<table border=\"1\" class=\"dataframe\">\n",
       "  <thead>\n",
       "    <tr style=\"text-align: right;\">\n",
       "      <th></th>\n",
       "      <th>sn</th>\n",
       "      <th>name</th>\n",
       "      <th>age</th>\n",
       "      <th>address</th>\n",
       "      <th>phone</th>\n",
       "    </tr>\n",
       "  </thead>\n",
       "  <tbody>\n",
       "    <tr>\n",
       "      <th>2</th>\n",
       "      <td>3</td>\n",
       "      <td>Shyam</td>\n",
       "      <td>21</td>\n",
       "      <td>bkth</td>\n",
       "      <td>8942312345</td>\n",
       "    </tr>\n",
       "    <tr>\n",
       "      <th>3</th>\n",
       "      <td>4</td>\n",
       "      <td>Gita</td>\n",
       "      <td>18</td>\n",
       "      <td>chitwan</td>\n",
       "      <td>9841111123</td>\n",
       "    </tr>\n",
       "    <tr>\n",
       "      <th>4</th>\n",
       "      <td>5</td>\n",
       "      <td>Sagar</td>\n",
       "      <td>22</td>\n",
       "      <td>lalitpur</td>\n",
       "      <td>98411234509</td>\n",
       "    </tr>\n",
       "    <tr>\n",
       "      <th>5</th>\n",
       "      <td>6</td>\n",
       "      <td>Sabita</td>\n",
       "      <td>23</td>\n",
       "      <td>boudha</td>\n",
       "      <td>9865023145</td>\n",
       "    </tr>\n",
       "    <tr>\n",
       "      <th>6</th>\n",
       "      <td>7</td>\n",
       "      <td>Renu</td>\n",
       "      <td>22</td>\n",
       "      <td>biratnagar</td>\n",
       "      <td>9843137580</td>\n",
       "    </tr>\n",
       "  </tbody>\n",
       "</table>\n",
       "</div>"
      ],
      "text/plain": [
       "   sn    name  age     address        phone\n",
       "2   3   Shyam   21        bkth   8942312345\n",
       "3   4    Gita   18     chitwan   9841111123\n",
       "4   5   Sagar   22    lalitpur  98411234509\n",
       "5   6  Sabita   23      boudha   9865023145\n",
       "6   7    Renu   22  biratnagar   9843137580"
      ]
     },
     "execution_count": 10,
     "metadata": {},
     "output_type": "execute_result"
    }
   ],
   "source": [
    "df=pd.read_csv('data.csv')\n",
    "df.tail()# by defult 5 \n"
   ]
  },
  {
   "cell_type": "markdown",
   "id": "58ad1130",
   "metadata": {},
   "source": [
    "in tabular data there are two axeses they are axis 0 and 1\n",
    "horizontal line=1axis\n",
    "vertical line=0axis(uncolumned indexed)\n",
    "here,\n",
    "reference column should be declared in order to avoid the duplication of value.ie sn\n",
    "df=pd.read_csv('file_path',index_col='reference_clumn name')---->\n",
    "\n"
   ]
  },
  {
   "cell_type": "code",
   "execution_count": 12,
   "id": "be8e042a",
   "metadata": {},
   "outputs": [
    {
     "data": {
      "text/html": [
       "<div>\n",
       "<style scoped>\n",
       "    .dataframe tbody tr th:only-of-type {\n",
       "        vertical-align: middle;\n",
       "    }\n",
       "\n",
       "    .dataframe tbody tr th {\n",
       "        vertical-align: top;\n",
       "    }\n",
       "\n",
       "    .dataframe thead th {\n",
       "        text-align: right;\n",
       "    }\n",
       "</style>\n",
       "<table border=\"1\" class=\"dataframe\">\n",
       "  <thead>\n",
       "    <tr style=\"text-align: right;\">\n",
       "      <th></th>\n",
       "      <th>name</th>\n",
       "      <th>age</th>\n",
       "      <th>address</th>\n",
       "      <th>phone</th>\n",
       "    </tr>\n",
       "    <tr>\n",
       "      <th>sn</th>\n",
       "      <th></th>\n",
       "      <th></th>\n",
       "      <th></th>\n",
       "      <th></th>\n",
       "    </tr>\n",
       "  </thead>\n",
       "  <tbody>\n",
       "    <tr>\n",
       "      <th>1</th>\n",
       "      <td>Ram</td>\n",
       "      <td>20</td>\n",
       "      <td>ktm</td>\n",
       "      <td>9841000000</td>\n",
       "    </tr>\n",
       "    <tr>\n",
       "      <th>2</th>\n",
       "      <td>Sita</td>\n",
       "      <td>19</td>\n",
       "      <td>patan</td>\n",
       "      <td>9842315678</td>\n",
       "    </tr>\n",
       "    <tr>\n",
       "      <th>3</th>\n",
       "      <td>Shyam</td>\n",
       "      <td>21</td>\n",
       "      <td>bkth</td>\n",
       "      <td>8942312345</td>\n",
       "    </tr>\n",
       "    <tr>\n",
       "      <th>4</th>\n",
       "      <td>Gita</td>\n",
       "      <td>18</td>\n",
       "      <td>chitwan</td>\n",
       "      <td>9841111123</td>\n",
       "    </tr>\n",
       "    <tr>\n",
       "      <th>5</th>\n",
       "      <td>Sagar</td>\n",
       "      <td>22</td>\n",
       "      <td>lalitpur</td>\n",
       "      <td>98411234509</td>\n",
       "    </tr>\n",
       "  </tbody>\n",
       "</table>\n",
       "</div>"
      ],
      "text/plain": [
       "     name  age   address        phone\n",
       "sn                                   \n",
       "1     Ram   20       ktm   9841000000\n",
       "2    Sita   19     patan   9842315678\n",
       "3   Shyam   21      bkth   8942312345\n",
       "4    Gita   18   chitwan   9841111123\n",
       "5   Sagar   22  lalitpur  98411234509"
      ]
     },
     "execution_count": 12,
     "metadata": {},
     "output_type": "execute_result"
    }
   ],
   "source": [
    "import pandas as pd\n",
    "df=pd.read_csv('data.csv',index_col='sn')\n",
    "df.head()"
   ]
  },
  {
   "cell_type": "markdown",
   "id": "9e8590ed",
   "metadata": {},
   "source": [
    "Here sn is index column "
   ]
  },
  {
   "cell_type": "markdown",
   "id": "2dcf0ff1",
   "metadata": {},
   "source": [
    "loc-->localizer\n",
    "iloc-->index localizer\n",
    "when we want data from random row access we will use iloc\n",
    "syntax:\n",
    "      df.iloc[starting index:ending_index] (runs from starting points to ending points-1)\n",
    "      df.iloc[1:5,0:2] here before comma row value can be accessed and after comma  specific column can be selected note:reference key is not included so 0 index of column is name in above example \n",
    "      \n",
    " \n"
   ]
  },
  {
   "cell_type": "code",
   "execution_count": 13,
   "id": "8848e223",
   "metadata": {},
   "outputs": [
    {
     "data": {
      "text/html": [
       "<div>\n",
       "<style scoped>\n",
       "    .dataframe tbody tr th:only-of-type {\n",
       "        vertical-align: middle;\n",
       "    }\n",
       "\n",
       "    .dataframe tbody tr th {\n",
       "        vertical-align: top;\n",
       "    }\n",
       "\n",
       "    .dataframe thead th {\n",
       "        text-align: right;\n",
       "    }\n",
       "</style>\n",
       "<table border=\"1\" class=\"dataframe\">\n",
       "  <thead>\n",
       "    <tr style=\"text-align: right;\">\n",
       "      <th></th>\n",
       "      <th>name</th>\n",
       "      <th>age</th>\n",
       "      <th>address</th>\n",
       "      <th>phone</th>\n",
       "    </tr>\n",
       "    <tr>\n",
       "      <th>sn</th>\n",
       "      <th></th>\n",
       "      <th></th>\n",
       "      <th></th>\n",
       "      <th></th>\n",
       "    </tr>\n",
       "  </thead>\n",
       "  <tbody>\n",
       "    <tr>\n",
       "      <th>2</th>\n",
       "      <td>Sita</td>\n",
       "      <td>19</td>\n",
       "      <td>patan</td>\n",
       "      <td>9842315678</td>\n",
       "    </tr>\n",
       "    <tr>\n",
       "      <th>3</th>\n",
       "      <td>Shyam</td>\n",
       "      <td>21</td>\n",
       "      <td>bkth</td>\n",
       "      <td>8942312345</td>\n",
       "    </tr>\n",
       "    <tr>\n",
       "      <th>4</th>\n",
       "      <td>Gita</td>\n",
       "      <td>18</td>\n",
       "      <td>chitwan</td>\n",
       "      <td>9841111123</td>\n",
       "    </tr>\n",
       "    <tr>\n",
       "      <th>5</th>\n",
       "      <td>Sagar</td>\n",
       "      <td>22</td>\n",
       "      <td>lalitpur</td>\n",
       "      <td>98411234509</td>\n",
       "    </tr>\n",
       "    <tr>\n",
       "      <th>6</th>\n",
       "      <td>Sabita</td>\n",
       "      <td>23</td>\n",
       "      <td>boudha</td>\n",
       "      <td>9865023145</td>\n",
       "    </tr>\n",
       "  </tbody>\n",
       "</table>\n",
       "</div>"
      ],
      "text/plain": [
       "      name  age   address        phone\n",
       "sn                                    \n",
       "2     Sita   19     patan   9842315678\n",
       "3    Shyam   21      bkth   8942312345\n",
       "4     Gita   18   chitwan   9841111123\n",
       "5    Sagar   22  lalitpur  98411234509\n",
       "6   Sabita   23    boudha   9865023145"
      ]
     },
     "execution_count": 13,
     "metadata": {},
     "output_type": "execute_result"
    }
   ],
   "source": [
    "import pandas as pd\n",
    "df=pd.read_csv('data.csv',index_col='sn')\n",
    "df.iloc[1:6]"
   ]
  },
  {
   "cell_type": "code",
   "execution_count": 14,
   "id": "e65d285f",
   "metadata": {},
   "outputs": [
    {
     "data": {
      "text/html": [
       "<div>\n",
       "<style scoped>\n",
       "    .dataframe tbody tr th:only-of-type {\n",
       "        vertical-align: middle;\n",
       "    }\n",
       "\n",
       "    .dataframe tbody tr th {\n",
       "        vertical-align: top;\n",
       "    }\n",
       "\n",
       "    .dataframe thead th {\n",
       "        text-align: right;\n",
       "    }\n",
       "</style>\n",
       "<table border=\"1\" class=\"dataframe\">\n",
       "  <thead>\n",
       "    <tr style=\"text-align: right;\">\n",
       "      <th></th>\n",
       "      <th>name</th>\n",
       "      <th>age</th>\n",
       "      <th>address</th>\n",
       "    </tr>\n",
       "    <tr>\n",
       "      <th>sn</th>\n",
       "      <th></th>\n",
       "      <th></th>\n",
       "      <th></th>\n",
       "    </tr>\n",
       "  </thead>\n",
       "  <tbody>\n",
       "    <tr>\n",
       "      <th>2</th>\n",
       "      <td>Sita</td>\n",
       "      <td>19</td>\n",
       "      <td>patan</td>\n",
       "    </tr>\n",
       "    <tr>\n",
       "      <th>3</th>\n",
       "      <td>Shyam</td>\n",
       "      <td>21</td>\n",
       "      <td>bkth</td>\n",
       "    </tr>\n",
       "    <tr>\n",
       "      <th>4</th>\n",
       "      <td>Gita</td>\n",
       "      <td>18</td>\n",
       "      <td>chitwan</td>\n",
       "    </tr>\n",
       "    <tr>\n",
       "      <th>5</th>\n",
       "      <td>Sagar</td>\n",
       "      <td>22</td>\n",
       "      <td>lalitpur</td>\n",
       "    </tr>\n",
       "    <tr>\n",
       "      <th>6</th>\n",
       "      <td>Sabita</td>\n",
       "      <td>23</td>\n",
       "      <td>boudha</td>\n",
       "    </tr>\n",
       "  </tbody>\n",
       "</table>\n",
       "</div>"
      ],
      "text/plain": [
       "      name  age   address\n",
       "sn                       \n",
       "2     Sita   19     patan\n",
       "3    Shyam   21      bkth\n",
       "4     Gita   18   chitwan\n",
       "5    Sagar   22  lalitpur\n",
       "6   Sabita   23    boudha"
      ]
     },
     "execution_count": 14,
     "metadata": {},
     "output_type": "execute_result"
    }
   ],
   "source": [
    "import pandas as pd\n",
    "df=pd.read_csv('data.csv',index_col='sn')\n",
    "df.iloc[1:6,0:3]"
   ]
  },
  {
   "cell_type": "markdown",
   "id": "6633bbce",
   "metadata": {},
   "source": [
    "loc-->according to reference key we can access the specific rows\n",
    "syntax:\n",
    "      df.loc[2:5] here, 2 to 5 means reference key value is pointed ##note: here, 2 to 5 sama ko value display huncha not 2:5-1\n",
    "      if, our reference key is name we can write sita:sabita and index_col='name'\n"
   ]
  },
  {
   "cell_type": "code",
   "execution_count": 15,
   "id": "d40ac1e9",
   "metadata": {},
   "outputs": [
    {
     "data": {
      "text/html": [
       "<div>\n",
       "<style scoped>\n",
       "    .dataframe tbody tr th:only-of-type {\n",
       "        vertical-align: middle;\n",
       "    }\n",
       "\n",
       "    .dataframe tbody tr th {\n",
       "        vertical-align: top;\n",
       "    }\n",
       "\n",
       "    .dataframe thead th {\n",
       "        text-align: right;\n",
       "    }\n",
       "</style>\n",
       "<table border=\"1\" class=\"dataframe\">\n",
       "  <thead>\n",
       "    <tr style=\"text-align: right;\">\n",
       "      <th></th>\n",
       "      <th>name</th>\n",
       "      <th>age</th>\n",
       "      <th>address</th>\n",
       "      <th>phone</th>\n",
       "    </tr>\n",
       "    <tr>\n",
       "      <th>sn</th>\n",
       "      <th></th>\n",
       "      <th></th>\n",
       "      <th></th>\n",
       "      <th></th>\n",
       "    </tr>\n",
       "  </thead>\n",
       "  <tbody>\n",
       "    <tr>\n",
       "      <th>1</th>\n",
       "      <td>Ram</td>\n",
       "      <td>20</td>\n",
       "      <td>ktm</td>\n",
       "      <td>9841000000</td>\n",
       "    </tr>\n",
       "    <tr>\n",
       "      <th>2</th>\n",
       "      <td>Sita</td>\n",
       "      <td>19</td>\n",
       "      <td>patan</td>\n",
       "      <td>9842315678</td>\n",
       "    </tr>\n",
       "    <tr>\n",
       "      <th>3</th>\n",
       "      <td>Shyam</td>\n",
       "      <td>21</td>\n",
       "      <td>bkth</td>\n",
       "      <td>8942312345</td>\n",
       "    </tr>\n",
       "    <tr>\n",
       "      <th>4</th>\n",
       "      <td>Gita</td>\n",
       "      <td>18</td>\n",
       "      <td>chitwan</td>\n",
       "      <td>9841111123</td>\n",
       "    </tr>\n",
       "    <tr>\n",
       "      <th>5</th>\n",
       "      <td>Sagar</td>\n",
       "      <td>22</td>\n",
       "      <td>lalitpur</td>\n",
       "      <td>98411234509</td>\n",
       "    </tr>\n",
       "  </tbody>\n",
       "</table>\n",
       "</div>"
      ],
      "text/plain": [
       "     name  age   address        phone\n",
       "sn                                   \n",
       "1     Ram   20       ktm   9841000000\n",
       "2    Sita   19     patan   9842315678\n",
       "3   Shyam   21      bkth   8942312345\n",
       "4    Gita   18   chitwan   9841111123\n",
       "5   Sagar   22  lalitpur  98411234509"
      ]
     },
     "execution_count": 15,
     "metadata": {},
     "output_type": "execute_result"
    }
   ],
   "source": [
    "import pandas as pd\n",
    "df=pd.read_csv('data.csv',index_col='sn')\n",
    "df.loc[1:5]#sn ko 1 dekhi 5 sama value retrive huncha note "
   ]
  },
  {
   "cell_type": "markdown",
   "id": "ec7014c9",
   "metadata": {},
   "source": [
    "# # TO READ OF DIFFERENT COLUMNS:\n",
    "\n",
    "indorder to skip any column we will use argument usecols=['col_1','col_2','col_4'] and so on  note:indexe_col should be included in usecols['sn'] "
   ]
  },
  {
   "cell_type": "code",
   "execution_count": 18,
   "id": "e4762de5",
   "metadata": {},
   "outputs": [
    {
     "name": "stdout",
     "output_type": "stream",
     "text": [
      "      name        phone\n",
      "sn                     \n",
      "1      Ram   9841000000\n",
      "2     Sita   9842315678\n",
      "3    Shyam   8942312345\n",
      "4     Gita   9841111123\n",
      "5    Sagar  98411234509\n",
      "6   Sabita   9865023145\n",
      "7     Renu   9843137580\n"
     ]
    }
   ],
   "source": [
    "import pandas as pd\n",
    "df=pd.read_csv('data.csv',index_col='sn',usecols=['sn','phone','name'])\n",
    "print(df)"
   ]
  },
  {
   "cell_type": "markdown",
   "id": "8e940253",
   "metadata": {},
   "source": [
    "#filtering\n",
    "selecting rows in term of conditions\n",
    "select* from data.csv where name='any_name' is eqivalent to -->df['name']=='any_name'\n",
    "\n",
    "Here output will be in boolean form where the condition is  true in that row the value=true otherwise false\n",
    "inorder to return value the syntax will be:\n",
    "Syntax:\n",
    "      df[df['name']=='any_name']\n",
    "\n",
    "\n",
    "\n"
   ]
  },
  {
   "cell_type": "code",
   "execution_count": 19,
   "id": "384faa54",
   "metadata": {},
   "outputs": [
    {
     "data": {
      "text/plain": [
       "sn\n",
       "1       Ram\n",
       "2      Sita\n",
       "3     Shyam\n",
       "4      Gita\n",
       "5     Sagar\n",
       "6    Sabita\n",
       "7      Renu\n",
       "Name: name, dtype: object"
      ]
     },
     "execution_count": 19,
     "metadata": {},
     "output_type": "execute_result"
    }
   ],
   "source": [
    "import pandas as pd\n",
    "df=pd.read_csv('data.csv',index_col='sn')\n",
    "df['name']"
   ]
  },
  {
   "cell_type": "code",
   "execution_count": 20,
   "id": "c5da6e47",
   "metadata": {},
   "outputs": [
    {
     "data": {
      "text/plain": [
       "sn\n",
       "1     True\n",
       "2    False\n",
       "3    False\n",
       "4    False\n",
       "5    False\n",
       "6    False\n",
       "7    False\n",
       "Name: name, dtype: bool"
      ]
     },
     "execution_count": 20,
     "metadata": {},
     "output_type": "execute_result"
    }
   ],
   "source": [
    "import pandas as pd\n",
    "df=pd.read_csv('data.csv',index_col='sn')\n",
    "df['name']=='Ram'"
   ]
  },
  {
   "cell_type": "code",
   "execution_count": 21,
   "id": "7a8e8764",
   "metadata": {},
   "outputs": [
    {
     "data": {
      "text/html": [
       "<div>\n",
       "<style scoped>\n",
       "    .dataframe tbody tr th:only-of-type {\n",
       "        vertical-align: middle;\n",
       "    }\n",
       "\n",
       "    .dataframe tbody tr th {\n",
       "        vertical-align: top;\n",
       "    }\n",
       "\n",
       "    .dataframe thead th {\n",
       "        text-align: right;\n",
       "    }\n",
       "</style>\n",
       "<table border=\"1\" class=\"dataframe\">\n",
       "  <thead>\n",
       "    <tr style=\"text-align: right;\">\n",
       "      <th></th>\n",
       "      <th>name</th>\n",
       "      <th>age</th>\n",
       "      <th>address</th>\n",
       "      <th>phone</th>\n",
       "    </tr>\n",
       "    <tr>\n",
       "      <th>sn</th>\n",
       "      <th></th>\n",
       "      <th></th>\n",
       "      <th></th>\n",
       "      <th></th>\n",
       "    </tr>\n",
       "  </thead>\n",
       "  <tbody>\n",
       "    <tr>\n",
       "      <th>1</th>\n",
       "      <td>Ram</td>\n",
       "      <td>20</td>\n",
       "      <td>ktm</td>\n",
       "      <td>9841000000</td>\n",
       "    </tr>\n",
       "  </tbody>\n",
       "</table>\n",
       "</div>"
      ],
      "text/plain": [
       "   name  age address       phone\n",
       "sn                              \n",
       "1   Ram   20     ktm  9841000000"
      ]
     },
     "execution_count": 21,
     "metadata": {},
     "output_type": "execute_result"
    }
   ],
   "source": [
    "import pandas as pd\n",
    "df=pd.read_csv('data.csv',index_col='sn')\n",
    "df[df['name']=='Ram']"
   ]
  },
  {
   "cell_type": "code",
   "execution_count": 22,
   "id": "34c6fa6d",
   "metadata": {},
   "outputs": [
    {
     "data": {
      "text/html": [
       "<div>\n",
       "<style scoped>\n",
       "    .dataframe tbody tr th:only-of-type {\n",
       "        vertical-align: middle;\n",
       "    }\n",
       "\n",
       "    .dataframe tbody tr th {\n",
       "        vertical-align: top;\n",
       "    }\n",
       "\n",
       "    .dataframe thead th {\n",
       "        text-align: right;\n",
       "    }\n",
       "</style>\n",
       "<table border=\"1\" class=\"dataframe\">\n",
       "  <thead>\n",
       "    <tr style=\"text-align: right;\">\n",
       "      <th></th>\n",
       "      <th>name</th>\n",
       "      <th>age</th>\n",
       "      <th>address</th>\n",
       "      <th>phone</th>\n",
       "    </tr>\n",
       "    <tr>\n",
       "      <th>sn</th>\n",
       "      <th></th>\n",
       "      <th></th>\n",
       "      <th></th>\n",
       "      <th></th>\n",
       "    </tr>\n",
       "  </thead>\n",
       "  <tbody>\n",
       "    <tr>\n",
       "      <th>3</th>\n",
       "      <td>Shyam</td>\n",
       "      <td>21</td>\n",
       "      <td>bkth</td>\n",
       "      <td>8942312345</td>\n",
       "    </tr>\n",
       "    <tr>\n",
       "      <th>5</th>\n",
       "      <td>Sagar</td>\n",
       "      <td>22</td>\n",
       "      <td>lalitpur</td>\n",
       "      <td>98411234509</td>\n",
       "    </tr>\n",
       "    <tr>\n",
       "      <th>6</th>\n",
       "      <td>Sabita</td>\n",
       "      <td>23</td>\n",
       "      <td>boudha</td>\n",
       "      <td>9865023145</td>\n",
       "    </tr>\n",
       "    <tr>\n",
       "      <th>7</th>\n",
       "      <td>Renu</td>\n",
       "      <td>22</td>\n",
       "      <td>biratnagar</td>\n",
       "      <td>9843137580</td>\n",
       "    </tr>\n",
       "  </tbody>\n",
       "</table>\n",
       "</div>"
      ],
      "text/plain": [
       "      name  age     address        phone\n",
       "sn                                      \n",
       "3    Shyam   21        bkth   8942312345\n",
       "5    Sagar   22    lalitpur  98411234509\n",
       "6   Sabita   23      boudha   9865023145\n",
       "7     Renu   22  biratnagar   9843137580"
      ]
     },
     "execution_count": 22,
     "metadata": {},
     "output_type": "execute_result"
    }
   ],
   "source": [
    "import pandas as pd\n",
    "df=pd.read_csv('data.csv',index_col='sn')\n",
    "df[df['age']>20]"
   ]
  },
  {
   "cell_type": "code",
   "execution_count": 28,
   "id": "6f6a9443",
   "metadata": {},
   "outputs": [
    {
     "data": {
      "text/html": [
       "<div>\n",
       "<style scoped>\n",
       "    .dataframe tbody tr th:only-of-type {\n",
       "        vertical-align: middle;\n",
       "    }\n",
       "\n",
       "    .dataframe tbody tr th {\n",
       "        vertical-align: top;\n",
       "    }\n",
       "\n",
       "    .dataframe thead th {\n",
       "        text-align: right;\n",
       "    }\n",
       "</style>\n",
       "<table border=\"1\" class=\"dataframe\">\n",
       "  <thead>\n",
       "    <tr style=\"text-align: right;\">\n",
       "      <th></th>\n",
       "      <th>name</th>\n",
       "      <th>age</th>\n",
       "      <th>address</th>\n",
       "      <th>phone</th>\n",
       "    </tr>\n",
       "    <tr>\n",
       "      <th>sn</th>\n",
       "      <th></th>\n",
       "      <th></th>\n",
       "      <th></th>\n",
       "      <th></th>\n",
       "    </tr>\n",
       "  </thead>\n",
       "  <tbody>\n",
       "    <tr>\n",
       "      <th>6</th>\n",
       "      <td>Sabita</td>\n",
       "      <td>23</td>\n",
       "      <td>boudha</td>\n",
       "      <td>9865023145</td>\n",
       "    </tr>\n",
       "  </tbody>\n",
       "</table>\n",
       "</div>"
      ],
      "text/plain": [
       "      name  age address       phone\n",
       "sn                                 \n",
       "6   Sabita   23  boudha  9865023145"
      ]
     },
     "execution_count": 28,
     "metadata": {},
     "output_type": "execute_result"
    }
   ],
   "source": [
    "import pandas as pd\n",
    "df=pd.read_csv('data.csv',index_col='sn')\n",
    "df[(df['age']>20) & (df['address']=='boudha')]"
   ]
  },
  {
   "cell_type": "markdown",
   "id": "4379fc98",
   "metadata": {},
   "source": [
    "In pandas only value are retrive we cannot perform any CURD operation but CURD can be performend in data frame only not in csv file\n",
    "Here, we will retrive value from source and make it another file bf filtering"
   ]
  },
  {
   "cell_type": "code",
   "execution_count": 29,
   "id": "2ad69c38",
   "metadata": {},
   "outputs": [],
   "source": [
    "import pandas as pd\n",
    "df=pd.read_csv('data.csv',index_col='sn')\n",
    "data=df[(df['age']>20) & (df['address']=='boudha')]\n",
    "data.to_csv('new_data.csv')"
   ]
  },
  {
   "cell_type": "code",
   "execution_count": 1,
   "id": "759dd05e",
   "metadata": {},
   "outputs": [],
   "source": [
    "import pandas as pd\n",
    "df=pd.read_csv('data.csv',index_col='sn')\n",
    "data=df[(df['age']>20) & (df['address']=='boudha')]\n",
    "data.to_json('new_data.json')#web developer used json file mostof them"
   ]
  },
  {
   "cell_type": "markdown",
   "id": "c4dd6215",
   "metadata": {},
   "source": [
    "#read and write through file:\n",
    "\n"
   ]
  },
  {
   "cell_type": "code",
   "execution_count": 2,
   "id": "0a456836",
   "metadata": {},
   "outputs": [
    {
     "name": "stdout",
     "output_type": "stream",
     "text": [
      "Enter n=2\n",
      "Enter name=ram\n",
      "Enter age=21\n",
      "Enter address=ktm\n",
      "Enter phone number=984100000\n",
      "Enter name=sita\n",
      "Enter age=22\n",
      "Enter address=patan\n",
      "Enter phone number=984231345\n",
      "{'name': ['ram', 'sita'], 'age': [21, 22], 'address': ['ktm', 'patan'], 'phone': [984100000, 984231345]}\n"
     ]
    }
   ],
   "source": [
    "import pandas as pd\n",
    "info={'name':[],'age':[],'address':[],'phone':[]}\n",
    "n=int(input(\"Enter n=\"))\n",
    "for i in range(n):\n",
    "    name=input(\"Enter name=\")\n",
    "    age=int(input(\"Enter age=\"))\n",
    "    address=input(\"Enter address=\")\n",
    "    phone=int(input(\"Enter phone number=\"))\n",
    "    info['name'].append(name)\n",
    "    info['age'].append(age)\n",
    "    info['address'].append(address)\n",
    "    info['phone'].append(phone)\n",
    "print(info)    "
   ]
  },
  {
   "cell_type": "markdown",
   "id": "5a6a295e",
   "metadata": {},
   "source": [
    "converting above dictionary to dataframe"
   ]
  },
  {
   "cell_type": "code",
   "execution_count": 16,
   "id": "80ee4291",
   "metadata": {},
   "outputs": [
    {
     "data": {
      "text/html": [
       "<div>\n",
       "<style scoped>\n",
       "    .dataframe tbody tr th:only-of-type {\n",
       "        vertical-align: middle;\n",
       "    }\n",
       "\n",
       "    .dataframe tbody tr th {\n",
       "        vertical-align: top;\n",
       "    }\n",
       "\n",
       "    .dataframe thead th {\n",
       "        text-align: right;\n",
       "    }\n",
       "</style>\n",
       "<table border=\"1\" class=\"dataframe\">\n",
       "  <thead>\n",
       "    <tr style=\"text-align: right;\">\n",
       "      <th></th>\n",
       "      <th>name</th>\n",
       "      <th>age</th>\n",
       "      <th>address</th>\n",
       "      <th>phone</th>\n",
       "    </tr>\n",
       "  </thead>\n",
       "  <tbody>\n",
       "    <tr>\n",
       "      <th>0</th>\n",
       "      <td>ram</td>\n",
       "      <td>21</td>\n",
       "      <td>ktm</td>\n",
       "      <td>984100000</td>\n",
       "    </tr>\n",
       "    <tr>\n",
       "      <th>1</th>\n",
       "      <td>sita</td>\n",
       "      <td>22</td>\n",
       "      <td>patan</td>\n",
       "      <td>984231345</td>\n",
       "    </tr>\n",
       "  </tbody>\n",
       "</table>\n",
       "</div>"
      ],
      "text/plain": [
       "   name  age address      phone\n",
       "0   ram   21     ktm  984100000\n",
       "1  sita   22   patan  984231345"
      ]
     },
     "execution_count": 16,
     "metadata": {},
     "output_type": "execute_result"
    }
   ],
   "source": [
    "import pandas as pd\n",
    "df=pd.DataFrame(info)\n",
    "df.to_csv('info.csv')\n",
    "df\n"
   ]
  },
  {
   "cell_type": "markdown",
   "id": "53ec7d10",
   "metadata": {},
   "source": [
    "csv package sholud be imported if the data are in list or dictionary form"
   ]
  },
  {
   "cell_type": "code",
   "execution_count": 6,
   "id": "8ffb2f55",
   "metadata": {},
   "outputs": [],
   "source": [
    "import csv\n",
    "l=[2,'Sabita',23,'boudha','9865023145']\n",
    "file=open('info.csv','a')\n",
    "x=csv.writer(file)#x is object where csv ko package bata writer vana function use garara file lai write garna ho\n",
    "x.writerow(l)#writerow is used to insert the list that is already predefined\n",
    "file.close()"
   ]
  },
  {
   "cell_type": "code",
   "execution_count": 17,
   "id": "fd6bbb13",
   "metadata": {},
   "outputs": [
    {
     "data": {
      "text/html": [
       "<div>\n",
       "<style scoped>\n",
       "    .dataframe tbody tr th:only-of-type {\n",
       "        vertical-align: middle;\n",
       "    }\n",
       "\n",
       "    .dataframe tbody tr th {\n",
       "        vertical-align: top;\n",
       "    }\n",
       "\n",
       "    .dataframe thead th {\n",
       "        text-align: right;\n",
       "    }\n",
       "</style>\n",
       "<table border=\"1\" class=\"dataframe\">\n",
       "  <thead>\n",
       "    <tr style=\"text-align: right;\">\n",
       "      <th></th>\n",
       "      <th>Unnamed: 0</th>\n",
       "      <th>name</th>\n",
       "      <th>age</th>\n",
       "      <th>address</th>\n",
       "      <th>phone</th>\n",
       "    </tr>\n",
       "  </thead>\n",
       "  <tbody>\n",
       "    <tr>\n",
       "      <th>0</th>\n",
       "      <td>0</td>\n",
       "      <td>ram</td>\n",
       "      <td>21</td>\n",
       "      <td>ktm</td>\n",
       "      <td>984100000</td>\n",
       "    </tr>\n",
       "    <tr>\n",
       "      <th>1</th>\n",
       "      <td>1</td>\n",
       "      <td>sita</td>\n",
       "      <td>22</td>\n",
       "      <td>patan</td>\n",
       "      <td>984231345</td>\n",
       "    </tr>\n",
       "  </tbody>\n",
       "</table>\n",
       "</div>"
      ],
      "text/plain": [
       "   Unnamed: 0  name  age address      phone\n",
       "0           0   ram   21     ktm  984100000\n",
       "1           1  sita   22   patan  984231345"
      ]
     },
     "execution_count": 17,
     "metadata": {},
     "output_type": "execute_result"
    }
   ],
   "source": [
    "import pandas as pd\n",
    "df=pd.read_csv('info.csv')\n",
    "df\n",
    "                  "
   ]
  },
  {
   "cell_type": "code",
   "execution_count": 8,
   "id": "b1730075",
   "metadata": {},
   "outputs": [],
   "source": [
    "import csv\n",
    "l=[['sn','name','age','address','phone'],\n",
    "   [1,'Ram',21,'ktm',98410000],\n",
    "   [2,'Sita',20,'patan',344035049],\n",
    "   [3,'gopal',19,'bkth',354645367]]\n",
    "file=open('info1.csv','w')\n",
    "x=csv.writer(file)\n",
    "x.writerows(l)# multiple line insertion ko lagi writerows() ho fxn for single writerow()\n",
    "file.close()"
   ]
  },
  {
   "cell_type": "code",
   "execution_count": 15,
   "id": "e4c72da3",
   "metadata": {},
   "outputs": [
    {
     "data": {
      "text/html": [
       "<div>\n",
       "<style scoped>\n",
       "    .dataframe tbody tr th:only-of-type {\n",
       "        vertical-align: middle;\n",
       "    }\n",
       "\n",
       "    .dataframe tbody tr th {\n",
       "        vertical-align: top;\n",
       "    }\n",
       "\n",
       "    .dataframe thead th {\n",
       "        text-align: right;\n",
       "    }\n",
       "</style>\n",
       "<table border=\"1\" class=\"dataframe\">\n",
       "  <thead>\n",
       "    <tr style=\"text-align: right;\">\n",
       "      <th></th>\n",
       "      <th>sn</th>\n",
       "      <th>name</th>\n",
       "      <th>age</th>\n",
       "      <th>address</th>\n",
       "      <th>phone</th>\n",
       "    </tr>\n",
       "  </thead>\n",
       "  <tbody>\n",
       "    <tr>\n",
       "      <th>0</th>\n",
       "      <td>1</td>\n",
       "      <td>Ram</td>\n",
       "      <td>21</td>\n",
       "      <td>ktm</td>\n",
       "      <td>98410000</td>\n",
       "    </tr>\n",
       "    <tr>\n",
       "      <th>1</th>\n",
       "      <td>2</td>\n",
       "      <td>Sita</td>\n",
       "      <td>20</td>\n",
       "      <td>patan</td>\n",
       "      <td>344035049</td>\n",
       "    </tr>\n",
       "    <tr>\n",
       "      <th>2</th>\n",
       "      <td>3</td>\n",
       "      <td>gopal</td>\n",
       "      <td>19</td>\n",
       "      <td>bkth</td>\n",
       "      <td>354645367</td>\n",
       "    </tr>\n",
       "  </tbody>\n",
       "</table>\n",
       "</div>"
      ],
      "text/plain": [
       "   sn   name  age address      phone\n",
       "0   1    Ram   21     ktm   98410000\n",
       "1   2   Sita   20   patan  344035049\n",
       "2   3  gopal   19    bkth  354645367"
      ]
     },
     "execution_count": 15,
     "metadata": {},
     "output_type": "execute_result"
    }
   ],
   "source": [
    "import pandas as pd\n",
    "df=pd.read_csv('info1.csv')\n",
    "df"
   ]
  },
  {
   "cell_type": "markdown",
   "id": "9f41d155",
   "metadata": {},
   "source": [
    "# Dictionary reader\n",
    "to read in form of dictionary format\n",
    "we have to use syntax:\n",
    " reader=csv.DictReader(fie to be read)"
   ]
  },
  {
   "cell_type": "code",
   "execution_count": 11,
   "id": "5240fc9e",
   "metadata": {},
   "outputs": [
    {
     "name": "stdout",
     "output_type": "stream",
     "text": [
      "{'sn': '1', 'name': 'Ram', 'age': '21', 'address': 'ktm', 'phone': '98410000'}\n",
      "{'sn': '2', 'name': 'Sita', 'age': '20', 'address': 'patan', 'phone': '344035049'}\n",
      "{'sn': '3', 'name': 'gopal', 'age': '19', 'address': 'bkth', 'phone': '354645367'}\n"
     ]
    }
   ],
   "source": [
    "import csv\n",
    "file=open('info1.csv')\n",
    "reader=csv.DictReader(file)\n",
    "for row in reader:\n",
    "    print(row)"
   ]
  },
  {
   "cell_type": "markdown",
   "id": "b375fe91",
   "metadata": {},
   "source": [
    "# to make list"
   ]
  },
  {
   "cell_type": "code",
   "execution_count": 12,
   "id": "8a2f4ecf",
   "metadata": {},
   "outputs": [
    {
     "name": "stdout",
     "output_type": "stream",
     "text": [
      "[{'sn': '1', 'name': 'Ram', 'age': '21', 'address': 'ktm', 'phone': '98410000'}, {'sn': '2', 'name': 'Sita', 'age': '20', 'address': 'patan', 'phone': '344035049'}, {'sn': '3', 'name': 'gopal', 'age': '19', 'address': 'bkth', 'phone': '354645367'}]\n"
     ]
    }
   ],
   "source": [
    "import csv\n",
    "final_data=[]\n",
    "file=open('info1.csv')\n",
    "reader=csv.DictReader(file)\n",
    "\n",
    "for row in reader:\n",
    "    final_data.append(row)\n",
    "    \n",
    "print(final_data)    \n",
    "    "
   ]
  },
  {
   "cell_type": "code",
   "execution_count": 13,
   "id": "ffec9521",
   "metadata": {},
   "outputs": [],
   "source": [
    "import csv\n",
    "csv_column=['sn','name','age','address','phone']\n",
    "dicts=final_data\n",
    "file=open('data1.csv','w')\n",
    "writer=csv.DictWriter(file,fieldnames=csv_column)\n",
    "writer.writeheader()\n",
    "writer.writerows(dicts)\n",
    "file.close()"
   ]
  },
  {
   "cell_type": "code",
   "execution_count": 14,
   "id": "ab9fc540",
   "metadata": {},
   "outputs": [
    {
     "data": {
      "text/html": [
       "<div>\n",
       "<style scoped>\n",
       "    .dataframe tbody tr th:only-of-type {\n",
       "        vertical-align: middle;\n",
       "    }\n",
       "\n",
       "    .dataframe tbody tr th {\n",
       "        vertical-align: top;\n",
       "    }\n",
       "\n",
       "    .dataframe thead th {\n",
       "        text-align: right;\n",
       "    }\n",
       "</style>\n",
       "<table border=\"1\" class=\"dataframe\">\n",
       "  <thead>\n",
       "    <tr style=\"text-align: right;\">\n",
       "      <th></th>\n",
       "      <th>sn</th>\n",
       "      <th>name</th>\n",
       "      <th>age</th>\n",
       "      <th>address</th>\n",
       "      <th>phone</th>\n",
       "    </tr>\n",
       "  </thead>\n",
       "  <tbody>\n",
       "    <tr>\n",
       "      <th>0</th>\n",
       "      <td>1</td>\n",
       "      <td>Ram</td>\n",
       "      <td>21</td>\n",
       "      <td>ktm</td>\n",
       "      <td>98410000</td>\n",
       "    </tr>\n",
       "    <tr>\n",
       "      <th>1</th>\n",
       "      <td>2</td>\n",
       "      <td>Sita</td>\n",
       "      <td>20</td>\n",
       "      <td>patan</td>\n",
       "      <td>344035049</td>\n",
       "    </tr>\n",
       "    <tr>\n",
       "      <th>2</th>\n",
       "      <td>3</td>\n",
       "      <td>gopal</td>\n",
       "      <td>19</td>\n",
       "      <td>bkth</td>\n",
       "      <td>354645367</td>\n",
       "    </tr>\n",
       "  </tbody>\n",
       "</table>\n",
       "</div>"
      ],
      "text/plain": [
       "   sn   name  age address      phone\n",
       "0   1    Ram   21     ktm   98410000\n",
       "1   2   Sita   20   patan  344035049\n",
       "2   3  gopal   19    bkth  354645367"
      ]
     },
     "execution_count": 14,
     "metadata": {},
     "output_type": "execute_result"
    }
   ],
   "source": [
    "import pandas as pd\n",
    "df=pd.read_csv('data1.csv')\n",
    "df"
   ]
  },
  {
   "cell_type": "code",
   "execution_count": 21,
   "id": "ff156fa3",
   "metadata": {},
   "outputs": [
    {
     "data": {
      "text/html": [
       "<div>\n",
       "<style scoped>\n",
       "    .dataframe tbody tr th:only-of-type {\n",
       "        vertical-align: middle;\n",
       "    }\n",
       "\n",
       "    .dataframe tbody tr th {\n",
       "        vertical-align: top;\n",
       "    }\n",
       "\n",
       "    .dataframe thead th {\n",
       "        text-align: right;\n",
       "    }\n",
       "</style>\n",
       "<table border=\"1\" class=\"dataframe\">\n",
       "  <thead>\n",
       "    <tr style=\"text-align: right;\">\n",
       "      <th></th>\n",
       "      <th>name</th>\n",
       "      <th>age</th>\n",
       "      <th>address</th>\n",
       "      <th>phone</th>\n",
       "    </tr>\n",
       "    <tr>\n",
       "      <th>sn</th>\n",
       "      <th></th>\n",
       "      <th></th>\n",
       "      <th></th>\n",
       "      <th></th>\n",
       "    </tr>\n",
       "  </thead>\n",
       "  <tbody>\n",
       "    <tr>\n",
       "      <th>1</th>\n",
       "      <td>Ram</td>\n",
       "      <td>21</td>\n",
       "      <td>ktm</td>\n",
       "      <td>98410000</td>\n",
       "    </tr>\n",
       "  </tbody>\n",
       "</table>\n",
       "</div>"
      ],
      "text/plain": [
       "   name  age address     phone\n",
       "sn                            \n",
       "1   Ram   21     ktm  98410000"
      ]
     },
     "execution_count": 21,
     "metadata": {},
     "output_type": "execute_result"
    }
   ],
   "source": [
    "import pandas as pd\n",
    "df=pd.read_csv('data1.csv', index_col='sn')# deleting row from dataframe\n",
    "df=df.drop([2,3],axis=0)\n",
    "df"
   ]
  },
  {
   "cell_type": "code",
   "execution_count": 24,
   "id": "f253f55e",
   "metadata": {},
   "outputs": [
    {
     "data": {
      "text/html": [
       "<div>\n",
       "<style scoped>\n",
       "    .dataframe tbody tr th:only-of-type {\n",
       "        vertical-align: middle;\n",
       "    }\n",
       "\n",
       "    .dataframe tbody tr th {\n",
       "        vertical-align: top;\n",
       "    }\n",
       "\n",
       "    .dataframe thead th {\n",
       "        text-align: right;\n",
       "    }\n",
       "</style>\n",
       "<table border=\"1\" class=\"dataframe\">\n",
       "  <thead>\n",
       "    <tr style=\"text-align: right;\">\n",
       "      <th></th>\n",
       "      <th>sn</th>\n",
       "      <th>name</th>\n",
       "      <th>age</th>\n",
       "      <th>phone</th>\n",
       "    </tr>\n",
       "  </thead>\n",
       "  <tbody>\n",
       "    <tr>\n",
       "      <th>0</th>\n",
       "      <td>1</td>\n",
       "      <td>Ram</td>\n",
       "      <td>21</td>\n",
       "      <td>98410000</td>\n",
       "    </tr>\n",
       "    <tr>\n",
       "      <th>1</th>\n",
       "      <td>2</td>\n",
       "      <td>Sita</td>\n",
       "      <td>20</td>\n",
       "      <td>344035049</td>\n",
       "    </tr>\n",
       "    <tr>\n",
       "      <th>2</th>\n",
       "      <td>3</td>\n",
       "      <td>gopal</td>\n",
       "      <td>19</td>\n",
       "      <td>354645367</td>\n",
       "    </tr>\n",
       "  </tbody>\n",
       "</table>\n",
       "</div>"
      ],
      "text/plain": [
       "   sn   name  age      phone\n",
       "0   1    Ram   21   98410000\n",
       "1   2   Sita   20  344035049\n",
       "2   3  gopal   19  354645367"
      ]
     },
     "execution_count": 24,
     "metadata": {},
     "output_type": "execute_result"
    }
   ],
   "source": [
    "import pandas as pd\n",
    "df=pd.read_csv('data1.csv')\n",
    "\n",
    "df=df.drop(['address'],axis=1)# deleting cols from dataframe\n",
    "df"
   ]
  },
  {
   "cell_type": "code",
   "execution_count": 26,
   "id": "ca1e0369",
   "metadata": {},
   "outputs": [
    {
     "data": {
      "text/html": [
       "<div>\n",
       "<style scoped>\n",
       "    .dataframe tbody tr th:only-of-type {\n",
       "        vertical-align: middle;\n",
       "    }\n",
       "\n",
       "    .dataframe tbody tr th {\n",
       "        vertical-align: top;\n",
       "    }\n",
       "\n",
       "    .dataframe thead th {\n",
       "        text-align: right;\n",
       "    }\n",
       "</style>\n",
       "<table border=\"1\" class=\"dataframe\">\n",
       "  <thead>\n",
       "    <tr style=\"text-align: right;\">\n",
       "      <th></th>\n",
       "      <th>sn</th>\n",
       "      <th>age</th>\n",
       "      <th>address</th>\n",
       "      <th>phone</th>\n",
       "    </tr>\n",
       "    <tr>\n",
       "      <th>name</th>\n",
       "      <th></th>\n",
       "      <th></th>\n",
       "      <th></th>\n",
       "      <th></th>\n",
       "    </tr>\n",
       "  </thead>\n",
       "  <tbody>\n",
       "    <tr>\n",
       "      <th>gopal</th>\n",
       "      <td>3</td>\n",
       "      <td>19</td>\n",
       "      <td>bkth</td>\n",
       "      <td>354645367</td>\n",
       "    </tr>\n",
       "  </tbody>\n",
       "</table>\n",
       "</div>"
      ],
      "text/plain": [
       "       sn  age address      phone\n",
       "name                             \n",
       "gopal   3   19    bkth  354645367"
      ]
     },
     "execution_count": 26,
     "metadata": {},
     "output_type": "execute_result"
    }
   ],
   "source": [
    "import pandas as pd\n",
    "df=pd.read_csv('data1.csv', index_col='name')# deleting row from dataframe\n",
    "df=df.drop(['Ram','Sita'],axis=0)\n",
    "df"
   ]
  },
  {
   "cell_type": "code",
   "execution_count": 1,
   "id": "1d8f564c",
   "metadata": {},
   "outputs": [
    {
     "data": {
      "text/plain": [
       "'C:\\\\Users\\\\LENOVO\\\\python530'"
      ]
     },
     "execution_count": 1,
     "metadata": {},
     "output_type": "execute_result"
    }
   ],
   "source": [
    "pwd\n"
   ]
  },
  {
   "cell_type": "code",
   "execution_count": null,
   "id": "cd3e97f5",
   "metadata": {},
   "outputs": [],
   "source": []
  }
 ],
 "metadata": {
  "kernelspec": {
   "display_name": "Python 3 (ipykernel)",
   "language": "python",
   "name": "python3"
  },
  "language_info": {
   "codemirror_mode": {
    "name": "ipython",
    "version": 3
   },
   "file_extension": ".py",
   "mimetype": "text/x-python",
   "name": "python",
   "nbconvert_exporter": "python",
   "pygments_lexer": "ipython3",
   "version": "3.9.13"
  }
 },
 "nbformat": 4,
 "nbformat_minor": 5
}
