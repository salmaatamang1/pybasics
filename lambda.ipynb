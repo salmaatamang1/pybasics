{
 "cells": [
  {
   "cell_type": "code",
   "execution_count": 1,
   "id": "e8f6b432",
   "metadata": {},
   "outputs": [
    {
     "data": {
      "text/plain": [
       "9"
      ]
     },
     "execution_count": 1,
     "metadata": {},
     "output_type": "execute_result"
    }
   ],
   "source": [
    "x=lambda a:a**2\n",
    "x(3)\n",
    "\n"
   ]
  },
  {
   "cell_type": "code",
   "execution_count": 2,
   "id": "806ce614",
   "metadata": {},
   "outputs": [
    {
     "data": {
      "text/plain": [
       "'helllo world'"
      ]
     },
     "execution_count": 2,
     "metadata": {},
     "output_type": "execute_result"
    }
   ],
   "source": [
    "x=lambda a:a.lower()\n",
    "x('HElllo world')"
   ]
  },
  {
   "cell_type": "code",
   "execution_count": 6,
   "id": "032d1a85",
   "metadata": {},
   "outputs": [
    {
     "data": {
      "text/plain": [
       "2"
      ]
     },
     "execution_count": 6,
     "metadata": {},
     "output_type": "execute_result"
    }
   ],
   "source": [
    "area=lambda l,b:l*b\n",
    "area(1,2,3)"
   ]
  },
  {
   "cell_type": "code",
   "execution_count": 7,
   "id": "89bc2e68",
   "metadata": {},
   "outputs": [
    {
     "data": {
      "text/plain": [
       "<function __main__.<lambda>(a)>"
      ]
     },
     "execution_count": 7,
     "metadata": {},
     "output_type": "execute_result"
    }
   ],
   "source": [
    "#filtering\n",
    "a=[1,2,3,4,5,6,7,8,9]\n",
    "lambda a:a%2==0\n",
    "\n"
   ]
  },
  {
   "cell_type": "code",
   "execution_count": 8,
   "id": "b90477a8",
   "metadata": {},
   "outputs": [
    {
     "data": {
      "text/plain": [
       "[2, 4, 6, 8]"
      ]
     },
     "execution_count": 8,
     "metadata": {},
     "output_type": "execute_result"
    }
   ],
   "source": [
    "l=[1,2,3,4,5,6,7,8,9]\n",
    "even=list(filter(lambda a:a%2==0,l))#here value of l is updated itself and after performing the expression it will make list of true condition\n",
    "print(even)"
   ]
  },
  {
   "cell_type": "code",
   "execution_count": 9,
   "id": "5565d047",
   "metadata": {},
   "outputs": [
    {
     "name": "stdout",
     "output_type": "stream",
     "text": [
      "<filter object at 0x000001F9F1086550>\n"
     ]
    }
   ],
   "source": [
    "l=[1,2,3,4,5,6,7,8,9]\n",
    "even=filter(lambda a:a%2==0,l)# generator ko form ma store huncha condition\n",
    "print(even)\n"
   ]
  },
  {
   "cell_type": "code",
   "execution_count": 28,
   "id": "abbbc515",
   "metadata": {},
   "outputs": [
    {
     "name": "stdout",
     "output_type": "stream",
     "text": [
      "['bAll', 'cAt', 'bAanana']\n"
     ]
    }
   ],
   "source": [
    "l=['Apple',\"bAll\",\"cAt\",\"dog\",\"bAanana\"]\n",
    "small=list(filter(lambda a:a[0].islower()&a[1].isupper(),l))#checks only the 1st index value and if 1st index value is lower than only print\n",
    "print(small)\n"
   ]
  },
  {
   "cell_type": "code",
   "execution_count": 26,
   "id": "4633daae",
   "metadata": {},
   "outputs": [
    {
     "name": "stdout",
     "output_type": "stream",
     "text": [
      "['c', 'd', 's', 'v', 'f']\n"
     ]
    }
   ],
   "source": [
    "a=('B','c','d','s','v','f')#initalization can be anything it can be list tuple dictionary or set\n",
    "small=list(filter(lambda l:l.islower(),a))\n",
    "print(small)"
   ]
  },
  {
   "cell_type": "code",
   "execution_count": 21,
   "id": "6be4f2a4",
   "metadata": {},
   "outputs": [
    {
     "name": "stdout",
     "output_type": "stream",
     "text": [
      "[2, 4, 6, 0, 8, 10, 12, 14, 16]\n"
     ]
    }
   ],
   "source": [
    "#mapping\n",
    "a=[1,2,3,0,4,5,6,7,8]\n",
    "b=list(map(lambda l:l*2,a))#list l=[1,2,,3];l*2 cannot be performed ;without using map function\n",
    "print(b)"
   ]
  },
  {
   "cell_type": "code",
   "execution_count": 24,
   "id": "cc48350a",
   "metadata": {},
   "outputs": [
    {
     "name": "stdout",
     "output_type": "stream",
     "text": [
      "['apple', 'ball']\n"
     ]
    }
   ],
   "source": [
    "a=[\"aPple\",\"Ball\"]\n",
    "b=list(map(lambda c:c.lower(),a))#l=['appple'].lower()impossible ;so use map function \n",
    "print(b)"
   ]
  },
  {
   "cell_type": "code",
   "execution_count": 25,
   "id": "e5e170f3",
   "metadata": {},
   "outputs": [
    {
     "name": "stdout",
     "output_type": "stream",
     "text": [
      "['aPple', 'Ball']\n"
     ]
    }
   ],
   "source": [
    "a=[\"aP ple \",\"Ball \"]\n",
    "b=list(map(lambda c:c.replace(' ',''),a))\n",
    "print(b)"
   ]
  },
  {
   "cell_type": "code",
   "execution_count": null,
   "id": "f79a6ae3",
   "metadata": {},
   "outputs": [],
   "source": [
    "#mapping and filtering uses only one argument "
   ]
  }
 ],
 "metadata": {
  "kernelspec": {
   "display_name": "Python 3 (ipykernel)",
   "language": "python",
   "name": "python3"
  },
  "language_info": {
   "codemirror_mode": {
    "name": "ipython",
    "version": 3
   },
   "file_extension": ".py",
   "mimetype": "text/x-python",
   "name": "python",
   "nbconvert_exporter": "python",
   "pygments_lexer": "ipython3",
   "version": "3.9.13"
  }
 },
 "nbformat": 4,
 "nbformat_minor": 5
}
