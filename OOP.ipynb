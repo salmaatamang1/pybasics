{
 "cells": [
  {
   "cell_type": "markdown",
   "id": "51adbe1e",
   "metadata": {},
   "source": [
    "OOP in python\n",
    "basic principle of oop are:\n",
    "1.inheritance-> parent class and child class\n",
    "2.polymorphism->behaviour analysis of same class name\n",
    "3.encapsulation-> hiding of private data\n",
    "\n",
    "Class->\n",
    "class is consider as blue print of an object.\n",
    "syntax:\n",
    "      class <class name>:\n",
    "      <attribute>\n",
    "     < methods>\n",
    "      \n",
    "Object->   \n",
    "everything is object\n",
    "it initalize the class\n",
    "syntax:\n",
    "      P=Python()\n",
    "      \n",
    "Methods->\n",
    "considered as function which define the behaviour of an object\n"
   ]
  },
  {
   "cell_type": "markdown",
   "id": "4ce31b4c",
   "metadata": {},
   "source": [
    "class Hello: #class\n",
    "    def myfxn(): #method\n",
    "        print(\"Hello world\")\n",
    "        \n",
    "H=Hello()  #object decleration\n",
    "H.myfxn() #calling method\n",
    "#here error occurs  due to static method-> independent function since it does not use any property defined with in a class\n",
    "                                               #@staticmethod-> from outside it can take value its value can be used by other method it just determine whether to use _init_() fxn value or not\n",
    "                                               #def myfxn()\n",
    "#note @staticmethod should be written for each method we declared. The value inside the @staticmethod cannot be changed  (Decorator)        \n",
    "@classmethod-> it is dependent fxn we can declare it by:\n",
    "                                                           #def myfxn()\n",
    "    #self-> is current reference to the current instance of the class self be written as first argument of a function "
   ]
  },
  {
   "cell_type": "code",
   "execution_count": 2,
   "id": "1443e9b0",
   "metadata": {},
   "outputs": [
    {
     "name": "stdout",
     "output_type": "stream",
     "text": [
      "Hello world\n"
     ]
    }
   ],
   "source": [
    "class Hello: #class\n",
    "    @staticmethod\n",
    "    def myfxn(): #method\n",
    "        print(\"Hello world\")\n",
    "        \n",
    "H=Hello()  #object decleration\n",
    "H.myfxn() #calling method\n",
    "    \n",
    "    "
   ]
  },
  {
   "cell_type": "markdown",
   "id": "9356d9dc",
   "metadata": {},
   "source": [
    "__init__() function\n",
    "it is also consider as constructor\n",
    "when the class is initalized by an object it is initalized by itself and automatically called.\n",
    "here,\n",
    "function through value send-> when value are send through fxn it will not be class props.\n",
    "class through vale send->when value are send through class it will be class props."
   ]
  },
  {
   "cell_type": "code",
   "execution_count": 7,
   "id": "1e0c96a8",
   "metadata": {},
   "outputs": [
    {
     "name": "stdout",
     "output_type": "stream",
     "text": [
      "Hello world\n",
      "Hi\n",
      "<__main__.Hello object at 0x000001F864DB92B0>\n"
     ]
    }
   ],
   "source": [
    "class Hello:\n",
    "    def __init__(self,x):#here x is equal to\n",
    "        self.x_value=x #right handside x is equal to upper argument of fxn x\n",
    "        #self.x_value =X ma class bata send garako value store huncha\n",
    "        \n",
    "    def hello(self): \n",
    "        print(self.x_value) \n",
    "    \n",
    "    def hello1(self,y): \n",
    "        print(y) \n",
    "obj=Hello(\"Hello world\")# passing value through class\n",
    "obj.hello()\n",
    "obj.hello1('Hi')\n",
    "print(obj)\n",
    "        \n",
    "        "
   ]
  },
  {
   "cell_type": "code",
   "execution_count": 3,
   "id": "049bc679",
   "metadata": {},
   "outputs": [
    {
     "name": "stdout",
     "output_type": "stream",
     "text": [
      "Enter lenght=24\n",
      "Enter breadth=3\n",
      "Enter height=4\n",
      "72\n",
      "288\n"
     ]
    }
   ],
   "source": [
    "class Cal:\n",
    "    def __init__(this,l,b,h):\n",
    "        this.l=l\n",
    "        this.b=b\n",
    "        this.h=h\n",
    "        \n",
    "    def area(this): #fxn ma argument send garna hoina \n",
    "        a=this.l*this.b\n",
    "        print(a)\n",
    "    def vol(this):\n",
    "        v=this.l*this.b*this.h\n",
    "        print(v)\n",
    "l=int(input(\"Enter lenght=\")) \n",
    "b=int(input(\"Enter breadth=\")) \n",
    "h=int(input(\"Enter height=\")) \n",
    "C=Cal(l,b,h)\n",
    "C.area()\n",
    "C.vol()\n",
    "        "
   ]
  },
  {
   "cell_type": "code",
   "execution_count": 3,
   "id": "9a5f05eb",
   "metadata": {},
   "outputs": [],
   "source": [
    "import mysql.connector\n",
    "database=mysql.connector.connect(\n",
    "host=\"localhost\",\n",
    "user=\"root\",\n",
    "password=\"\"       \n",
    ")\n",
    "db=database.cursor()"
   ]
  },
  {
   "cell_type": "code",
   "execution_count": 3,
   "id": "efcd3b76",
   "metadata": {},
   "outputs": [],
   "source": [
    "sql=\"CREATE DATABASE myinfo_ofstudent\"\n",
    "db.execute(sql)"
   ]
  },
  {
   "cell_type": "code",
   "execution_count": 4,
   "id": "dfa3f4a1",
   "metadata": {},
   "outputs": [],
   "source": [
    "database=mysql.connector.connect(\n",
    "host=\"localhost\",\n",
    "user=\"root\",\n",
    "password=\"\", \n",
    "database=\"myinfo_ofstudent\"    \n",
    ")\n",
    "db=database.cursor()"
   ]
  },
  {
   "cell_type": "code",
   "execution_count": 8,
   "id": "39b814cb",
   "metadata": {},
   "outputs": [],
   "source": [
    "\n",
    "sql1='''create table stdmarksheet1(sn int primary key,\n",
    "name VARCHAR(100),\n",
    "rolno int,\n",
    "java int,\n",
    "c int,\n",
    "python int,\n",
    "total int,\n",
    "percentage float\n",
    ")'''\n",
    "db.execute(sql1)"
   ]
  },
  {
   "cell_type": "code",
   "execution_count": 13,
   "id": "2867be94",
   "metadata": {},
   "outputs": [
    {
     "ename": "IntegrityError",
     "evalue": "1062 (23000): Duplicate entry '0' for key 'PRIMARY'",
     "output_type": "error",
     "traceback": [
      "\u001b[1;31m---------------------------------------------------------------------------\u001b[0m",
      "\u001b[1;31mIntegrityError\u001b[0m                            Traceback (most recent call last)",
      "\u001b[1;32m~\\AppData\\Local\\Temp\\ipykernel_620\\1173803366.py\u001b[0m in \u001b[0;36m<module>\u001b[1;34m\u001b[0m\n\u001b[1;32m----> 1\u001b[1;33m \u001b[1;32mclass\u001b[0m \u001b[0mMarksheet\u001b[0m\u001b[1;33m:\u001b[0m\u001b[1;33m\u001b[0m\u001b[1;33m\u001b[0m\u001b[0m\n\u001b[0m\u001b[0;32m      2\u001b[0m     \u001b[1;32mdef\u001b[0m \u001b[0m__init__\u001b[0m\u001b[1;33m(\u001b[0m\u001b[0mthis\u001b[0m\u001b[1;33m,\u001b[0m \u001b[0mcount\u001b[0m\u001b[1;33m,\u001b[0m\u001b[0mstudentname\u001b[0m\u001b[1;33m,\u001b[0m\u001b[0mrollno\u001b[0m\u001b[1;33m,\u001b[0m\u001b[0mjava\u001b[0m\u001b[1;33m,\u001b[0m\u001b[0mc\u001b[0m\u001b[1;33m,\u001b[0m\u001b[0mpython\u001b[0m\u001b[1;33m)\u001b[0m\u001b[1;33m:\u001b[0m\u001b[1;33m\u001b[0m\u001b[1;33m\u001b[0m\u001b[0m\n\u001b[0;32m      3\u001b[0m         \u001b[0mthis\u001b[0m\u001b[1;33m.\u001b[0m\u001b[0mcount\u001b[0m\u001b[1;33m=\u001b[0m\u001b[0mcount\u001b[0m\u001b[1;33m\u001b[0m\u001b[1;33m\u001b[0m\u001b[0m\n\u001b[0;32m      4\u001b[0m         \u001b[0mthis\u001b[0m\u001b[1;33m.\u001b[0m\u001b[0mname\u001b[0m\u001b[1;33m=\u001b[0m\u001b[0mstudentname\u001b[0m\u001b[1;33m\u001b[0m\u001b[1;33m\u001b[0m\u001b[0m\n\u001b[0;32m      5\u001b[0m         \u001b[0mthis\u001b[0m\u001b[1;33m.\u001b[0m\u001b[0mroll\u001b[0m\u001b[1;33m=\u001b[0m\u001b[0mrollno\u001b[0m\u001b[1;33m\u001b[0m\u001b[1;33m\u001b[0m\u001b[0m\n",
      "\u001b[1;32m~\\AppData\\Local\\Temp\\ipykernel_620\\1173803366.py\u001b[0m in \u001b[0;36mMarksheet\u001b[1;34m()\u001b[0m\n\u001b[0;32m     16\u001b[0m     sql2='''insert into stdmarksheet1 (sn,name,rolno,java,c,python,total,percentage)\n\u001b[0;32m     17\u001b[0m               values('this.count','this.name,','this.roll','this.java','this.c','this.python','total','percentage')'''\n\u001b[1;32m---> 18\u001b[1;33m     \u001b[0mdb\u001b[0m\u001b[1;33m.\u001b[0m\u001b[0mexecute\u001b[0m\u001b[1;33m(\u001b[0m\u001b[0msql2\u001b[0m\u001b[1;33m)\u001b[0m\u001b[1;33m\u001b[0m\u001b[1;33m\u001b[0m\u001b[0m\n\u001b[0m\u001b[0;32m     19\u001b[0m     \u001b[0mdatabase\u001b[0m\u001b[1;33m.\u001b[0m\u001b[0mcommit\u001b[0m\u001b[1;33m(\u001b[0m\u001b[1;33m)\u001b[0m\u001b[1;33m\u001b[0m\u001b[1;33m\u001b[0m\u001b[0m\n\u001b[0;32m     20\u001b[0m \u001b[1;33m\u001b[0m\u001b[0m\n",
      "\u001b[1;32m~\\anaconda3\\lib\\site-packages\\mysql\\connector\\cursor.py\u001b[0m in \u001b[0;36mexecute\u001b[1;34m(self, operation, params, multi)\u001b[0m\n\u001b[0;32m    549\u001b[0m         \u001b[1;32melse\u001b[0m\u001b[1;33m:\u001b[0m\u001b[1;33m\u001b[0m\u001b[1;33m\u001b[0m\u001b[0m\n\u001b[0;32m    550\u001b[0m             \u001b[1;32mtry\u001b[0m\u001b[1;33m:\u001b[0m\u001b[1;33m\u001b[0m\u001b[1;33m\u001b[0m\u001b[0m\n\u001b[1;32m--> 551\u001b[1;33m                 \u001b[0mself\u001b[0m\u001b[1;33m.\u001b[0m\u001b[0m_handle_result\u001b[0m\u001b[1;33m(\u001b[0m\u001b[0mself\u001b[0m\u001b[1;33m.\u001b[0m\u001b[0m_connection\u001b[0m\u001b[1;33m.\u001b[0m\u001b[0mcmd_query\u001b[0m\u001b[1;33m(\u001b[0m\u001b[0mstmt\u001b[0m\u001b[1;33m)\u001b[0m\u001b[1;33m)\u001b[0m\u001b[1;33m\u001b[0m\u001b[1;33m\u001b[0m\u001b[0m\n\u001b[0m\u001b[0;32m    552\u001b[0m             \u001b[1;32mexcept\u001b[0m \u001b[0merrors\u001b[0m\u001b[1;33m.\u001b[0m\u001b[0mInterfaceError\u001b[0m\u001b[1;33m:\u001b[0m\u001b[1;33m\u001b[0m\u001b[1;33m\u001b[0m\u001b[0m\n\u001b[0;32m    553\u001b[0m                 \u001b[1;32mif\u001b[0m \u001b[0mself\u001b[0m\u001b[1;33m.\u001b[0m\u001b[0m_connection\u001b[0m\u001b[1;33m.\u001b[0m\u001b[0m_have_next_result\u001b[0m\u001b[1;33m:\u001b[0m  \u001b[1;31m# pylint: disable=W0212\u001b[0m\u001b[1;33m\u001b[0m\u001b[1;33m\u001b[0m\u001b[0m\n",
      "\u001b[1;32m~\\anaconda3\\lib\\site-packages\\mysql\\connector\\connection.py\u001b[0m in \u001b[0;36mcmd_query\u001b[1;34m(self, query, raw, buffered, raw_as_string)\u001b[0m\n\u001b[0;32m    488\u001b[0m         \u001b[1;32mif\u001b[0m \u001b[1;32mnot\u001b[0m \u001b[0misinstance\u001b[0m\u001b[1;33m(\u001b[0m\u001b[0mquery\u001b[0m\u001b[1;33m,\u001b[0m \u001b[0mbytes\u001b[0m\u001b[1;33m)\u001b[0m\u001b[1;33m:\u001b[0m\u001b[1;33m\u001b[0m\u001b[1;33m\u001b[0m\u001b[0m\n\u001b[0;32m    489\u001b[0m             \u001b[0mquery\u001b[0m \u001b[1;33m=\u001b[0m \u001b[0mquery\u001b[0m\u001b[1;33m.\u001b[0m\u001b[0mencode\u001b[0m\u001b[1;33m(\u001b[0m\u001b[1;34m'utf-8'\u001b[0m\u001b[1;33m)\u001b[0m\u001b[1;33m\u001b[0m\u001b[1;33m\u001b[0m\u001b[0m\n\u001b[1;32m--> 490\u001b[1;33m         \u001b[0mresult\u001b[0m \u001b[1;33m=\u001b[0m \u001b[0mself\u001b[0m\u001b[1;33m.\u001b[0m\u001b[0m_handle_result\u001b[0m\u001b[1;33m(\u001b[0m\u001b[0mself\u001b[0m\u001b[1;33m.\u001b[0m\u001b[0m_send_cmd\u001b[0m\u001b[1;33m(\u001b[0m\u001b[0mServerCmd\u001b[0m\u001b[1;33m.\u001b[0m\u001b[0mQUERY\u001b[0m\u001b[1;33m,\u001b[0m \u001b[0mquery\u001b[0m\u001b[1;33m)\u001b[0m\u001b[1;33m)\u001b[0m\u001b[1;33m\u001b[0m\u001b[1;33m\u001b[0m\u001b[0m\n\u001b[0m\u001b[0;32m    491\u001b[0m \u001b[1;33m\u001b[0m\u001b[0m\n\u001b[0;32m    492\u001b[0m         \u001b[1;32mif\u001b[0m \u001b[0mself\u001b[0m\u001b[1;33m.\u001b[0m\u001b[0m_have_next_result\u001b[0m\u001b[1;33m:\u001b[0m\u001b[1;33m\u001b[0m\u001b[1;33m\u001b[0m\u001b[0m\n",
      "\u001b[1;32m~\\anaconda3\\lib\\site-packages\\mysql\\connector\\connection.py\u001b[0m in \u001b[0;36m_handle_result\u001b[1;34m(self, packet)\u001b[0m\n\u001b[0;32m    393\u001b[0m             \u001b[1;32mreturn\u001b[0m \u001b[0mself\u001b[0m\u001b[1;33m.\u001b[0m\u001b[0m_handle_eof\u001b[0m\u001b[1;33m(\u001b[0m\u001b[0mpacket\u001b[0m\u001b[1;33m)\u001b[0m\u001b[1;33m\u001b[0m\u001b[1;33m\u001b[0m\u001b[0m\n\u001b[0;32m    394\u001b[0m         \u001b[1;32melif\u001b[0m \u001b[0mpacket\u001b[0m\u001b[1;33m[\u001b[0m\u001b[1;36m4\u001b[0m\u001b[1;33m]\u001b[0m \u001b[1;33m==\u001b[0m \u001b[1;36m255\u001b[0m\u001b[1;33m:\u001b[0m\u001b[1;33m\u001b[0m\u001b[1;33m\u001b[0m\u001b[0m\n\u001b[1;32m--> 395\u001b[1;33m             \u001b[1;32mraise\u001b[0m \u001b[0merrors\u001b[0m\u001b[1;33m.\u001b[0m\u001b[0mget_exception\u001b[0m\u001b[1;33m(\u001b[0m\u001b[0mpacket\u001b[0m\u001b[1;33m)\u001b[0m\u001b[1;33m\u001b[0m\u001b[1;33m\u001b[0m\u001b[0m\n\u001b[0m\u001b[0;32m    396\u001b[0m \u001b[1;33m\u001b[0m\u001b[0m\n\u001b[0;32m    397\u001b[0m         \u001b[1;31m# We have a text result set\u001b[0m\u001b[1;33m\u001b[0m\u001b[1;33m\u001b[0m\u001b[0m\n",
      "\u001b[1;31mIntegrityError\u001b[0m: 1062 (23000): Duplicate entry '0' for key 'PRIMARY'"
     ]
    }
   ],
   "source": [
    "class Marksheet:\n",
    "    def __init__(this, count,studentname,rollno,java,c,python):\n",
    "        this.count=count\n",
    "        this.name=studentname\n",
    "        this.roll=rollno\n",
    "        this.java=java\n",
    "        this.c=c\n",
    "        this.py=python\n",
    "    def marksheet(this): \n",
    "        print(this.name)\n",
    "        print(this.roll)\n",
    "        total=this.c+this.java+this.c\n",
    "        percentage=total*0.33\n",
    "        print(\"total=\",total)\n",
    "        print(\"Percentage=\",percentage)\n",
    "    sql2=f'''insert into stdmarksheet1 (sn,name,rolno,java,c,python,total,percentage)\n",
    "              values({this.count},'{this.name}',','this.roll','this.java','this.c','this.python','total','percentage')'''\n",
    "    \n",
    "    db.execute(sql2)\n",
    "    database.commit()\n",
    "\n",
    "\n",
    "\n",
    "n=int(input(\"Enter the no of student details that you want to record it=\")) \n",
    "for i in range(n):\n",
    "    count=0\n",
    "    name=input(\"enter the name of student=\")\n",
    "    roll=int(input(\"enter the roll no=\"))\n",
    "    java=int(input(\"Enter the marks obtained in java=\"))\n",
    "    c=int(input(\"Enter the marks obtained in c=\"))\n",
    "    python=int(input(\"Enter the marks obtained in python=\"))\n",
    "    count+=1;\n",
    "    obj=Marksheet(count,name,roll,java,c,python)\n",
    "    obj.marksheet()\n",
    "\n",
    "    "
   ]
  },
  {
   "cell_type": "markdown",
   "id": "5ed4e416",
   "metadata": {},
   "source": [
    "__str__method()->returning value from function \n",
    "it is of two type of return they are:\n",
    "1.object return\n",
    "2.normal value return\n",
    "__str__method() is used to return trhe string value only;\n",
    "-->it represent the identity of a class\n",
    "-->it return in form of an object\n",
    "\n",
    "\n",
    "\n",
    "\n"
   ]
  },
  {
   "cell_type": "code",
   "execution_count": 6,
   "id": "63b4a5a1",
   "metadata": {},
   "outputs": [
    {
     "name": "stdout",
     "output_type": "stream",
     "text": [
      "Enter the name=Ram\n",
      "Enter the age=21\n",
      "Enter the address=ktm\n",
      "Hello my name is Ram.I am from ktm.I am 21 old\n",
      "<class 'str'>\n",
      "ktm\n",
      "<class '__main__.Info'>\n"
     ]
    }
   ],
   "source": [
    "class Info:\n",
    "    def __init__(this,name,age,addr):\n",
    "        this.name=name\n",
    "        this.age=age\n",
    "        this.add=addr\n",
    "        \n",
    "    def __str__(this):\n",
    "        return(this.name)  #this return the name of an object inorder to have unique identity of a class\n",
    "    \n",
    "    \n",
    "    def info(this):\n",
    "        my_info=f\"Hello my name is {this.name}.I am from {this.add}.I am {this.age} old\"\n",
    "        return(my_info)\n",
    "    \n",
    "    \n",
    "name=input(\"Enter the name=\")\n",
    "age=int(input(\"Enter the age=\"))\n",
    "address=input(\"Enter the address=\")\n",
    "obj=Info(name,age,address)\n",
    "print(obj.info())\n",
    "print(type(obj.info()))\n",
    "print(obj) # we get the returned value from __str__() fxn calling of str() method\n",
    "print(type(obj)) \n",
    "print(obj.__str__())"
   ]
  },
  {
   "cell_type": "markdown",
   "id": "b8b8dc30",
   "metadata": {},
   "source": []
  }
 ],
 "metadata": {
  "kernelspec": {
   "display_name": "Python 3 (ipykernel)",
   "language": "python",
   "name": "python3"
  },
  "language_info": {
   "codemirror_mode": {
    "name": "ipython",
    "version": 3
   },
   "file_extension": ".py",
   "mimetype": "text/x-python",
   "name": "python",
   "nbconvert_exporter": "python",
   "pygments_lexer": "ipython3",
   "version": "3.9.13"
  }
 },
 "nbformat": 4,
 "nbformat_minor": 5
}
