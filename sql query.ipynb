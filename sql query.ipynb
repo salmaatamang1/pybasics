{
 "cells": [
  {
   "cell_type": "code",
   "execution_count": 3,
   "id": "5d7cb07a",
   "metadata": {},
   "outputs": [
    {
     "name": "stdout",
     "output_type": "stream",
     "text": [
      "Collecting mysql-connector\n",
      "  Downloading mysql-connector-2.2.9.tar.gz (11.9 MB)\n",
      "     -------------------------------------- 11.9/11.9 MB 351.6 kB/s eta 0:00:00\n",
      "  Preparing metadata (setup.py): started\n",
      "  Preparing metadata (setup.py): finished with status 'done'\n",
      "Building wheels for collected packages: mysql-connector\n",
      "  Building wheel for mysql-connector (setup.py): started\n",
      "  Building wheel for mysql-connector (setup.py): finished with status 'done'\n",
      "  Created wheel for mysql-connector: filename=mysql_connector-2.2.9-cp39-cp39-win_amd64.whl size=247946 sha256=179efbd6543a40a86384f5fa4860960761b5e18ba5454ad614f78e929e164205\n",
      "  Stored in directory: c:\\users\\lenovo\\appdata\\local\\pip\\cache\\wheels\\7b\\14\\39\\5aad423666e827dfe9a1fbcd111ac17171e7c9865d570780ce\n",
      "Successfully built mysql-connector\n",
      "Installing collected packages: mysql-connector\n",
      "Successfully installed mysql-connector-2.2.9\n"
     ]
    }
   ],
   "source": [
    "!pip install mysql-connector"
   ]
  },
  {
   "cell_type": "code",
   "execution_count": 1,
   "id": "6a3f9a08",
   "metadata": {},
   "outputs": [],
   "source": [
    "import mysql.connector\n",
    "database=mysql.connector.connect(\n",
    "host=\"localhost\",\n",
    "user=\"root\",\n",
    "password=\"\"\n",
    ")\n",
    "db=database.cursor()#it hold the database and create connection with database"
   ]
  },
  {
   "cell_type": "code",
   "execution_count": 2,
   "id": "12c04f39",
   "metadata": {},
   "outputs": [],
   "source": [
    "sql=\"CREATE DATABASE python02\"\n",
    "db.execute(sql)"
   ]
  },
  {
   "cell_type": "code",
   "execution_count": 8,
   "id": "e486e85e",
   "metadata": {},
   "outputs": [],
   "source": [
    "import mysql.connector\n",
    "database=mysql.connector.connect(\n",
    "host=\"localhost\",\n",
    "user=\"root\",\n",
    "password=\"\",\n",
    "database=\"python01\"    \n",
    ")\n",
    "db=database.cursor()"
   ]
  },
  {
   "cell_type": "code",
   "execution_count": 9,
   "id": "f2b6d2cc",
   "metadata": {},
   "outputs": [],
   "source": [
    "sql1=\"CREATE TABLE employee(id INT,name VARCHAR(255))\"\n",
    "db.execute(sql1)"
   ]
  },
  {
   "cell_type": "code",
   "execution_count": 32,
   "id": "210782b8",
   "metadata": {},
   "outputs": [],
   "source": [
    "import mysql.connector\n",
    "database=mysql.connector.connect(\n",
    "host=\"localhost\",\n",
    "user=\"root\",\n",
    "password=\"\",\n",
    "database=\"python01\"    \n",
    ")\n",
    "db=database.cursor()"
   ]
  },
  {
   "cell_type": "code",
   "execution_count": 18,
   "id": "0f43fa85",
   "metadata": {},
   "outputs": [],
   "source": [
    "sql2=\"insert into employee values(null,'sam'),(2,'Sita')\"\n",
    "db.execute(sql2)\n",
    "database.commit()#insertion garna bela commit fxn use garnu parcha"
   ]
  },
  {
   "cell_type": "code",
   "execution_count": 25,
   "id": "40e97003",
   "metadata": {},
   "outputs": [
    {
     "name": "stdout",
     "output_type": "stream",
     "text": [
      "Enter the value of n1\n",
      "Enter the no=4\n",
      "Enter the name=sami\n"
     ]
    }
   ],
   "source": [
    "#dynamic value insertion in database\n",
    "n=int(input(\"Enter the value of n\"))\n",
    "for i in range(n):\n",
    "    sn=int(input(\"Enter the no=\"))\n",
    "    name=input(\"Enter the name=\")\n",
    "sql4=(f\"insert into employee values({sn},'{name}') \");\n",
    "db.execute(sql4)\n",
    "database.commit()"
   ]
  },
  {
   "cell_type": "code",
   "execution_count": 26,
   "id": "913d4817",
   "metadata": {},
   "outputs": [
    {
     "name": "stdout",
     "output_type": "stream",
     "text": [
      "(1, 'Ram')\n",
      "(2, 'Sita')\n",
      "(1, 'Ram')\n",
      "(2, 'Sita')\n",
      "(None, 'sam')\n",
      "(2, 'Sita')\n",
      "(4, 'sami')\n"
     ]
    }
   ],
   "source": [
    "sql3=\"select * from employee\";\n",
    "db.execute(sql3)\n",
    "result=db.fetchall()\n",
    "for x in result:\n",
    "    print(x)"
   ]
  },
  {
   "cell_type": "code",
   "execution_count": 34,
   "id": "f1451201",
   "metadata": {},
   "outputs": [
    {
     "name": "stdout",
     "output_type": "stream",
     "text": [
      "(1, 'Ram')\n",
      "(1, 'Ram')\n"
     ]
    }
   ],
   "source": [
    "#selecting query\n",
    "sql5=\"select id,name from employee where name='ram'\";\n",
    "db.execute(sql5)\n",
    "result=db.fetchall()\n",
    "for x in result:\n",
    "    print(x)"
   ]
  },
  {
   "cell_type": "code",
   "execution_count": 36,
   "id": "7db76a33",
   "metadata": {},
   "outputs": [],
   "source": [
    "#deleting query\n",
    "sql6=\"delete from employee where name='Ram'\"\n",
    "db.execute(sql6)\n",
    "database.commit()"
   ]
  },
  {
   "cell_type": "code",
   "execution_count": 37,
   "id": "550e32c3",
   "metadata": {},
   "outputs": [],
   "source": [
    "#updating query\n",
    "sql7=\"update employee set name='Ram' where name='Sita' and id=2\";\n",
    "db.execute(sql7)\n",
    "database.commit()"
   ]
  },
  {
   "cell_type": "code",
   "execution_count": null,
   "id": "521ca923",
   "metadata": {},
   "outputs": [],
   "source": []
  }
 ],
 "metadata": {
  "kernelspec": {
   "display_name": "Python 3 (ipykernel)",
   "language": "python",
   "name": "python3"
  },
  "language_info": {
   "codemirror_mode": {
    "name": "ipython",
    "version": 3
   },
   "file_extension": ".py",
   "mimetype": "text/x-python",
   "name": "python",
   "nbconvert_exporter": "python",
   "pygments_lexer": "ipython3",
   "version": "3.9.13"
  }
 },
 "nbformat": 4,
 "nbformat_minor": 5
}
