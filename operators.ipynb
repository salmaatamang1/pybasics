{
 "cells": [
  {
   "cell_type": "code",
   "execution_count": 2,
   "id": "ad9a7298",
   "metadata": {},
   "outputs": [
    {
     "name": "stdout",
     "output_type": "stream",
     "text": [
      "Enter the value of n2\n",
      "2 is even or greater than O\n"
     ]
    }
   ],
   "source": [
    "#use of or operator\n",
    "n=int(input(\"Enter the value of n\"))\n",
    "if n%2==0  or n>0:\n",
    "    print(n,\"is even or greater than O\")\n",
    "    \n",
    "else:\n",
    "    print(n,\"is negative\")"
   ]
  },
  {
   "cell_type": "code",
   "execution_count": 3,
   "id": "8d10b63d",
   "metadata": {},
   "outputs": [
    {
     "name": "stdout",
     "output_type": "stream",
     "text": [
      "Enter the value of n-12\n",
      "-12 is even or greater than O\n"
     ]
    }
   ],
   "source": [
    "n=int(input(\"Enter the value of n\"))\n",
    "if (n%2==0)|(n>=0):\n",
    "    print(n,\"is even or greater than O\")\n",
    "    \n",
    "else:\n",
    "    print(n,\"is negative\")"
   ]
  },
  {
   "cell_type": "code",
   "execution_count": 4,
   "id": "ad7d53c6",
   "metadata": {},
   "outputs": [
    {
     "name": "stdout",
     "output_type": "stream",
     "text": [
      "Enter the value of a34\n",
      "Enter the value of b56\n",
      "B\n"
     ]
    }
   ],
   "source": [
    "a=int(input(\"Enter the value of a\"))\n",
    "b=int(input(\"Enter the value of b\"))\n",
    "c=a+b\n",
    "p=c/2\n",
    "if (p>80)|(p==80):\n",
    "    print(\"A\")\n",
    "else:\n",
    "    print(\"B\")"
   ]
  },
  {
   "cell_type": "code",
   "execution_count": 5,
   "id": "f0bc76a9",
   "metadata": {},
   "outputs": [
    {
     "name": "stdout",
     "output_type": "stream",
     "text": [
      "Enter the num=23\n",
      "num is positive and odd\n"
     ]
    }
   ],
   "source": [
    "#nested if\n",
    "# syntax\n",
    "# if<condition>:\n",
    "#     if<condition>:\n",
    "#         <operation>\n",
    "        \n",
    "#     else:\n",
    "#         <operation>\n",
    "# else:\n",
    "#     <condition>\n",
    "a=int(input(\"Enter the num=\"))\n",
    "if a>=0:\n",
    "    if a%2==0:\n",
    "        print(\"num is positive and even\")\n",
    "    else:\n",
    "        print(\"num is positive and odd\")\n",
    "else:\n",
    "    if a%2==0:\n",
    "        print(\"num is even and negative\")\n",
    "    else:\n",
    "        print(\"num is odd and negative\")"
   ]
  },
  {
   "cell_type": "code",
   "execution_count": 6,
   "id": "16fd7be1",
   "metadata": {},
   "outputs": [
    {
     "name": "stdout",
     "output_type": "stream",
     "text": [
      "Enter the 1st val=12\n",
      "Enter the 2nd val=0\n",
      "Enter the operator that you want to perform/\n",
      "Please enter the b not equal to zero\n"
     ]
    }
   ],
   "source": [
    "a=int(input(\"Enter the 1st val=\"))\n",
    "b=int(input(\"Enter the 2nd val=\"))\n",
    "op=input(\"Enter the operator that you want to perform\")\n",
    "if op==\"+\":\n",
    "    print(a+b)\n",
    "elif op==\"*\":\n",
    "    print(a*b)\n",
    "elif op==\"/\":\n",
    "    if b==0:\n",
    "        print(\"Please enter the b not equal to zero\")\n",
    "    else:\n",
    "        print(a/b)\n",
    "else:\n",
    "    print(\"invalid operator\")"
   ]
  },
  {
   "cell_type": "code",
   "execution_count": 7,
   "id": "18d5dc76",
   "metadata": {},
   "outputs": [
    {
     "name": "stdout",
     "output_type": "stream",
     "text": [
      "0\n",
      "1\n",
      "2\n",
      "3\n",
      "4\n",
      "5\n",
      "6\n",
      "7\n"
     ]
    }
   ],
   "source": [
    "#for loop\n",
    "#while loop\n",
    "#syntax  of for loop\n",
    "\n",
    "#for variable_name in range():\n",
    "for a in range(8):\n",
    "    print(a)"
   ]
  },
  {
   "cell_type": "code",
   "execution_count": 11,
   "id": "c14880a3",
   "metadata": {},
   "outputs": [
    {
     "name": "stdout",
     "output_type": "stream",
     "text": [
      "Hello world\n",
      "Hello world\n",
      "Hello world\n",
      "Hello world\n",
      "Hello world\n",
      "Hello world\n",
      "Hello world\n",
      "Hello world\n",
      "Hello world\n",
      "Hello world\n",
      "Hello world\n"
     ]
    }
   ],
   "source": [
    "for a in range(11):\n",
    "    print(\"Hello world\")"
   ]
  },
  {
   "cell_type": "code",
   "execution_count": 13,
   "id": "bad09a8f",
   "metadata": {},
   "outputs": [
    {
     "name": "stdout",
     "output_type": "stream",
     "text": [
      "5 * 1 = 5\n",
      "5 * 2 = 10\n",
      "5 * 3 = 15\n",
      "5 * 4 = 20\n",
      "5 * 5 = 25\n",
      "5 * 6 = 30\n",
      "5 * 7 = 35\n",
      "5 * 8 = 40\n",
      "5 * 9 = 45\n",
      "5 * 10 = 50\n"
     ]
    }
   ],
   "source": [
    "for a in range(1,11):\n",
    "    print(\"5 *\",a,\"=\",5*a)"
   ]
  },
  {
   "cell_type": "code",
   "execution_count": 14,
   "id": "e03822bf",
   "metadata": {},
   "outputs": [
    {
     "name": "stdout",
     "output_type": "stream",
     "text": [
      "Enter the value of a=12\n",
      "12 * 1 = 12\n",
      "12 * 2 = 24\n",
      "12 * 3 = 36\n",
      "12 * 4 = 48\n",
      "12 * 5 = 60\n",
      "12 * 6 = 72\n",
      "12 * 7 = 84\n",
      "12 * 8 = 96\n",
      "12 * 9 = 108\n",
      "12 * 10 = 120\n"
     ]
    }
   ],
   "source": [
    "a=int(input(\"Enter the value of a=\"))\n",
    "for i in range(1,11):\n",
    "    print(a,\"*\",i,\"=\",a*i)"
   ]
  },
  {
   "cell_type": "code",
   "execution_count": 17,
   "id": "634fe100",
   "metadata": {},
   "outputs": [
    {
     "name": "stdout",
     "output_type": "stream",
     "text": [
      "Enter the value=5\n",
      "Enter the number1\n",
      "Enter the number2\n",
      "Enter the number3\n",
      "Enter the number4\n",
      "Enter the number5\n"
     ]
    }
   ],
   "source": [
    "a=int(input(\"Enter the value=\"))\n",
    "for i in range(a):\n",
    "    x=input(\"Enter the number\")\n",
    "    "
   ]
  },
  {
   "cell_type": "code",
   "execution_count": 24,
   "id": "5f6697b0",
   "metadata": {},
   "outputs": [
    {
     "name": "stdout",
     "output_type": "stream",
     "text": [
      "Enter the value=5\n",
      "Enter the number1\n",
      "Enter the number2\n",
      "Enter the number3\n",
      "Enter the number4\n",
      "Enter the number5\n",
      "15\n"
     ]
    }
   ],
   "source": [
    "a=int(input(\"Enter the value=\"))\n",
    "sum=0\n",
    "for i in range(a):\n",
    "    x=int(input(\"Enter the number\"))\n",
    "    sum=sum+x\n",
    "print(sum)    \n",
    "    "
   ]
  },
  {
   "cell_type": "markdown",
   "id": "748a7810",
   "metadata": {},
   "source": [
    "a=int(input(\"Enter the value=\"))\n",
    "mul=1\n",
    "for i in range(a):\n",
    "    x=int(input(\"Enter the number\"))\n",
    "    mul=mul*x\n",
    "print(sum)    \n",
    "    "
   ]
  },
  {
   "cell_type": "code",
   "execution_count": 30,
   "id": "310696b5",
   "metadata": {},
   "outputs": [
    {
     "name": "stdout",
     "output_type": "stream",
     "text": [
      "Enter the value that you want to find factorial6\n",
      "720\n"
     ]
    }
   ],
   "source": [
    "fact=1\n",
    "a=int(input(\"Enter the value that you want to find factorial\"))\n",
    "for i in range(1,a+1):\n",
    "    fact=fact*i\n",
    "print(fact)    "
   ]
  },
  {
   "cell_type": "code",
   "execution_count": 4,
   "id": "0233de21",
   "metadata": {},
   "outputs": [
    {
     "name": "stdout",
     "output_type": "stream",
     "text": [
      "Enterv 1st range num1\n",
      "Enterv the last range 5\n",
      "15\n"
     ]
    }
   ],
   "source": [
    "a=int(input(\"Enterv 1st range num\"))\n",
    "b=int(input(\"Enterv the last range \"))\n",
    "s=0\n",
    "for i in range(a,b+1):\n",
    "    s=s+i\n",
    "print(s)    \n"
   ]
  },
  {
   "cell_type": "code",
   "execution_count": 9,
   "id": "41eb369b",
   "metadata": {},
   "outputs": [
    {
     "name": "stdout",
     "output_type": "stream",
     "text": [
      "Enter your name=sam\n",
      "sam\n",
      "sam\n",
      "sam\n",
      "sam\n"
     ]
    }
   ],
   "source": [
    "a=input(\"Enter your name=\")\n",
    "for i in range(4):\n",
    "    print(a)"
   ]
  },
  {
   "cell_type": "code",
   "execution_count": null,
   "id": "0501bbd8",
   "metadata": {},
   "outputs": [],
   "source": []
  }
 ],
 "metadata": {
  "kernelspec": {
   "display_name": "Python 3 (ipykernel)",
   "language": "python",
   "name": "python3"
  },
  "language_info": {
   "codemirror_mode": {
    "name": "ipython",
    "version": 3
   },
   "file_extension": ".py",
   "mimetype": "text/x-python",
   "name": "python",
   "nbconvert_exporter": "python",
   "pygments_lexer": "ipython3",
   "version": "3.9.13"
  }
 },
 "nbformat": 4,
 "nbformat_minor": 5
}
