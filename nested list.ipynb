{
 "cells": [
  {
   "cell_type": "code",
   "execution_count": 1,
   "id": "eca06b50",
   "metadata": {},
   "outputs": [
    {
     "name": "stdout",
     "output_type": "stream",
     "text": [
      "<class 'list'>\n"
     ]
    }
   ],
   "source": [
    "#nested list\n",
    "a=[[1,2,3],[4,5,6],[7,8,9]]\n",
    "print(type(a))"
   ]
  },
  {
   "cell_type": "code",
   "execution_count": 2,
   "id": "1c2442a4",
   "metadata": {},
   "outputs": [
    {
     "name": "stdout",
     "output_type": "stream",
     "text": [
      "[1, 2, 3]\n"
     ]
    }
   ],
   "source": [
    "print(a[0])"
   ]
  },
  {
   "cell_type": "code",
   "execution_count": 4,
   "id": "9abe5e8c",
   "metadata": {},
   "outputs": [
    {
     "name": "stdout",
     "output_type": "stream",
     "text": [
      "3\n"
     ]
    }
   ],
   "source": [
    "print(a[0][2])"
   ]
  },
  {
   "cell_type": "code",
   "execution_count": 5,
   "id": "a0c4c413",
   "metadata": {},
   "outputs": [
    {
     "name": "stdout",
     "output_type": "stream",
     "text": [
      "['Sita', 20, 'patan']\n"
     ]
    }
   ],
   "source": [
    "a=[['Ram',21,'ktm'],['Sita',20,'patan'],['gopal',19,'bkth']]\n",
    "print(a[1])"
   ]
  },
  {
   "cell_type": "code",
   "execution_count": 6,
   "id": "c989f0af",
   "metadata": {},
   "outputs": [
    {
     "name": "stdout",
     "output_type": "stream",
     "text": [
      "Sita\n"
     ]
    }
   ],
   "source": [
    "print(a[1][0])"
   ]
  },
  {
   "cell_type": "code",
   "execution_count": 7,
   "id": "47dc5818",
   "metadata": {},
   "outputs": [
    {
     "name": "stdout",
     "output_type": "stream",
     "text": [
      "Enter the value 3\n",
      "Enter the name=ram \n",
      "Enter the age=21\n",
      "Enter the address=ktm\n",
      "Enter the name=sita\n",
      "Enter the age=20\n",
      "Enter the address=patan\n",
      "Enter the name=gopal\n",
      "Enter the age=19\n",
      "Enter the address=bkt\n",
      "[['ram ', 21, 'ktm'], ['sita', 20, 'patan'], ['gopal', 19, 'bkt']]\n"
     ]
    }
   ],
   "source": [
    "x=[]\n",
    "n=int(input(\"Enter the value \"))\n",
    "for i in range(n):\n",
    "    a=input(\"Enter the name=\")\n",
    "    b=int(input(\"Enter the age=\"))\n",
    "    c=input(\"Enter the address=\")\n",
    "    x.append([a,b,c])\n",
    "print(x)    "
   ]
  },
  {
   "cell_type": "code",
   "execution_count": 10,
   "id": "19e214e9",
   "metadata": {},
   "outputs": [
    {
     "name": "stdout",
     "output_type": "stream",
     "text": [
      "[['ram ', 21, 'ktm'], ['sita', 20, 'patan'], ['gopal', 19, 'bkt'], ['hari', '23', 'lalitpur'], ['hari', '23', 'lalitpur'], ['hari', '23']]\n"
     ]
    }
   ],
   "source": [
    "#for addition\n",
    "x.append(['hari','23'])\n",
    "print(x)"
   ]
  },
  {
   "cell_type": "code",
   "execution_count": 12,
   "id": "f118802f",
   "metadata": {},
   "outputs": [
    {
     "name": "stdout",
     "output_type": "stream",
     "text": [
      "[['ram ', 21, 'ktm'], ['sita', 20, 'patan'], ['gopal', 19, 'bkt'], ['hari', '23', 'lalitpur'], ['hari', '23', 'lalitpur'], ['hari', '23']]\n",
      "[['ram ', 21, 'ktm'], ['sita', 20, 'patan'], ['gopal', 19, 'bkt'], ['hari', '23', 'lalitpur'], ['hari', '23', 'lalitpur'], ['hari', '23']]\n",
      "[['ram ', 21, 'ktm'], ['sita', 20, 'patan'], ['gopal', 19, 'bkt'], ['hari', '23', 'lalitpur'], ['hari', '23', 'lalitpur'], ['hari', '23']]\n",
      "[['ram ', 21, 'ktm'], ['sita', 20, 'patan'], ['gopal', 19, 'bkt'], ['hari', '23', 'lalitpur'], ['hari', '23', 'lalitpur'], ['hari', '23']]\n",
      "[['ram ', 21, 'ktm'], ['sita', 20, 'patan'], ['gopal', 19, 'bkt'], ['hari', '23', 'lalitpur'], ['hari', '23', 'lalitpur'], ['hari', '23']]\n",
      "[['ram ', 21, 'ktm'], ['sita', 20, 'patan'], ['gopal', 19, 'bkt'], ['hari', '23', 'lalitpur'], ['hari', '23', 'lalitpur'], ['hari', '23']]\n"
     ]
    }
   ],
   "source": [
    "#searching\n",
    "for i in x:\n",
    "    print(x)"
   ]
  },
  {
   "cell_type": "code",
   "execution_count": 14,
   "id": "e531dcf6",
   "metadata": {},
   "outputs": [
    {
     "name": "stdout",
     "output_type": "stream",
     "text": [
      "Enter the name to be searched=Ram\n",
      "['Ram', 21, 'ktm']\n"
     ]
    }
   ],
   "source": [
    "p=[['Ram',21,'ktm'],['Sita',20,'patan'],['gopal',19,'bkth']]\n",
    "name=input(\"Enter the name to be searched=\")\n",
    "for i in p:\n",
    "    if name in i:\n",
    "        print(i)"
   ]
  },
  {
   "cell_type": "code",
   "execution_count": 16,
   "id": "a00b007a",
   "metadata": {},
   "outputs": [
    {
     "name": "stdout",
     "output_type": "stream",
     "text": [
      "Enter the name to be searched=RAM\n",
      "<built-in method lower of str object at 0x00000294006674F0>\n"
     ]
    }
   ],
   "source": [
    "p=[['Ram',21,'ktm'],['Sita',20,'patan'],['gopal',19,'bkth']]\n",
    "name=input(\"Enter the name to be searched=\").lower()\n",
    "l=len(p)\n",
    "for i in range(l):\n",
    "    if name in p[i][0].lower():\n",
    "        print(p[i][0].lower)"
   ]
  },
  {
   "cell_type": "code",
   "execution_count": 17,
   "id": "5a11012a",
   "metadata": {},
   "outputs": [
    {
     "name": "stdout",
     "output_type": "stream",
     "text": [
      "['Ram', 21, 'ktm']\n"
     ]
    }
   ],
   "source": [
    "p=[['Ram',21,'ktm'],['Sita',20,'patan'],['gopal',19,'bkth']]\n",
    "for i in p:\n",
    "    if i[1]>20:\n",
    "        print(i)\n"
   ]
  },
  {
   "cell_type": "code",
   "execution_count": 18,
   "id": "83a99571",
   "metadata": {},
   "outputs": [
    {
     "name": "stdout",
     "output_type": "stream",
     "text": [
      "[['rita', 21, 'ktm'], ['Sita', 20, 'patan'], ['gopal', 19, 'bkth']]\n"
     ]
    }
   ],
   "source": [
    "#update\n",
    "p=[['Ram',21,'ktm'],['Sita',20,'patan'],['gopal',19,'bkth']]\n",
    "p[0][0]='rita'\n",
    "print(p)"
   ]
  },
  {
   "cell_type": "code",
   "execution_count": 20,
   "id": "192e3132",
   "metadata": {},
   "outputs": [
    {
     "data": {
      "text/plain": [
       "[['Ram', 'ktm'], ['Sita', 20, 'patan'], ['gopal', 19, 'bkth']]"
      ]
     },
     "execution_count": 20,
     "metadata": {},
     "output_type": "execute_result"
    }
   ],
   "source": [
    "#remove fxn is not widely used use del keyword mostly\n",
    "p=[['Ram',21,'ktm'],['Sita',20,'patan'],['gopal',19,'bkth']]\n",
    "del p[0][1]\n",
    "p"
   ]
  },
  {
   "cell_type": "code",
   "execution_count": 24,
   "id": "1443f37b",
   "metadata": {},
   "outputs": [
    {
     "data": {
      "text/plain": [
       "[['Ram', 21], ['gopal', 19, 'bkth']]"
      ]
     },
     "execution_count": 24,
     "metadata": {},
     "output_type": "execute_result"
    }
   ],
   "source": [
    "#del keyword utilization\n",
    "p=[['Ram',21,'ktm'],['Sita',20,'patan'],['gopal',19,'bkth']]\n",
    "del p[1]\n",
    "del p[0][2]\n",
    "p"
   ]
  },
  {
   "cell_type": "code",
   "execution_count": 18,
   "id": "344f651b",
   "metadata": {},
   "outputs": [
    {
     "name": "stdout",
     "output_type": "stream",
     "text": [
      "[]\n",
      "[]\n"
     ]
    }
   ],
   "source": [
    "\n",
    "#WAP to convert given string into list inside list ie nested lista='apple 2 200,banana 3 3000'\n",
    "\n",
    "s=\"apple 2 100\",\"banana 3 300\"\n",
    "p=[]\n",
    "\n",
    "l=len(s)\n",
    "for i in range(l):\n",
    "    if s[i]==\",\":\n",
    "        x=s.split()\n",
    "        p.append(x)\n",
    "    print(p)    \n",
    "        \n",
    "        \n"
   ]
  },
  {
   "cell_type": "code",
   "execution_count": 4,
   "id": "45fe25b3",
   "metadata": {},
   "outputs": [
    {
     "name": "stdout",
     "output_type": "stream",
     "text": [
      "Enter the row2\n",
      "Enter the column2\n",
      "Enter the nameram\n",
      "Enter the age21\n",
      "Enter the citykapan\n",
      "Enter the namesita\n",
      "Enter the age22\n",
      "Enter the cityktm\n",
      "Enter the namerama\n",
      "Enter the age19\n",
      "Enter the citykavre\n",
      "Enter the namegita\n",
      "Enter the age23\n",
      "Enter the citychitwan\n",
      "[['ram', 21, 'kapan', 'sita', 22, 'ktm'], ['rama', 19, 'kavre', 'gita', 23, 'chitwan']]\n"
     ]
    }
   ],
   "source": [
    "#WAP to create row and column from user\n",
    "p=[]\n",
    "r=int(input(\"Enter the row\"))\n",
    "c=int(input('Enter the column'))\n",
    "for i in range(r):\n",
    "    q=[]\n",
    "    for j in range(c):\n",
    "        x=input(\"Enter the name\")\n",
    "        y=int(input(\"Enter the age\"))\n",
    "        z=input(\"Enter the city\")\n",
    "        q.append(x)\n",
    "        q.append(y)\n",
    "        q.append(z)\n",
    "    p.append(q)    \n",
    "print(p)    \n",
    "    \n",
    "    #[[ram,20,kapan]\n",
    "    \n",
    "    "
   ]
  },
  {
   "cell_type": "code",
   "execution_count": null,
   "id": "1d62b3c6",
   "metadata": {},
   "outputs": [],
   "source": [
    "## qn1 ko string integer lai integer maconvert garna"
   ]
  },
  {
   "cell_type": "code",
   "execution_count": null,
   "id": "660c8faf",
   "metadata": {},
   "outputs": [
    {
     "name": "stdout",
     "output_type": "stream",
     "text": [
      "Enter the size of row=3\n",
      "Enter the size of column=3\n",
      "Enter name=ram\n",
      "Enter age=21\n",
      "Enter citychabahil\n",
      " \n"
     ]
    }
   ],
   "source": [
    "p=[]\n",
    "r=int(input('Enter the size of row='))\n",
    "c=int(input('Enter the size of column='))\n",
    "\n",
    "for i in range(r):\n",
    "    for j in range(c):\n",
    "        \n",
    "        \n",
    "            "
   ]
  },
  {
   "cell_type": "code",
   "execution_count": 21,
   "id": "fdba9ef8",
   "metadata": {},
   "outputs": [
    {
     "name": "stdout",
     "output_type": "stream",
     "text": [
      "['apple 2 200 400 ', ' banana 3 300 900']\n",
      "['apple', '2', '200', '400']\n",
      "['banana', '3', '300', '900']\n",
      "[['apple', 2, 200, 400], ['banana', 3, 300, 900]]\n"
     ]
    }
   ],
   "source": [
    "# Solution WAP to convert given string into list inside list ie nested list\n",
    "a=\"apple 2 200 400 \\n banana 3 300 900\"\n",
    "b=a.split('\\n')\n",
    "print(b)\n",
    "result=[]\n",
    "for i in b:\n",
    "    x=i.split()\n",
    "    print(x)\n",
    "    qty=int(x[1])#changing into integer\n",
    "    price=int(x[2])\n",
    "    total=int(x[3])\n",
    "    x[1]=qty\n",
    "    x[2]=price\n",
    "    x[3]=total\n",
    "    result.append(x)\n",
    "print(result)    "
   ]
  },
  {
   "cell_type": "code",
   "execution_count": 26,
   "id": "2c038490",
   "metadata": {},
   "outputs": [
    {
     "name": "stdout",
     "output_type": "stream",
     "text": [
      "Enter the row size=2\n",
      "Enter the size of column=2\n",
      "Enter the value of x= for row=0 col=0 1\n",
      "Enter the value of x= for row=0 col=1 2\n",
      "Enter the value of x= for row=1 col=0 3\n",
      "Enter the value of x= for row=1 col=1 2\n",
      "[[1, 2], [3, 2]]\n"
     ]
    }
   ],
   "source": [
    "#WAP to create row and column from user in matrix form\n",
    "matrix=[]\n",
    "r=int(input(\"Enter the row size=\"))\n",
    "c=int(input(\"Enter the size of column=\"))\n",
    "for i in range(r):\n",
    "    mat=[]\n",
    "    for j in range(c):\n",
    "        x=int(input(f\"Enter the value of x= for row={i} col={j} \"))\n",
    "        mat.append(x)\n",
    "    matrix.append(mat)\n",
    "print(matrix)    \n",
    "    \n",
    "        \n",
    "        \n",
    "        "
   ]
  },
  {
   "cell_type": "code",
   "execution_count": 2,
   "id": "3e3328dd",
   "metadata": {},
   "outputs": [
    {
     "name": "stdout",
     "output_type": "stream",
     "text": [
      "Enter the row size=2\n",
      "Enter the marks for roll 0 subject->physics==2\n",
      "Enter the marks for roll 0 subject->chemistry==3\n",
      "Enter the marks for roll 0 subject->maths==4\n",
      "Enter the marks for roll 0 subject->bio==5\n",
      "Enter the marks for roll 0 subject->english==6\n",
      "Enter the marks for roll 1 subject->physics==1\n",
      "Enter the marks for roll 1 subject->chemistry==6\n",
      "Enter the marks for roll 1 subject->maths==7\n",
      "Enter the marks for roll 1 subject->bio==8\n",
      "Enter the marks for roll 1 subject->english==9\n",
      "[[2, 3, 4, 5, 6, 20], [1, 6, 7, 8, 9, 31]]\n"
     ]
    }
   ],
   "source": [
    "#result\n",
    "subject=['physics','chemistry','maths','bio','english']\n",
    "c=len(subject)\n",
    "matrix=[]\n",
    "r=int(input(\"Enter the row size=\"))\n",
    "for i in range(r):\n",
    "    y=[]\n",
    "    total=0\n",
    "    for j in range(c):\n",
    "        x=int(input(f\"Enter the marks for roll {i} subject->{subject[j]}==\"))\n",
    "        total=total+x\n",
    "        y.append(x)\n",
    "    y.append(total)\n",
    "    matrix.append(y)\n",
    "print(matrix)    \n",
    "    "
   ]
  },
  {
   "cell_type": "code",
   "execution_count": 3,
   "id": "e5bab87e",
   "metadata": {},
   "outputs": [
    {
     "data": {
      "text/plain": [
       "'b09213e'"
      ]
     },
     "execution_count": 3,
     "metadata": {},
     "output_type": "execute_result"
    }
   ],
   "source": [
    "a='bcd213e'\n",
    "a=a.replace('cd','09')\n",
    "a"
   ]
  },
  {
   "cell_type": "code",
   "execution_count": null,
   "id": "e780e0e4",
   "metadata": {},
   "outputs": [],
   "source": []
  }
 ],
 "metadata": {
  "kernelspec": {
   "display_name": "Python 3 (ipykernel)",
   "language": "python",
   "name": "python3"
  },
  "language_info": {
   "codemirror_mode": {
    "name": "ipython",
    "version": 3
   },
   "file_extension": ".py",
   "mimetype": "text/x-python",
   "name": "python",
   "nbconvert_exporter": "python",
   "pygments_lexer": "ipython3",
   "version": "3.9.13"
  }
 },
 "nbformat": 4,
 "nbformat_minor": 5
}
