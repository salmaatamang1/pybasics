{
 "cells": [
  {
   "cell_type": "code",
   "execution_count": 1,
   "id": "af8412c2",
   "metadata": {},
   "outputs": [
    {
     "name": "stdout",
     "output_type": "stream",
     "text": [
      "<class 'list'>\n",
      "<class 'list'>\n",
      "<class 'list'>\n"
     ]
    }
   ],
   "source": [
    "#list\n",
    "a=[\"ram\",\"sita\",\"hari\"]\n",
    "b=[]\n",
    "c=list()\n",
    "print(type(a))\n",
    "print(type(b))\n",
    "print(type(c))"
   ]
  },
  {
   "cell_type": "code",
   "execution_count": 12,
   "id": "0131d546",
   "metadata": {},
   "outputs": [
    {
     "name": "stdout",
     "output_type": "stream",
     "text": [
      "['apple', 'hari']\n",
      "sita\n"
     ]
    }
   ],
   "source": [
    "a=['apple',1,2.435,'hari']\n",
    "b=['sita']\n",
    "print(a[0:4:3])\n",
    "print(b[-1])"
   ]
  },
  {
   "cell_type": "code",
   "execution_count": 1,
   "id": "c3acf072",
   "metadata": {},
   "outputs": [
    {
     "name": "stdout",
     "output_type": "stream",
     "text": [
      "[1, 2, 34]\n",
      "[1, 2, 34, 'ram', 'hari']\n",
      "[1, 2, 34, 'ram', 'hari', 1, 2, 34, 'ram', 'hari']\n"
     ]
    }
   ],
   "source": [
    "a=[1,2,34]\n",
    "print(a)\n",
    "b=['ram','hari']\n",
    "c=a+b\n",
    "d=2*c\n",
    "print(c)\n",
    "print(d)"
   ]
  },
  {
   "cell_type": "code",
   "execution_count": null,
   "id": "5d8f5417",
   "metadata": {},
   "outputs": [],
   "source": [
    "#list is for collection of data only\n",
    "#computational performance is not performed\n"
   ]
  },
  {
   "cell_type": "code",
   "execution_count": 3,
   "id": "ba463a2c",
   "metadata": {},
   "outputs": [
    {
     "name": "stdout",
     "output_type": "stream",
     "text": [
      "Enter the value of n=2\n",
      "Enter the value of x1\n",
      "Enter the stringram\n",
      "Enter the value of x2\n",
      "Enter the stringsita\n",
      "[1, 'ram', 2, 'sita']\n"
     ]
    }
   ],
   "source": [
    "l=[]\n",
    "n=int(input(\"Enter the value of n=\"))\n",
    "for i in range(n):\n",
    "    x=int(input(\"Enter the value of x\"))\n",
    "    y=input(\"Enter the string\")\n",
    "    l+=[x]+[y]\n",
    "print(l)    "
   ]
  },
  {
   "cell_type": "code",
   "execution_count": 4,
   "id": "5416b1fb",
   "metadata": {},
   "outputs": [
    {
     "name": "stdout",
     "output_type": "stream",
     "text": [
      "45\n",
      "0\n",
      "81\n"
     ]
    }
   ],
   "source": [
    "a=[3,45,3,6,7,8,9,0]\n",
    "print(max(a))\n",
    "print(min(a))\n",
    "print(sum(a))\n"
   ]
  },
  {
   "cell_type": "code",
   "execution_count": 6,
   "id": "36abeb85",
   "metadata": {},
   "outputs": [
    {
     "name": "stdout",
     "output_type": "stream",
     "text": [
      "[1, 2, 8, 23, 45, 45, 66, 67, 345]\n"
     ]
    }
   ],
   "source": [
    "a=[23,45,1,2,345,67,8,66,45]#sorting\n",
    "a.sort()\n",
    "print(a)\n"
   ]
  },
  {
   "cell_type": "code",
   "execution_count": 7,
   "id": "50696fd2",
   "metadata": {},
   "outputs": [
    {
     "name": "stdout",
     "output_type": "stream",
     "text": [
      "[345, 67, 66, 45, 45, 23, 8, 2, 1]\n"
     ]
    }
   ],
   "source": [
    "a.reverse()\n",
    "print(a)"
   ]
  },
  {
   "cell_type": "code",
   "execution_count": 9,
   "id": "079a9626",
   "metadata": {},
   "outputs": [
    {
     "name": "stdout",
     "output_type": "stream",
     "text": [
      "[',q', 'a', 'c', 'm', 'z']\n"
     ]
    }
   ],
   "source": [
    "b=['a','c','z','q','m']\n",
    "b.sort()\n",
    "print(b)"
   ]
  },
  {
   "cell_type": "code",
   "execution_count": 11,
   "id": "a5233a08",
   "metadata": {},
   "outputs": [
    {
     "name": "stdout",
     "output_type": "stream",
     "text": [
      "['B', 'Z', 'a', 'c', 'w']\n"
     ]
    }
   ],
   "source": [
    "a=['a','B','Z','c','w']\n",
    "a.sort()\n",
    "print(a)"
   ]
  },
  {
   "cell_type": "code",
   "execution_count": 1,
   "id": "85e9de47",
   "metadata": {},
   "outputs": [
    {
     "name": "stdout",
     "output_type": "stream",
     "text": [
      "['ram', 'hari', 'gita']\n"
     ]
    }
   ],
   "source": [
    "x=['ram','hari','gita']\n",
    "x[0].lower()\n",
    "x[1].upper()#ask to sir\n",
    "print(x)"
   ]
  },
  {
   "cell_type": "code",
   "execution_count": 19,
   "id": "2ea2f7ef",
   "metadata": {},
   "outputs": [
    {
     "name": "stdout",
     "output_type": "stream",
     "text": [
      "ram\n",
      "hari\n",
      "sita\n",
      "gita\n",
      "sita\n",
      "sita\n"
     ]
    }
   ],
   "source": [
    "n=['ram','hari','sita','gita','sita','sita']\n",
    "for i in n:\n",
    "    print(i)"
   ]
  },
  {
   "cell_type": "code",
   "execution_count": 20,
   "id": "582101e3",
   "metadata": {},
   "outputs": [
    {
     "name": "stdout",
     "output_type": "stream",
     "text": [
      "yes\n",
      "3\n"
     ]
    }
   ],
   "source": [
    "if \"ram\" in n:\n",
    "    print(\"yes\")\n",
    "    print(n.count(\"sita\"))\n",
    "else:\n",
    "    print(\"no\")"
   ]
  },
  {
   "cell_type": "code",
   "execution_count": 21,
   "id": "d15d2248",
   "metadata": {},
   "outputs": [
    {
     "name": "stdout",
     "output_type": "stream",
     "text": [
      "[1, 2, 3, 4, 5, 6, 7]\n"
     ]
    }
   ],
   "source": [
    "a=[1,2,3,4,5,6]\n",
    "a.append(7)\n",
    "print(a)"
   ]
  },
  {
   "cell_type": "code",
   "execution_count": 22,
   "id": "7bf31ce7",
   "metadata": {},
   "outputs": [
    {
     "name": "stdout",
     "output_type": "stream",
     "text": [
      "[1, 2, 3, 4, 5, 6, 7, 5]\n"
     ]
    }
   ],
   "source": [
    "a.insert(8,a[4])\n",
    "print(a)"
   ]
  },
  {
   "cell_type": "code",
   "execution_count": 25,
   "id": "fb3c2961",
   "metadata": {},
   "outputs": [
    {
     "name": "stdout",
     "output_type": "stream",
     "text": [
      "['a', 'b', 'c', 1, 2, 3, 4]\n"
     ]
    }
   ],
   "source": [
    "a=['a',\"b\",'c']\n",
    "b=[1,2,3,4]\n",
    "a.extend(b)\n",
    "print(a)"
   ]
  },
  {
   "cell_type": "code",
   "execution_count": 30,
   "id": "e4b38781",
   "metadata": {},
   "outputs": [
    {
     "name": "stdout",
     "output_type": "stream",
     "text": [
      "['A', 'p', 'p', 'l', 'e']\n",
      "['A', 'p', 'p', 'l', 'e']\n"
     ]
    }
   ],
   "source": [
    "a='Apple'\n",
    "b=list(a)\n",
    "c=str(b)\n",
    "print(b)\n",
    "print(c)\n"
   ]
  },
  {
   "cell_type": "code",
   "execution_count": 33,
   "id": "e94678e8",
   "metadata": {},
   "outputs": [
    {
     "name": "stdout",
     "output_type": "stream",
     "text": [
      "Enter the range2\n",
      "Enter stringa\n",
      "Enter stringb\n",
      "['a', 'b']\n"
     ]
    }
   ],
   "source": [
    "l=[]\n",
    "n=int(input('Enter the range'))\n",
    "for i in range(n):\n",
    "    x=input(\"Enter string\")\n",
    "    l.append(x)\n",
    "print(l)    "
   ]
  },
  {
   "cell_type": "code",
   "execution_count": 35,
   "id": "d336d9ec",
   "metadata": {},
   "outputs": [
    {
     "name": "stdout",
     "output_type": "stream",
     "text": [
      "['A', 'cde', 'd', 'e']\n"
     ]
    }
   ],
   "source": [
    "#update and editing\n",
    "a=['a','cde','d','e']\n",
    "a[0]=a[0].upper()\n",
    "print(a)"
   ]
  },
  {
   "cell_type": "code",
   "execution_count": 39,
   "id": "d98c4e4e",
   "metadata": {},
   "outputs": [
    {
     "name": "stdout",
     "output_type": "stream",
     "text": [
      "[2, 4, 5, 6, 7]\n"
     ]
    }
   ],
   "source": [
    "#deleting del is a keyword remove()pop()\n",
    "a=[1,2,3,4,5,6,7]\n",
    "del a[0:4:2]\n",
    "print(a)\n"
   ]
  },
  {
   "cell_type": "code",
   "execution_count": 45,
   "id": "c93e90cc",
   "metadata": {},
   "outputs": [
    {
     "name": "stdout",
     "output_type": "stream",
     "text": [
      "[1, 7, 2, 4, 5, 6, 7, 8, 7] 9\n"
     ]
    }
   ],
   "source": [
    "#pop()\n",
    "a=[1,7,2,3,4,5,6,7,8,7,9]\n",
    "b=a.pop(3)\n",
    "b=a.pop()\n",
    "print(a,b)"
   ]
  },
  {
   "cell_type": "code",
   "execution_count": 46,
   "id": "6e0a9a9f",
   "metadata": {},
   "outputs": [
    {
     "name": "stdout",
     "output_type": "stream",
     "text": [
      "[1, 2, 4, 5, 6, 7, 8, 7]\n"
     ]
    }
   ],
   "source": [
    "a.remove(7)\n",
    "print(a)"
   ]
  },
  {
   "cell_type": "code",
   "execution_count": 4,
   "id": "9228bebc",
   "metadata": {},
   "outputs": [
    {
     "name": "stdout",
     "output_type": "stream",
     "text": [
      "0\n",
      "3\n",
      "7\n",
      "10\n",
      "13\n"
     ]
    }
   ],
   "source": [
    "#wap to findd the index of list_item\n",
    "a=[0,1,2,0,3,4,5,0,6,7,0,8,9,0]\n",
    "l=len(a)\n",
    "for i in range(l):\n",
    "    if a[i]==0:\n",
    "        print(i)\n"
   ]
  },
  {
   "cell_type": "code",
   "execution_count": 14,
   "id": "40e83c0e",
   "metadata": {},
   "outputs": [
    {
     "name": "stdout",
     "output_type": "stream",
     "text": [
      "[1, 2, 1, 2, 3, 4, 5, 6, 7, 8]\n",
      "[2, 1, 2, 3, 4, 5, 6, 7, 8]\n"
     ]
    }
   ],
   "source": [
    "#wap to remove all duplicate value from list\n",
    "a=[1,2,3,1,2,3,4,5,6,7,8]\n",
    "for i in a:\n",
    "    if i==2:\n",
    "        a.remove(a[i])\n",
    "        print(a)#since list is mutable so length changes"
   ]
  },
  {
   "cell_type": "code",
   "execution_count": 10,
   "id": "178219a6",
   "metadata": {},
   "outputs": [
    {
     "name": "stdout",
     "output_type": "stream",
     "text": [
      "Enter the range3\n",
      "Enter the stringa\n",
      "Enter the stringb\n",
      "Enter the stringc\n",
      "item entered= c its index is= 2\n"
     ]
    }
   ],
   "source": [
    "#input from user and \n",
    "a=[]\n",
    "n=int(input(\"Enter the range\"))\n",
    "for i in range(n):\n",
    "    x=input(\"Enter the string\")\n",
    "    a+=x\n",
    "print('item entered=',a[i],'its index is=',i)   "
   ]
  },
  {
   "cell_type": "code",
   "execution_count": 8,
   "id": "cd311834",
   "metadata": {},
   "outputs": [
    {
     "name": "stdout",
     "output_type": "stream",
     "text": [
      "Enter the string=a\n",
      "0\n",
      "4\n",
      "5\n"
     ]
    }
   ],
   "source": [
    "#soln of homework\n",
    "#calculation of index from list\n",
    "a=['a','b','c','d','a','a']\n",
    "b=input(\"Enter the string=\")\n",
    "l=len(a)\n",
    "for i in range(l):\n",
    "    if a[i]==b:\n",
    "        print(i)"
   ]
  },
  {
   "cell_type": "code",
   "execution_count": 9,
   "id": "db96c222",
   "metadata": {},
   "outputs": [
    {
     "name": "stdout",
     "output_type": "stream",
     "text": [
      "Enter the string=a\n",
      "['b', 'c', 'd']\n"
     ]
    }
   ],
   "source": [
    "#removing of duplicated value\n",
    "a=['a','b','c','d','a','a']\n",
    "b=input(\"Enter the string=\")\n",
    "l=a.count(b)\n",
    "for i in range(l):\n",
    "    a.remove(b)\n",
    "print(a)    "
   ]
  },
  {
   "cell_type": "code",
   "execution_count": 13,
   "id": "135939b1",
   "metadata": {},
   "outputs": [
    {
     "name": "stdout",
     "output_type": "stream",
     "text": [
      "Enter the stringa\n",
      "['A', 's', 'S', 'c', 'x']\n"
     ]
    }
   ],
   "source": [
    "a=['A',\"a\",'s','S',\"c\",'x']\n",
    "b=input(\"Enter the string\").lower()\n",
    "l=a.count(b)\n",
    "for i in a:\n",
    "    if i.lower()==b:#note if we use range the len of list changes and create problem of out of the range\n",
    "        a.remove(b)\n",
    "print(a)        \n",
    "    "
   ]
  },
  {
   "cell_type": "code",
   "execution_count": 3,
   "id": "fc17e699",
   "metadata": {},
   "outputs": [
    {
     "name": "stdout",
     "output_type": "stream",
     "text": [
      "Enter thev stringball\n",
      "['apple', 'cat', 'dog']\n"
     ]
    }
   ],
   "source": [
    "#Wap to remove the list item from list\n",
    "a=['apple','Ball','cat','dog']\n",
    "b=input(\"Enter thev string\")\n",
    "for i in a:\n",
    "    if i.lower()==b.lower():\n",
    "        a.remove(i)\n",
    "print(a)        "
   ]
  },
  {
   "cell_type": "code",
   "execution_count": 7,
   "id": "aa91eecd",
   "metadata": {},
   "outputs": [
    {
     "name": "stdout",
     "output_type": "stream",
     "text": [
      "Enter thev stringCAT\n",
      "['apple', 'Ball', 'dog']\n"
     ]
    }
   ],
   "source": [
    "#alternate method\n",
    "a=['apple','Ball','cat','dog']\n",
    "b=input(\"Enter thev string\")\n",
    "c=0\n",
    "for i in a:\n",
    "    if i.lower()==b.lower():\n",
    "        del a[c]\n",
    "    c=c+1\n",
    "        \n",
    "print(a)        \n",
    "        "
   ]
  },
  {
   "cell_type": "code",
   "execution_count": null,
   "id": "bfb01b95",
   "metadata": {},
   "outputs": [],
   "source": []
  }
 ],
 "metadata": {
  "kernelspec": {
   "display_name": "Python 3 (ipykernel)",
   "language": "python",
   "name": "python3"
  },
  "language_info": {
   "codemirror_mode": {
    "name": "ipython",
    "version": 3
   },
   "file_extension": ".py",
   "mimetype": "text/x-python",
   "name": "python",
   "nbconvert_exporter": "python",
   "pygments_lexer": "ipython3",
   "version": "3.9.13"
  }
 },
 "nbformat": 4,
 "nbformat_minor": 5
}
