{
 "cells": [
  {
   "cell_type": "code",
   "execution_count": 1,
   "id": "95ee3bff",
   "metadata": {},
   "outputs": [],
   "source": [
    "#recursive function\n",
    "def hello():\n",
    "    print(\"Hello world\")\n",
    "    hello()\n",
    "hello()    \n",
    "\n"
   ]
  },
  {
   "cell_type": "code",
   "execution_count": 2,
   "id": "0f53c757",
   "metadata": {},
   "outputs": [
    {
     "name": "stdout",
     "output_type": "stream",
     "text": [
      "Hello world\n",
      "Enter y for more print=y\n",
      "Hello world\n",
      "Enter y for more print=a\n"
     ]
    }
   ],
   "source": [
    "def hello():\n",
    "    print(\"Hello world\")\n",
    "    x=input(\"Enter y for more print=\")\n",
    "    if x=='y':#if input value is y then only print \"hello world\"\n",
    "        hello()\n",
    "hello() "
   ]
  },
  {
   "cell_type": "code",
   "execution_count": 1,
   "id": "39d87a76",
   "metadata": {},
   "outputs": [
    {
     "name": "stdout",
     "output_type": "stream",
     "text": [
      "Welcome to our website\n",
      "Enter the name=admin\n",
      "enter the password=admin\n",
      "YOu are loged  in 1 attempted\n"
     ]
    }
   ],
   "source": [
    "user_name='admin'\n",
    "password='admin'\n",
    "count=1\n",
    "print(\"Welcome to our website\")\n",
    "def login():\n",
    "    global count# with in a function if we perform increment or decrement we will make it global\n",
    "    username=input('Enter the name=')\n",
    "    passwords=input(\"enter the password=\")\n",
    "    if(username==user_name) and (passwords==password):\n",
    "        print(f\"YOu are loged  in {count} attempted\")\n",
    "    \n",
    "    else:\n",
    "        \n",
    "        print('error')\n",
    "        count=count+1\n",
    "        login()\n",
    "       \n",
    "login()        \n",
    "        \n",
    "        \n",
    "        \n",
    "        \n",
    "    \n",
    "    \n"
   ]
  },
  {
   "cell_type": "code",
   "execution_count": null,
   "id": "619200eb",
   "metadata": {},
   "outputs": [],
   "source": []
  }
 ],
 "metadata": {
  "kernelspec": {
   "display_name": "Python 3 (ipykernel)",
   "language": "python",
   "name": "python3"
  },
  "language_info": {
   "codemirror_mode": {
    "name": "ipython",
    "version": 3
   },
   "file_extension": ".py",
   "mimetype": "text/x-python",
   "name": "python",
   "nbconvert_exporter": "python",
   "pygments_lexer": "ipython3",
   "version": "3.9.13"
  }
 },
 "nbformat": 4,
 "nbformat_minor": 5
}
